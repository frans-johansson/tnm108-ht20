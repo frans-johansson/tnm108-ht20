{
 "metadata": {
  "language_info": {
   "codemirror_mode": {
    "name": "ipython",
    "version": 3
   },
   "file_extension": ".py",
   "mimetype": "text/x-python",
   "name": "python",
   "nbconvert_exporter": "python",
   "pygments_lexer": "ipython3",
   "version": "3.8.2-final"
  },
  "orig_nbformat": 2,
  "kernelspec": {
   "name": "python38264bitc3d430713e174de6a5f6e6297641020f",
   "display_name": "Python 3.8.2 64-bit"
  }
 },
 "nbformat": 4,
 "nbformat_minor": 2,
 "cells": [
  {
   "cell_type": "markdown",
   "metadata": {},
   "source": [
    "# Preparing, manipulating and visualizing data in Python\n",
    "This notebook contains an introduction to using NumPy, Pandas and Matplotlib for machine learning purposes."
   ]
  },
  {
   "cell_type": "markdown",
   "metadata": {},
   "source": [
    "## Imports\n",
    "Let's begin by importing the external dependencies we need"
   ]
  },
  {
   "cell_type": "code",
   "execution_count": 145,
   "metadata": {},
   "outputs": [],
   "source": [
    "import time\n",
    "import random\n",
    "import numpy as np\n",
    "import pandas as pd\n",
    "import matplotlib.pyplot as plt"
   ]
  },
  {
   "cell_type": "markdown",
   "metadata": {},
   "source": [
    "## NumPy\n",
    "This module primarily concerns creating arrays of various dimensions and performing calculations and other operations on these in an effiecient manner. There is also a submodule for linear algebra algorithms and some simple statistical functions such mean, median and sum."
   ]
  },
  {
   "cell_type": "markdown",
   "metadata": {},
   "source": [
    "### Timing some functions\n",
    "We can create a simple decorator function, allowing us to measure the time of other functions to run by prepending them with `@timer` (which is really just syntactic sugar for calling our function like this: `timer(our_function)(our_function_args)`, every time)"
   ]
  },
  {
   "cell_type": "code",
   "execution_count": 3,
   "metadata": {},
   "outputs": [],
   "source": [
    "def timer(func):\n",
    "    def do_timing(*args, **kwargs):\n",
    "        start = time.time()\n",
    "        func_ret = func(*args, **kwargs)\n",
    "        end = time.time()\n",
    "        print(\"{} took {:.3f}s to run\".format(func.__name__, end-start))\n",
    "        return func_ret\n",
    "    return do_timing"
   ]
  },
  {
   "cell_type": "markdown",
   "metadata": {},
   "source": [
    "Using the timer decorator we just created, we can examine how efficient NumPy really is compared to vanilla Python."
   ]
  },
  {
   "cell_type": "code",
   "execution_count": 4,
   "metadata": {},
   "outputs": [],
   "source": [
    "@timer\n",
    "def sum_trad(upper):\n",
    "    X = range(upper)\n",
    "    Y = range(upper)\n",
    "    Z = []\n",
    "    for i in range(len(X)):\n",
    "        Z.append(X[i] + Y[i])\n",
    "\n",
    "@timer\n",
    "def sum_compr(upper):\n",
    "    X = range(upper)\n",
    "    Y = range(upper)\n",
    "    Z = [x + y for (x, y) in zip(X, Y)]\n",
    "\n",
    "@timer\n",
    "def sum_np(upper):\n",
    "    X = np.arange(upper)\n",
    "    Y = np.arange(upper)\n",
    "    Z = X + Y"
   ]
  },
  {
   "cell_type": "code",
   "execution_count": 5,
   "metadata": {
    "tags": []
   },
   "outputs": [
    {
     "output_type": "stream",
     "name": "stdout",
     "text": "sum_trad took 1.762s to run\nsum_compr took 0.638s to run\nsum_np took 0.051s to run\n"
    }
   ],
   "source": [
    "upper = 10000000\n",
    "sum_trad(upper)\n",
    "sum_compr(upper)\n",
    "sum_np(upper)"
   ]
  },
  {
   "cell_type": "markdown",
   "metadata": {},
   "source": [
    "### Creating arrays in NumPy\n",
    "Unlike Python lists, NumPy arrays have a specified type of elements they hold, i.e. while a Python list can happily store strings and numbers together, a NumPy array will not."
   ]
  },
  {
   "cell_type": "code",
   "execution_count": 6,
   "metadata": {
    "tags": []
   },
   "outputs": [
    {
     "output_type": "stream",
     "name": "stdout",
     "text": "[1. 2. 3. 4.]\n<class 'numpy.ndarray'>\n"
    }
   ],
   "source": [
    "arr = np.array([1, 2, 3, 4], float)\n",
    "\n",
    "print(arr)\n",
    "print(type(arr))"
   ]
  },
  {
   "cell_type": "markdown",
   "metadata": {},
   "source": [
    "These arrays can be quite simply transformed into normal lists."
   ]
  },
  {
   "cell_type": "code",
   "execution_count": 7,
   "metadata": {
    "tags": []
   },
   "outputs": [
    {
     "output_type": "stream",
     "name": "stdout",
     "text": "[1.0, 2.0, 3.0, 4.0]\n<class 'list'>\n"
    }
   ],
   "source": [
    "# arr_list = list(arr)\n",
    "arr_list = arr.tolist()\n",
    "\n",
    "print(arr_list)\n",
    "print(type(arr_list))"
   ]
  },
  {
   "cell_type": "markdown",
   "metadata": {},
   "source": [
    "Assigning lists between variables does not create new lists, but rather creates a new reference to the same object in memory."
   ]
  },
  {
   "cell_type": "code",
   "execution_count": 8,
   "metadata": {
    "tags": []
   },
   "outputs": [
    {
     "output_type": "stream",
     "name": "stdout",
     "text": "[0 2 3 4]\n[0 2 3 4]\n"
    }
   ],
   "source": [
    "arr1 = np.array([1, 2, 3, 4])\n",
    "arr2 = arr1\n",
    "\n",
    "arr2[0] = 0\n",
    "\n",
    "print(arr1)\n",
    "print(arr2)"
   ]
  },
  {
   "cell_type": "markdown",
   "metadata": {},
   "source": [
    "To create a new copy of an array, we have to use the `copy` method."
   ]
  },
  {
   "cell_type": "code",
   "execution_count": 9,
   "metadata": {
    "tags": []
   },
   "outputs": [
    {
     "output_type": "stream",
     "name": "stdout",
     "text": "[1 2 3 4]\n[0 2 3 4]\n"
    }
   ],
   "source": [
    "arr1 = np.array([1, 2, 3, 4])\n",
    "arr2 = arr1.copy()\n",
    "\n",
    "arr2[0] = 0\n",
    "\n",
    "print(arr1)\n",
    "print(arr2)"
   ]
  },
  {
   "cell_type": "markdown",
   "metadata": {},
   "source": [
    "The NumPy array also contains a few convenience functions allowing us to easily generate certain kinds of arrays and matrices. Some of these include:\n",
    "- Filling an array with one given value\n",
    "- Generating arrays with random data\n",
    "- Generating identity matrices\n",
    "- Generating arrays or matrices with all ones or all zeros\n",
    "- Combining arrays vertically to create a kind of row matrix"
   ]
  },
  {
   "cell_type": "code",
   "execution_count": 10,
   "metadata": {
    "tags": []
   },
   "outputs": [
    {
     "output_type": "stream",
     "name": "stdout",
     "text": "Filling an array with one given value\n[1. 1. 1. 1.]\n\nGenerating arrays with random data\n[2 0 3 1]\n[-0.44961339  2.404169    0.80546911  0.18388845]\n[0.3821989  0.85414633 0.52829599 0.1911083 ]\n\nGenerating identity matrices\n[[1. 0. 0. 0.]\n [0. 1. 0. 0.]\n [0. 0. 1. 0.]\n [0. 0. 0. 1.]]\n[[0. 1. 0. 0.]\n [0. 0. 1. 0.]\n [0. 0. 0. 1.]]\n\nGenerating arrays or matrices with all ones or all zeros\n[[0. 0. 0.]\n [0. 0. 0.]]\n[1. 1. 1. 1.]\n\nCombining arrays vertically to create a kind of row matrix\n[[1 2 3]\n [4 5 6]]\n"
    }
   ],
   "source": [
    "print(\"Filling an array with one given value\")\n",
    "arr = np.array([1, 2, 3, 4], float)\n",
    "arr.fill(1)\n",
    "print(arr)\n",
    "\n",
    "print(\"\\nGenerating arrays with random data\")\n",
    "print(np.random.permutation(4))\n",
    "print(np.random.normal(0, 1, 4))\n",
    "print(np.random.random(4))\n",
    "\n",
    "print(\"\\nGenerating identity matrices\")\n",
    "print(np.identity(4))\n",
    "print(np.eye(3, 4, 1))\n",
    "\n",
    "print(\"\\nGenerating arrays or matrices with all ones or all zeros\")\n",
    "print(np.zeros([2, 3]))\n",
    "print(np.ones(4))\n",
    "\n",
    "print(\"\\nCombining arrays vertically to create a kind of row matrix\")\n",
    "arr1 = np.array([1, 2, 3])\n",
    "arr2 = np.array([4, 5, 6])\n",
    "print(np.vstack([arr1, arr2]))"
   ]
  },
  {
   "cell_type": "markdown",
   "metadata": {},
   "source": [
    "### Manipulating arrays\n",
    "Getting to the core of data science (except not quite because we still haven't gotten to Pandas yet)\n",
    "\n",
    "Some noteworthy manipulations we can perform include:\n",
    "- Slicing\n",
    "- Sorting and arg sorting\n",
    "- Shuffling\n",
    "- Testing for equality"
   ]
  },
  {
   "cell_type": "code",
   "execution_count": 11,
   "metadata": {
    "tags": []
   },
   "outputs": [
    {
     "output_type": "stream",
     "name": "stdout",
     "text": "Slicing\n[1:3] [6. 5.]\n[1:] [6. 5. 6.]\n[:3] [2. 6. 5.]\n[:-1] [2. 6. 5.]\n[::-1] (step backwards from end to start) [6. 5. 6. 2.]\n\nSorting and arg sorting\nSort: [2. 5. 6. 6.]\nArg sort (indices that would sort the array): [0 2 1 3]\n\nShuffle\n[5. 2. 6. 6.]\n\nTesting for equality\narr == [1., 2., 3.]: False\n"
    }
   ],
   "source": [
    "arr = np.array([2., 6., 5., 6.])\n",
    "\n",
    "print(\"Slicing\")\n",
    "print(f\"[1:3] {arr[1:3]}\")\n",
    "print(f\"[1:] {arr[1:]}\")\n",
    "print(f\"[:3] {arr[:3]}\")\n",
    "print(f\"[:-1] {arr[:-1]}\")\n",
    "print(f\"[::-1] (step backwards from end to start) {arr[::-1]}\")\n",
    "\n",
    "print(\"\\nSorting and arg sorting\")\n",
    "print(f\"Sort: {np.sort(arr)}\")\n",
    "print(f\"Arg sort (indices that would sort the array): {np.argsort(arr)}\")\n",
    "\n",
    "print(\"\\nShuffle\")\n",
    "np.random.shuffle(arr)\n",
    "print(arr)\n",
    "\n",
    "print(\"\\nTesting for equality\")\n",
    "print(f\"arr == [1., 2., 3.]: {np.array_equal(arr, np.array([1., 2., 3.]))}\")"
   ]
  },
  {
   "cell_type": "markdown",
   "metadata": {},
   "source": [
    "### Matrices\n",
    "We can also create matrices by nesting several lists into one larger list when using `np.array()`. These are later indexed using two indices as follows: `matrix[row, col]`. We can also use slicing on matrices, using `:` to represent the entire row or column."
   ]
  },
  {
   "cell_type": "code",
   "execution_count": 12,
   "metadata": {
    "tags": []
   },
   "outputs": [
    {
     "output_type": "stream",
     "name": "stdout",
     "text": "Matrix:\n[[1 2 3 4]\n [5 6 7 8]]\n\nUse slice indexing to get an entire row or column: \n[1 2 3 4]\n\nFlatten a matrix back to a one-dimensional array:\n[1 2 3 4 5 6 7 8]\n"
    }
   ],
   "source": [
    "matrix = np.array([[1, 2, 3, 4], [5, 6, 7, 8]])\n",
    "print(\"Matrix:\")\n",
    "print(matrix)\n",
    "\n",
    "print(\"\\nUse slice indexing to get an entire row or column: \")\n",
    "print(matrix[0, :])\n",
    "\n",
    "print(\"\\nFlatten a matrix back to a one-dimensional array:\")\n",
    "print(matrix.flatten())"
   ]
  },
  {
   "cell_type": "markdown",
   "metadata": {},
   "source": [
    "Some useful operations on matrices (and also arrays) include:\n",
    "- Getting the shape\n",
    "- Reshaping\n",
    "- Getting the traspose\n",
    "- Concatenation"
   ]
  },
  {
   "cell_type": "code",
   "execution_count": 13,
   "metadata": {
    "tags": []
   },
   "outputs": [
    {
     "output_type": "stream",
     "name": "stdout",
     "text": "Shape of the matrix: (2, 3)\n\nReshaping a matrix\n[[1]\n [2]\n [3]\n [4]\n [5]\n [6]]\n\nGetting the transpose\n[[1 4]\n [2 5]\n [3 6]]\n\nConcatenating matrices (this works for arrays as well)\n[[11 12]\n [13 14]\n [21 22]\n [23 24]]\n[[11 12 21 22]\n [13 14 23 24]]\n"
    }
   ],
   "source": [
    "matrix = np.array([[1, 2, 3], [4, 5, 6]])\n",
    "\n",
    "print(f\"Shape of the matrix: {matrix.shape}\")\n",
    "\n",
    "print(\"\\nReshaping a matrix\")\n",
    "print(matrix.reshape((6,1)))\n",
    "\n",
    "print(\"\\nGetting the transpose\")\n",
    "print(matrix.transpose())\n",
    "\n",
    "print(\"\\nConcatenating matrices (this works for arrays as well)\")\n",
    "\n",
    "arr1 = np.array([[11, 12], [13, 14]])\n",
    "arr2 = np.array([[21, 22], [23, 24]])\n",
    "\n",
    "print(np.concatenate((arr1, arr2), axis=0))\n",
    "print(np.concatenate((arr1, arr2), axis=1))"
   ]
  },
  {
   "cell_type": "markdown",
   "metadata": {},
   "source": [
    "### Arithmetic operations on NumPy arrays\n",
    "Common operations such as addition, subtraction, multiplication and division are all supported on an **element-wise** manner with NumPy arrays. This means adding two arrays will yeild a new array with the sum of each element from the two original arrays:\n",
    "\n",
    "`[1, 2, 3] + [4, 5, 6] = [5, 7, 9]`\n",
    "\n",
    "**Note:** this applies to matrices as well, which means matrix multiplication will not work simply by multiplying two matrices.\n",
    "\n",
    "If the arrays are not the same size, the smaller one can be *\"broadcasted\"* onto the larger one. This essentially means the smaller one is replicated to fill the size of the larger one. The axis of this replication can be explicitly stated using slices and `np.newaxis`"
   ]
  },
  {
   "cell_type": "code",
   "execution_count": 14,
   "metadata": {
    "tags": []
   },
   "outputs": [
    {
     "output_type": "stream",
     "name": "stdout",
     "text": "Broadcasting example\n[[11 13]\n [13 15]\n [15 17]\n [17 19]]\n"
    }
   ],
   "source": [
    "print(\"Broadcasting example\")\n",
    "arr1 = np.array([[1, 2], [3, 4], [5, 6], [7, 8]])\n",
    "arr2 = np.array([10, 11])\n",
    "\n",
    "print(arr1 + arr2)"
   ]
  },
  {
   "cell_type": "markdown",
   "metadata": {},
   "source": [
    "### Boolean masking and indexing\n",
    "NumPy arrays can be indexed by boolean masks: arrays with `True` or `False` determining which elements to pick and which to ignore. We can use this to \"query\" our arrays. We can compose queries of several boolean expressions using functions like `np.logical_and`\n",
    "\n",
    "We can also index into arrays using lists or arrays of integer indices. Like the following snippet: `arr[[1, 0, 0, 2, 1]]` which would return a new array with the 2nd, 1st, 1st, 3rd and 2nd element from `arr`."
   ]
  },
  {
   "cell_type": "code",
   "execution_count": 15,
   "metadata": {
    "tags": []
   },
   "outputs": [
    {
     "output_type": "stream",
     "name": "stdout",
     "text": "Example of creating a mask by querying\n[[False False]\n [ True  True]]\n\nThe mask can then be used to index the array\n[3 4]\n\nCreating a mask with several queries\n[[False False]\n [ True False]]\n"
    }
   ],
   "source": [
    "matrix = np.array([[1, 2], [3, 4]])\n",
    "\n",
    "print(\"Example of creating a mask by querying\")\n",
    "print(matrix > 2)\n",
    "\n",
    "print(\"\\nThe mask can then be used to index the array\")\n",
    "print(matrix[matrix > 2])\n",
    "\n",
    "print(\"\\nCreating a mask with several queries\")\n",
    "print(np.logical_and(matrix > 2, matrix < 4))"
   ]
  },
  {
   "cell_type": "markdown",
   "metadata": {},
   "source": [
    "Two more useful functions to keep in mind here are `take` and `put`, which allow us to index into arrays and modify content at specific indices of an array respectively. Notice that `put` will essentially broadcast the inserted array as the number of indices increase. Try replacing the list of indices with something like `range(len(arr1))` and see what happens!"
   ]
  },
  {
   "cell_type": "code",
   "execution_count": 16,
   "metadata": {
    "tags": []
   },
   "outputs": [
    {
     "output_type": "stream",
     "name": "stdout",
     "text": "Example of take\n[1 1 2 3]\n\nExample of put\n[10  2 20  4 30]\n"
    }
   ],
   "source": [
    "arr1 = np.array([1, 2, 3, 4, 5])\n",
    "arr2 = np.array([10, 20, 30])\n",
    "\n",
    "print(\"Example of take\")\n",
    "print(arr1.take([0, 0, 1, 2]))\n",
    "\n",
    "print(\"\\nExample of put\")\n",
    "arr1.put([0, 2, 4], arr2)\n",
    "print(arr1)"
   ]
  },
  {
   "cell_type": "markdown",
   "metadata": {},
   "source": [
    "### Linear algebra operations\n",
    "We've already seen the transpose in action, but NumPy actually supports even more linear algebra operations (thankfully, this means we don't have to implement them ourselves). Some of these include:\n",
    "- Dot products\n",
    "- Inner and outer products\n",
    "- Cross products\n",
    "\n",
    "In the submodule `linalg` to NumPy we find even more goodies:\n",
    "- Determinants\n",
    "- Inverse matrices\n",
    "- Eigenvalues and eigenvectors"
   ]
  },
  {
   "cell_type": "code",
   "execution_count": 17,
   "metadata": {
    "tags": []
   },
   "outputs": [
    {
     "output_type": "stream",
     "name": "stdout",
     "text": "Example using dot product with the transpose\n[[  5  14  23]\n [ 14  50  86]\n [ 23  86 149]]\n\nSome vector operations\nInner product: 20\nDot product: 20\nOuter product:\n[[ 2  3  4]\n [ 4  6  8]\n [ 6  9 12]]\nCross product:\n[-1  2 -1]\n\nSome functions from the linalg module\nDeterminant: -2852.000000000003\nInverse matrix:\n[[ 0.00070126  0.01542777 -0.02244039]\n [ 0.26192146 -0.23772791  0.11851332]\n [-0.48141655  0.4088359  -0.09467041]]\nEigenvalues: [107.99587441  11.33411853  -2.32999294]\nEigenvectors:\n[[-0.57891525 -0.21517959  0.06319955]\n [-0.75804695  0.17632618 -0.58635713]\n [-0.30036971  0.96052424  0.80758352]]\n"
    }
   ],
   "source": [
    "X = np.arange(9).reshape((3, 3))\n",
    "\n",
    "print(\"Example using dot product with the transpose\")\n",
    "print(np.dot(X, X.T))\n",
    "\n",
    "print(\"\\nSome vector operations\")\n",
    "vec1 = np.array([1, 2, 3])\n",
    "vec2 = np.array([2, 3, 4])\n",
    "\n",
    "print(f\"Inner product: {np.inner(vec1, vec2)}\")\n",
    "print(f\"Dot product: {np.dot(vec1, vec2)}\")\n",
    "print(\"Outer product:\")\n",
    "print(np.outer(vec1, vec2))\n",
    "print(\"Cross product:\")\n",
    "print(np.cross(vec1, vec2))\n",
    "\n",
    "print(\"\\nSome functions from the linalg module\")\n",
    "Y = np.array([[74, 22, 10], [92, 31, 17], [21, 22, 12]], float)\n",
    "\n",
    "print(f\"Determinant: {np.linalg.det(Y)}\")\n",
    "print(\"Inverse matrix:\")\n",
    "print(np.linalg.inv(Y))\n",
    "\n",
    "vals, vecs = np.linalg.eig(Y)\n",
    "print(f\"Eigenvalues: {vals}\")\n",
    "print(\"Eigenvectors:\")\n",
    "print(vecs)\n"
   ]
  },
  {
   "cell_type": "markdown",
   "metadata": {},
   "source": [
    "### Statistics\n",
    "NumPy also provides us with a few convenient mathematical functions useful for statistics such as the mean, median and sum of an array."
   ]
  },
  {
   "cell_type": "code",
   "execution_count": 18,
   "metadata": {
    "tags": []
   },
   "outputs": [
    {
     "output_type": "stream",
     "name": "stdout",
     "text": "Sum: 13.626020317465375\nMean: 0.425813134920793\nMedian: 0.45504839311108136\nMax: 0.9462871121093517\nArgmax (index): 10\nMin: 0.004955747717113379\nArgmin (index): 13\n"
    }
   ],
   "source": [
    "arr = np.random.rand(8, 4)\n",
    "\n",
    "print(f\"Sum: {np.sum(arr)}\")\n",
    "print(f\"Mean: {np.mean(arr)}\")\n",
    "print(f\"Median: {np.median(arr)}\")\n",
    "print(f\"Max: {np.max(arr)}\")\n",
    "print(f\"Argmax (index): {np.argmax(arr)}\")\n",
    "print(f\"Min: {np.min(arr)}\")\n",
    "print(f\"Argmin (index): {np.argmin(arr)}\")"
   ]
  },
  {
   "cell_type": "markdown",
   "metadata": {},
   "source": [
    "## Pandas\n",
    "Building on the NumPy library, Pandas gives us a more high level approach to manipulating data in the form of the `DataFrame`. This datastructure behaves quite a bit like your typical spreadsheet, containing rows of data with fields represented as columns. Pandas let's us create, import, export, manipulate and perform calculations on these DataFrames with ease.\n",
    "\n",
    "### Series\n",
    "The fundamental object of a DataFrame is known as `Series` which are like arrays where the index can be whatever we like. The default is numerical values starting at 0, much like a traditional array. We can perform arithmetic and boolean operations on the Series object while keeping the index intact."
   ]
  },
  {
   "cell_type": "code",
   "execution_count": 32,
   "metadata": {
    "tags": []
   },
   "outputs": [
    {
     "output_type": "stream",
     "name": "stdout",
     "text": "0    10\n1    -2\n2    14\n3     8\n4    15\ndtype: int64\n<class 'pandas.core.series.Series'>\n\nExample of operations on Series:\n0    20\n1    -4\n2    28\n3    16\n4    30\ndtype: int64\n0     True\n1    False\n2     True\n3     True\n4     True\ndtype: bool\n"
    }
   ],
   "source": [
    "s = pd.Series([10, -2, 14, 8, 15])\n",
    "print(s)\n",
    "print(type(s))\n",
    "\n",
    "print(\"\\nExample of operations on Series:\")\n",
    "print(s * 2)\n",
    "print(s > 5)"
   ]
  },
  {
   "cell_type": "markdown",
   "metadata": {},
   "source": [
    "We can also create a Series from a normal Python dictionary, letting the keys of the dictionary become the indices of the Series."
   ]
  },
  {
   "cell_type": "code",
   "execution_count": 28,
   "metadata": {
    "tags": []
   },
   "outputs": [
    {
     "output_type": "stream",
     "name": "stdout",
     "text": "a      1\nb      3\nc    199\nd    -12\ne      5\ndtype: int64\n"
    }
   ],
   "source": [
    "data = {'a': 1, 'b': 3, 'c': 199, 'd': -12, 'e': 5}\n",
    "s = pd.Series(data)\n",
    "print(s)"
   ]
  },
  {
   "cell_type": "markdown",
   "metadata": {},
   "source": [
    "We can observe the indicies and values separately."
   ]
  },
  {
   "cell_type": "code",
   "execution_count": 24,
   "metadata": {
    "tags": []
   },
   "outputs": [
    {
     "output_type": "stream",
     "name": "stdout",
     "text": "Values: [  1   3 199 -12   5]\nIndices: Index(['a', 'b', 'c', 'd', 'e'], dtype='object')\n"
    }
   ],
   "source": [
    "print(f\"Values: {s.values}\")\n",
    "print(f\"Indices: {s.index}\")"
   ]
  },
  {
   "cell_type": "markdown",
   "metadata": {},
   "source": [
    "We can also set the index ourselves manually when creating the Series. Notice how the index list maps to the keys of the data dictionary, meaning the final index `f?` will be set to `NaN` since it does not exist in `data`. Typically `NaN` will correspond to missing data, which can be detected using the `isnull` and `notnull` functions in Pandas."
   ]
  },
  {
   "cell_type": "code",
   "execution_count": 33,
   "metadata": {
    "tags": []
   },
   "outputs": [
    {
     "output_type": "stream",
     "name": "stdout",
     "text": "a       1.0\nb       3.0\nc     199.0\nd     -12.0\ne       5.0\nf?      NaN\ndtype: float64\n\nFinding null values:\na     False\nb     False\nc     False\nd     False\ne     False\nf?     True\ndtype: bool\n"
    }
   ],
   "source": [
    "index = ['a', 'b', 'c', 'd', 'e', 'f?']\n",
    "s = pd.Series(data, index=index)\n",
    "print(s)\n",
    "\n",
    "\n",
    "print(\"\\nFinding null values:\")\n",
    "print(s.isnull())"
   ]
  },
  {
   "cell_type": "markdown",
   "metadata": {},
   "source": [
    "### Working with CSV data\n",
    "Something quite nice about Pandas is how easily we can read data from a file, e.g. from a file of comma-separated values (CSV), and put that data in a DataFrame. When working with these large DataFrames we can use the `head` and `tail` functions to view some arbitrary number of the first or last rows."
   ]
  },
  {
   "cell_type": "code",
   "execution_count": 38,
   "metadata": {},
   "outputs": [],
   "source": [
    "data = pd.read_csv('data/ad.data', header=None)"
   ]
  },
  {
   "cell_type": "code",
   "execution_count": 39,
   "metadata": {},
   "outputs": [
    {
     "output_type": "execute_result",
     "data": {
      "text/plain": "   0     1       2    3     4     5     6     7     8     9     ...  1549  \\\n0   125   125     1.0    1     0     0     0     0     0     0  ...     0   \n1    57   468  8.2105    1     0     0     0     0     0     0  ...     0   \n2    33   230  6.9696    1     0     0     0     0     0     0  ...     0   \n3    60   468     7.8    1     0     0     0     0     0     0  ...     0   \n4    60   468     7.8    1     0     0     0     0     0     0  ...     0   \n5    60   468     7.8    1     0     0     0     0     0     0  ...     0   \n6    59   460  7.7966    1     0     0     0     0     0     0  ...     0   \n7    60   234     3.9    1     0     0     0     0     0     0  ...     0   \n8    60   468     7.8    1     0     0     0     0     0     0  ...     0   \n9    60   468     7.8    1     0     0     0     0     0     0  ...     0   \n\n   1550  1551  1552  1553  1554  1555  1556  1557  1558  \n0     0     0     0     0     0     0     0     0   ad.  \n1     0     0     0     0     0     0     0     0   ad.  \n2     0     0     0     0     0     0     0     0   ad.  \n3     0     0     0     0     0     0     0     0   ad.  \n4     0     0     0     0     0     0     0     0   ad.  \n5     0     0     0     0     0     0     0     0   ad.  \n6     0     0     0     0     0     0     0     0   ad.  \n7     0     0     0     0     0     0     0     0   ad.  \n8     0     0     0     0     0     0     0     0   ad.  \n9     0     0     0     0     0     0     0     0   ad.  \n\n[10 rows x 1559 columns]",
      "text/html": "<div>\n<style scoped>\n    .dataframe tbody tr th:only-of-type {\n        vertical-align: middle;\n    }\n\n    .dataframe tbody tr th {\n        vertical-align: top;\n    }\n\n    .dataframe thead th {\n        text-align: right;\n    }\n</style>\n<table border=\"1\" class=\"dataframe\">\n  <thead>\n    <tr style=\"text-align: right;\">\n      <th></th>\n      <th>0</th>\n      <th>1</th>\n      <th>2</th>\n      <th>3</th>\n      <th>4</th>\n      <th>5</th>\n      <th>6</th>\n      <th>7</th>\n      <th>8</th>\n      <th>9</th>\n      <th>...</th>\n      <th>1549</th>\n      <th>1550</th>\n      <th>1551</th>\n      <th>1552</th>\n      <th>1553</th>\n      <th>1554</th>\n      <th>1555</th>\n      <th>1556</th>\n      <th>1557</th>\n      <th>1558</th>\n    </tr>\n  </thead>\n  <tbody>\n    <tr>\n      <th>0</th>\n      <td>125</td>\n      <td>125</td>\n      <td>1.0</td>\n      <td>1</td>\n      <td>0</td>\n      <td>0</td>\n      <td>0</td>\n      <td>0</td>\n      <td>0</td>\n      <td>0</td>\n      <td>...</td>\n      <td>0</td>\n      <td>0</td>\n      <td>0</td>\n      <td>0</td>\n      <td>0</td>\n      <td>0</td>\n      <td>0</td>\n      <td>0</td>\n      <td>0</td>\n      <td>ad.</td>\n    </tr>\n    <tr>\n      <th>1</th>\n      <td>57</td>\n      <td>468</td>\n      <td>8.2105</td>\n      <td>1</td>\n      <td>0</td>\n      <td>0</td>\n      <td>0</td>\n      <td>0</td>\n      <td>0</td>\n      <td>0</td>\n      <td>...</td>\n      <td>0</td>\n      <td>0</td>\n      <td>0</td>\n      <td>0</td>\n      <td>0</td>\n      <td>0</td>\n      <td>0</td>\n      <td>0</td>\n      <td>0</td>\n      <td>ad.</td>\n    </tr>\n    <tr>\n      <th>2</th>\n      <td>33</td>\n      <td>230</td>\n      <td>6.9696</td>\n      <td>1</td>\n      <td>0</td>\n      <td>0</td>\n      <td>0</td>\n      <td>0</td>\n      <td>0</td>\n      <td>0</td>\n      <td>...</td>\n      <td>0</td>\n      <td>0</td>\n      <td>0</td>\n      <td>0</td>\n      <td>0</td>\n      <td>0</td>\n      <td>0</td>\n      <td>0</td>\n      <td>0</td>\n      <td>ad.</td>\n    </tr>\n    <tr>\n      <th>3</th>\n      <td>60</td>\n      <td>468</td>\n      <td>7.8</td>\n      <td>1</td>\n      <td>0</td>\n      <td>0</td>\n      <td>0</td>\n      <td>0</td>\n      <td>0</td>\n      <td>0</td>\n      <td>...</td>\n      <td>0</td>\n      <td>0</td>\n      <td>0</td>\n      <td>0</td>\n      <td>0</td>\n      <td>0</td>\n      <td>0</td>\n      <td>0</td>\n      <td>0</td>\n      <td>ad.</td>\n    </tr>\n    <tr>\n      <th>4</th>\n      <td>60</td>\n      <td>468</td>\n      <td>7.8</td>\n      <td>1</td>\n      <td>0</td>\n      <td>0</td>\n      <td>0</td>\n      <td>0</td>\n      <td>0</td>\n      <td>0</td>\n      <td>...</td>\n      <td>0</td>\n      <td>0</td>\n      <td>0</td>\n      <td>0</td>\n      <td>0</td>\n      <td>0</td>\n      <td>0</td>\n      <td>0</td>\n      <td>0</td>\n      <td>ad.</td>\n    </tr>\n    <tr>\n      <th>5</th>\n      <td>60</td>\n      <td>468</td>\n      <td>7.8</td>\n      <td>1</td>\n      <td>0</td>\n      <td>0</td>\n      <td>0</td>\n      <td>0</td>\n      <td>0</td>\n      <td>0</td>\n      <td>...</td>\n      <td>0</td>\n      <td>0</td>\n      <td>0</td>\n      <td>0</td>\n      <td>0</td>\n      <td>0</td>\n      <td>0</td>\n      <td>0</td>\n      <td>0</td>\n      <td>ad.</td>\n    </tr>\n    <tr>\n      <th>6</th>\n      <td>59</td>\n      <td>460</td>\n      <td>7.7966</td>\n      <td>1</td>\n      <td>0</td>\n      <td>0</td>\n      <td>0</td>\n      <td>0</td>\n      <td>0</td>\n      <td>0</td>\n      <td>...</td>\n      <td>0</td>\n      <td>0</td>\n      <td>0</td>\n      <td>0</td>\n      <td>0</td>\n      <td>0</td>\n      <td>0</td>\n      <td>0</td>\n      <td>0</td>\n      <td>ad.</td>\n    </tr>\n    <tr>\n      <th>7</th>\n      <td>60</td>\n      <td>234</td>\n      <td>3.9</td>\n      <td>1</td>\n      <td>0</td>\n      <td>0</td>\n      <td>0</td>\n      <td>0</td>\n      <td>0</td>\n      <td>0</td>\n      <td>...</td>\n      <td>0</td>\n      <td>0</td>\n      <td>0</td>\n      <td>0</td>\n      <td>0</td>\n      <td>0</td>\n      <td>0</td>\n      <td>0</td>\n      <td>0</td>\n      <td>ad.</td>\n    </tr>\n    <tr>\n      <th>8</th>\n      <td>60</td>\n      <td>468</td>\n      <td>7.8</td>\n      <td>1</td>\n      <td>0</td>\n      <td>0</td>\n      <td>0</td>\n      <td>0</td>\n      <td>0</td>\n      <td>0</td>\n      <td>...</td>\n      <td>0</td>\n      <td>0</td>\n      <td>0</td>\n      <td>0</td>\n      <td>0</td>\n      <td>0</td>\n      <td>0</td>\n      <td>0</td>\n      <td>0</td>\n      <td>ad.</td>\n    </tr>\n    <tr>\n      <th>9</th>\n      <td>60</td>\n      <td>468</td>\n      <td>7.8</td>\n      <td>1</td>\n      <td>0</td>\n      <td>0</td>\n      <td>0</td>\n      <td>0</td>\n      <td>0</td>\n      <td>0</td>\n      <td>...</td>\n      <td>0</td>\n      <td>0</td>\n      <td>0</td>\n      <td>0</td>\n      <td>0</td>\n      <td>0</td>\n      <td>0</td>\n      <td>0</td>\n      <td>0</td>\n      <td>ad.</td>\n    </tr>\n  </tbody>\n</table>\n<p>10 rows × 1559 columns</p>\n</div>"
     },
     "metadata": {},
     "execution_count": 39
    }
   ],
   "source": [
    "data.head(10)"
   ]
  },
  {
   "cell_type": "markdown",
   "metadata": {},
   "source": [
    "The `describe` method is useful for getting a quick statistical overview of the contents of each numerical column in a DataFrame"
   ]
  },
  {
   "cell_type": "code",
   "execution_count": 40,
   "metadata": {},
   "outputs": [
    {
     "output_type": "execute_result",
     "data": {
      "text/plain": "              4            5            6            7            8     \\\ncount  3279.000000  3279.000000  3279.000000  3279.000000  3279.000000   \nmean      0.004270     0.011589     0.004575     0.003355     0.003965   \nstd       0.065212     0.107042     0.067491     0.057831     0.062850   \nmin       0.000000     0.000000     0.000000     0.000000     0.000000   \n25%       0.000000     0.000000     0.000000     0.000000     0.000000   \n50%       0.000000     0.000000     0.000000     0.000000     0.000000   \n75%       0.000000     0.000000     0.000000     0.000000     0.000000   \nmax       1.000000     1.000000     1.000000     1.000000     1.000000   \n\n              9            10           11           12           13    ...  \\\ncount  3279.000000  3279.000000  3279.000000  3279.000000  3279.000000  ...   \nmean      0.011589     0.003355     0.004880     0.009149     0.004575  ...   \nstd       0.107042     0.057831     0.069694     0.095227     0.067491  ...   \nmin       0.000000     0.000000     0.000000     0.000000     0.000000  ...   \n25%       0.000000     0.000000     0.000000     0.000000     0.000000  ...   \n50%       0.000000     0.000000     0.000000     0.000000     0.000000  ...   \n75%       0.000000     0.000000     0.000000     0.000000     0.000000  ...   \nmax       1.000000     1.000000     1.000000     1.000000     1.000000  ...   \n\n              1548         1549         1550         1551         1552  \\\ncount  3279.000000  3279.000000  3279.000000  3279.000000  3279.000000   \nmean      0.006099     0.004575     0.003660     0.002440     0.003050   \nstd       0.077872     0.067491     0.060393     0.049341     0.055148   \nmin       0.000000     0.000000     0.000000     0.000000     0.000000   \n25%       0.000000     0.000000     0.000000     0.000000     0.000000   \n50%       0.000000     0.000000     0.000000     0.000000     0.000000   \n75%       0.000000     0.000000     0.000000     0.000000     0.000000   \nmax       1.000000     1.000000     1.000000     1.000000     1.000000   \n\n              1553         1554         1555         1556         1557  \ncount  3279.000000  3279.000000  3279.000000  3279.000000  3279.000000  \nmean      0.006404     0.012809     0.013419     0.009759     0.001525  \nstd       0.079783     0.112466     0.115077     0.098320     0.039026  \nmin       0.000000     0.000000     0.000000     0.000000     0.000000  \n25%       0.000000     0.000000     0.000000     0.000000     0.000000  \n50%       0.000000     0.000000     0.000000     0.000000     0.000000  \n75%       0.000000     0.000000     0.000000     0.000000     0.000000  \nmax       1.000000     1.000000     1.000000     1.000000     1.000000  \n\n[8 rows x 1554 columns]",
      "text/html": "<div>\n<style scoped>\n    .dataframe tbody tr th:only-of-type {\n        vertical-align: middle;\n    }\n\n    .dataframe tbody tr th {\n        vertical-align: top;\n    }\n\n    .dataframe thead th {\n        text-align: right;\n    }\n</style>\n<table border=\"1\" class=\"dataframe\">\n  <thead>\n    <tr style=\"text-align: right;\">\n      <th></th>\n      <th>4</th>\n      <th>5</th>\n      <th>6</th>\n      <th>7</th>\n      <th>8</th>\n      <th>9</th>\n      <th>10</th>\n      <th>11</th>\n      <th>12</th>\n      <th>13</th>\n      <th>...</th>\n      <th>1548</th>\n      <th>1549</th>\n      <th>1550</th>\n      <th>1551</th>\n      <th>1552</th>\n      <th>1553</th>\n      <th>1554</th>\n      <th>1555</th>\n      <th>1556</th>\n      <th>1557</th>\n    </tr>\n  </thead>\n  <tbody>\n    <tr>\n      <th>count</th>\n      <td>3279.000000</td>\n      <td>3279.000000</td>\n      <td>3279.000000</td>\n      <td>3279.000000</td>\n      <td>3279.000000</td>\n      <td>3279.000000</td>\n      <td>3279.000000</td>\n      <td>3279.000000</td>\n      <td>3279.000000</td>\n      <td>3279.000000</td>\n      <td>...</td>\n      <td>3279.000000</td>\n      <td>3279.000000</td>\n      <td>3279.000000</td>\n      <td>3279.000000</td>\n      <td>3279.000000</td>\n      <td>3279.000000</td>\n      <td>3279.000000</td>\n      <td>3279.000000</td>\n      <td>3279.000000</td>\n      <td>3279.000000</td>\n    </tr>\n    <tr>\n      <th>mean</th>\n      <td>0.004270</td>\n      <td>0.011589</td>\n      <td>0.004575</td>\n      <td>0.003355</td>\n      <td>0.003965</td>\n      <td>0.011589</td>\n      <td>0.003355</td>\n      <td>0.004880</td>\n      <td>0.009149</td>\n      <td>0.004575</td>\n      <td>...</td>\n      <td>0.006099</td>\n      <td>0.004575</td>\n      <td>0.003660</td>\n      <td>0.002440</td>\n      <td>0.003050</td>\n      <td>0.006404</td>\n      <td>0.012809</td>\n      <td>0.013419</td>\n      <td>0.009759</td>\n      <td>0.001525</td>\n    </tr>\n    <tr>\n      <th>std</th>\n      <td>0.065212</td>\n      <td>0.107042</td>\n      <td>0.067491</td>\n      <td>0.057831</td>\n      <td>0.062850</td>\n      <td>0.107042</td>\n      <td>0.057831</td>\n      <td>0.069694</td>\n      <td>0.095227</td>\n      <td>0.067491</td>\n      <td>...</td>\n      <td>0.077872</td>\n      <td>0.067491</td>\n      <td>0.060393</td>\n      <td>0.049341</td>\n      <td>0.055148</td>\n      <td>0.079783</td>\n      <td>0.112466</td>\n      <td>0.115077</td>\n      <td>0.098320</td>\n      <td>0.039026</td>\n    </tr>\n    <tr>\n      <th>min</th>\n      <td>0.000000</td>\n      <td>0.000000</td>\n      <td>0.000000</td>\n      <td>0.000000</td>\n      <td>0.000000</td>\n      <td>0.000000</td>\n      <td>0.000000</td>\n      <td>0.000000</td>\n      <td>0.000000</td>\n      <td>0.000000</td>\n      <td>...</td>\n      <td>0.000000</td>\n      <td>0.000000</td>\n      <td>0.000000</td>\n      <td>0.000000</td>\n      <td>0.000000</td>\n      <td>0.000000</td>\n      <td>0.000000</td>\n      <td>0.000000</td>\n      <td>0.000000</td>\n      <td>0.000000</td>\n    </tr>\n    <tr>\n      <th>25%</th>\n      <td>0.000000</td>\n      <td>0.000000</td>\n      <td>0.000000</td>\n      <td>0.000000</td>\n      <td>0.000000</td>\n      <td>0.000000</td>\n      <td>0.000000</td>\n      <td>0.000000</td>\n      <td>0.000000</td>\n      <td>0.000000</td>\n      <td>...</td>\n      <td>0.000000</td>\n      <td>0.000000</td>\n      <td>0.000000</td>\n      <td>0.000000</td>\n      <td>0.000000</td>\n      <td>0.000000</td>\n      <td>0.000000</td>\n      <td>0.000000</td>\n      <td>0.000000</td>\n      <td>0.000000</td>\n    </tr>\n    <tr>\n      <th>50%</th>\n      <td>0.000000</td>\n      <td>0.000000</td>\n      <td>0.000000</td>\n      <td>0.000000</td>\n      <td>0.000000</td>\n      <td>0.000000</td>\n      <td>0.000000</td>\n      <td>0.000000</td>\n      <td>0.000000</td>\n      <td>0.000000</td>\n      <td>...</td>\n      <td>0.000000</td>\n      <td>0.000000</td>\n      <td>0.000000</td>\n      <td>0.000000</td>\n      <td>0.000000</td>\n      <td>0.000000</td>\n      <td>0.000000</td>\n      <td>0.000000</td>\n      <td>0.000000</td>\n      <td>0.000000</td>\n    </tr>\n    <tr>\n      <th>75%</th>\n      <td>0.000000</td>\n      <td>0.000000</td>\n      <td>0.000000</td>\n      <td>0.000000</td>\n      <td>0.000000</td>\n      <td>0.000000</td>\n      <td>0.000000</td>\n      <td>0.000000</td>\n      <td>0.000000</td>\n      <td>0.000000</td>\n      <td>...</td>\n      <td>0.000000</td>\n      <td>0.000000</td>\n      <td>0.000000</td>\n      <td>0.000000</td>\n      <td>0.000000</td>\n      <td>0.000000</td>\n      <td>0.000000</td>\n      <td>0.000000</td>\n      <td>0.000000</td>\n      <td>0.000000</td>\n    </tr>\n    <tr>\n      <th>max</th>\n      <td>1.000000</td>\n      <td>1.000000</td>\n      <td>1.000000</td>\n      <td>1.000000</td>\n      <td>1.000000</td>\n      <td>1.000000</td>\n      <td>1.000000</td>\n      <td>1.000000</td>\n      <td>1.000000</td>\n      <td>1.000000</td>\n      <td>...</td>\n      <td>1.000000</td>\n      <td>1.000000</td>\n      <td>1.000000</td>\n      <td>1.000000</td>\n      <td>1.000000</td>\n      <td>1.000000</td>\n      <td>1.000000</td>\n      <td>1.000000</td>\n      <td>1.000000</td>\n      <td>1.000000</td>\n    </tr>\n  </tbody>\n</table>\n<p>8 rows × 1554 columns</p>\n</div>"
     },
     "metadata": {},
     "execution_count": 40
    }
   ],
   "source": [
    "data.describe()"
   ]
  },
  {
   "cell_type": "markdown",
   "metadata": {},
   "source": [
    "### Indexing into DataFrames\n",
    "Okay, so Pandas handles indexing into DataFrames in a kind of strange way. We use standard indexing with hard brackets to access *columns* e.g. `data[name_of_column]`. It is also possible to access several columns by providing a list of column names e.g. `data[[column_1, column_2, column_3]]`. "
   ]
  },
  {
   "cell_type": "code",
   "execution_count": 47,
   "metadata": {},
   "outputs": [
    {
     "output_type": "execute_result",
     "data": {
      "text/plain": "0        125\n1        468\n2        230\n3        468\n4        468\n        ... \n3274      94\n3275     140\n3276     120\n3277       ?\n3278      40\nName: 1, Length: 3279, dtype: object"
     },
     "metadata": {},
     "execution_count": 47
    }
   ],
   "source": [
    "data[1] # This returns a Series"
   ]
  },
  {
   "cell_type": "code",
   "execution_count": 48,
   "metadata": {},
   "outputs": [
    {
     "output_type": "execute_result",
     "data": {
      "text/plain": "        1       2   10\n0      125     1.0   0\n1      468  8.2105   0\n2      230  6.9696   0\n3      468     7.8   0\n4      468     7.8   0\n...    ...     ...  ..\n3274    94  0.5529   0\n3275   140  1.3861   0\n3276   120  5.2173   0\n3277     ?       ?   0\n3278    40     1.0   0\n\n[3279 rows x 3 columns]",
      "text/html": "<div>\n<style scoped>\n    .dataframe tbody tr th:only-of-type {\n        vertical-align: middle;\n    }\n\n    .dataframe tbody tr th {\n        vertical-align: top;\n    }\n\n    .dataframe thead th {\n        text-align: right;\n    }\n</style>\n<table border=\"1\" class=\"dataframe\">\n  <thead>\n    <tr style=\"text-align: right;\">\n      <th></th>\n      <th>1</th>\n      <th>2</th>\n      <th>10</th>\n    </tr>\n  </thead>\n  <tbody>\n    <tr>\n      <th>0</th>\n      <td>125</td>\n      <td>1.0</td>\n      <td>0</td>\n    </tr>\n    <tr>\n      <th>1</th>\n      <td>468</td>\n      <td>8.2105</td>\n      <td>0</td>\n    </tr>\n    <tr>\n      <th>2</th>\n      <td>230</td>\n      <td>6.9696</td>\n      <td>0</td>\n    </tr>\n    <tr>\n      <th>3</th>\n      <td>468</td>\n      <td>7.8</td>\n      <td>0</td>\n    </tr>\n    <tr>\n      <th>4</th>\n      <td>468</td>\n      <td>7.8</td>\n      <td>0</td>\n    </tr>\n    <tr>\n      <th>...</th>\n      <td>...</td>\n      <td>...</td>\n      <td>...</td>\n    </tr>\n    <tr>\n      <th>3274</th>\n      <td>94</td>\n      <td>0.5529</td>\n      <td>0</td>\n    </tr>\n    <tr>\n      <th>3275</th>\n      <td>140</td>\n      <td>1.3861</td>\n      <td>0</td>\n    </tr>\n    <tr>\n      <th>3276</th>\n      <td>120</td>\n      <td>5.2173</td>\n      <td>0</td>\n    </tr>\n    <tr>\n      <th>3277</th>\n      <td>?</td>\n      <td>?</td>\n      <td>0</td>\n    </tr>\n    <tr>\n      <th>3278</th>\n      <td>40</td>\n      <td>1.0</td>\n      <td>0</td>\n    </tr>\n  </tbody>\n</table>\n<p>3279 rows × 3 columns</p>\n</div>"
     },
     "metadata": {},
     "execution_count": 48
    }
   ],
   "source": [
    "data[[1, 2, 10]] # This returns another DataFrame"
   ]
  },
  {
   "cell_type": "markdown",
   "metadata": {},
   "source": [
    "However, using slices we instead get *rows* e.g. `data[from:to]`. This works like normal Python slices, not including the `to` index."
   ]
  },
  {
   "cell_type": "code",
   "execution_count": 50,
   "metadata": {},
   "outputs": [
    {
     "output_type": "execute_result",
     "data": {
      "text/plain": "   0     1       2    3     4     5     6     7     8     9     ...  1549  \\\n1    57   468  8.2105    1     0     0     0     0     0     0  ...     0   \n2    33   230  6.9696    1     0     0     0     0     0     0  ...     0   \n3    60   468     7.8    1     0     0     0     0     0     0  ...     0   \n4    60   468     7.8    1     0     0     0     0     0     0  ...     0   \n\n   1550  1551  1552  1553  1554  1555  1556  1557  1558  \n1     0     0     0     0     0     0     0     0   ad.  \n2     0     0     0     0     0     0     0     0   ad.  \n3     0     0     0     0     0     0     0     0   ad.  \n4     0     0     0     0     0     0     0     0   ad.  \n\n[4 rows x 1559 columns]",
      "text/html": "<div>\n<style scoped>\n    .dataframe tbody tr th:only-of-type {\n        vertical-align: middle;\n    }\n\n    .dataframe tbody tr th {\n        vertical-align: top;\n    }\n\n    .dataframe thead th {\n        text-align: right;\n    }\n</style>\n<table border=\"1\" class=\"dataframe\">\n  <thead>\n    <tr style=\"text-align: right;\">\n      <th></th>\n      <th>0</th>\n      <th>1</th>\n      <th>2</th>\n      <th>3</th>\n      <th>4</th>\n      <th>5</th>\n      <th>6</th>\n      <th>7</th>\n      <th>8</th>\n      <th>9</th>\n      <th>...</th>\n      <th>1549</th>\n      <th>1550</th>\n      <th>1551</th>\n      <th>1552</th>\n      <th>1553</th>\n      <th>1554</th>\n      <th>1555</th>\n      <th>1556</th>\n      <th>1557</th>\n      <th>1558</th>\n    </tr>\n  </thead>\n  <tbody>\n    <tr>\n      <th>1</th>\n      <td>57</td>\n      <td>468</td>\n      <td>8.2105</td>\n      <td>1</td>\n      <td>0</td>\n      <td>0</td>\n      <td>0</td>\n      <td>0</td>\n      <td>0</td>\n      <td>0</td>\n      <td>...</td>\n      <td>0</td>\n      <td>0</td>\n      <td>0</td>\n      <td>0</td>\n      <td>0</td>\n      <td>0</td>\n      <td>0</td>\n      <td>0</td>\n      <td>0</td>\n      <td>ad.</td>\n    </tr>\n    <tr>\n      <th>2</th>\n      <td>33</td>\n      <td>230</td>\n      <td>6.9696</td>\n      <td>1</td>\n      <td>0</td>\n      <td>0</td>\n      <td>0</td>\n      <td>0</td>\n      <td>0</td>\n      <td>0</td>\n      <td>...</td>\n      <td>0</td>\n      <td>0</td>\n      <td>0</td>\n      <td>0</td>\n      <td>0</td>\n      <td>0</td>\n      <td>0</td>\n      <td>0</td>\n      <td>0</td>\n      <td>ad.</td>\n    </tr>\n    <tr>\n      <th>3</th>\n      <td>60</td>\n      <td>468</td>\n      <td>7.8</td>\n      <td>1</td>\n      <td>0</td>\n      <td>0</td>\n      <td>0</td>\n      <td>0</td>\n      <td>0</td>\n      <td>0</td>\n      <td>...</td>\n      <td>0</td>\n      <td>0</td>\n      <td>0</td>\n      <td>0</td>\n      <td>0</td>\n      <td>0</td>\n      <td>0</td>\n      <td>0</td>\n      <td>0</td>\n      <td>ad.</td>\n    </tr>\n    <tr>\n      <th>4</th>\n      <td>60</td>\n      <td>468</td>\n      <td>7.8</td>\n      <td>1</td>\n      <td>0</td>\n      <td>0</td>\n      <td>0</td>\n      <td>0</td>\n      <td>0</td>\n      <td>0</td>\n      <td>...</td>\n      <td>0</td>\n      <td>0</td>\n      <td>0</td>\n      <td>0</td>\n      <td>0</td>\n      <td>0</td>\n      <td>0</td>\n      <td>0</td>\n      <td>0</td>\n      <td>ad.</td>\n    </tr>\n  </tbody>\n</table>\n<p>4 rows × 1559 columns</p>\n</div>"
     },
     "metadata": {},
     "execution_count": 50
    }
   ],
   "source": [
    "data[1:5]"
   ]
  },
  {
   "cell_type": "markdown",
   "metadata": {},
   "source": [
    "We can also use boolean conditions to access rows where some given condition is true. The following code cell reads like \"Give me every row from `data` where the value in the column named `4` has a value greater than 0\". We can chain several of these conditions using `&` and `|` for `and` and `or` respectively."
   ]
  },
  {
   "cell_type": "code",
   "execution_count": 60,
   "metadata": {},
   "outputs": [
    {
     "output_type": "execute_result",
     "data": {
      "text/plain": "      0     1       2    3     4     5     6     7     8     9     ...  1549  \\\n1112    40    40     1.0    1     1     0     0     0     0     0  ...     0   \n1169     ?     ?       ?    1     1     0     0     0     0     0  ...     0   \n1177     ?     ?       ?    1     1     0     0     0     0     0  ...     0   \n1183     ?     ?       ?    1     1     0     0     0     0     0  ...     0   \n1187     ?     ?       ?    1     1     0     0     0     0     0  ...     0   \n1205     ?     ?       ?    1     1     0     0     0     0     0  ...     0   \n1264     ?     ?       ?    1     1     0     0     0     0     0  ...     0   \n1281     ?     ?       ?    1     1     0     0     0     0     0  ...     0   \n1288     ?     ?       ?    1     1     0     0     0     0     0  ...     0   \n1444    39    38  0.9743    1     1     0     0     0     0     0  ...     0   \n1717     ?     ?       ?    1     1     0     0     0     0     0  ...     0   \n2376    49    49     1.0    1     1     0     0     0     0     0  ...     0   \n2400    47    49  1.0425    1     1     0     0     0     0     0  ...     0   \n2524    36    75  2.0833    1     1     0     0     0     0     0  ...     0   \n\n      1550  1551  1552  1553  1554  1555  1556  1557    1558  \n1112     0     0     0     0     0     0     0     0  nonad.  \n1169     0     0     0     0     0     0     0     0  nonad.  \n1177     0     0     0     0     0     0     0     0  nonad.  \n1183     0     0     0     0     0     0     0     0  nonad.  \n1187     0     0     0     0     0     0     0     0  nonad.  \n1205     0     0     0     0     0     0     0     0  nonad.  \n1264     0     0     0     0     0     0     0     0  nonad.  \n1281     0     0     0     0     0     0     0     0  nonad.  \n1288     0     0     0     0     0     0     0     0  nonad.  \n1444     0     0     0     0     0     0     0     0  nonad.  \n1717     0     0     0     0     0     0     0     0  nonad.  \n2376     0     0     0     0     0     0     0     0  nonad.  \n2400     0     0     0     0     0     0     0     0  nonad.  \n2524     0     0     0     0     0     0     0     0  nonad.  \n\n[14 rows x 1559 columns]",
      "text/html": "<div>\n<style scoped>\n    .dataframe tbody tr th:only-of-type {\n        vertical-align: middle;\n    }\n\n    .dataframe tbody tr th {\n        vertical-align: top;\n    }\n\n    .dataframe thead th {\n        text-align: right;\n    }\n</style>\n<table border=\"1\" class=\"dataframe\">\n  <thead>\n    <tr style=\"text-align: right;\">\n      <th></th>\n      <th>0</th>\n      <th>1</th>\n      <th>2</th>\n      <th>3</th>\n      <th>4</th>\n      <th>5</th>\n      <th>6</th>\n      <th>7</th>\n      <th>8</th>\n      <th>9</th>\n      <th>...</th>\n      <th>1549</th>\n      <th>1550</th>\n      <th>1551</th>\n      <th>1552</th>\n      <th>1553</th>\n      <th>1554</th>\n      <th>1555</th>\n      <th>1556</th>\n      <th>1557</th>\n      <th>1558</th>\n    </tr>\n  </thead>\n  <tbody>\n    <tr>\n      <th>1112</th>\n      <td>40</td>\n      <td>40</td>\n      <td>1.0</td>\n      <td>1</td>\n      <td>1</td>\n      <td>0</td>\n      <td>0</td>\n      <td>0</td>\n      <td>0</td>\n      <td>0</td>\n      <td>...</td>\n      <td>0</td>\n      <td>0</td>\n      <td>0</td>\n      <td>0</td>\n      <td>0</td>\n      <td>0</td>\n      <td>0</td>\n      <td>0</td>\n      <td>0</td>\n      <td>nonad.</td>\n    </tr>\n    <tr>\n      <th>1169</th>\n      <td>?</td>\n      <td>?</td>\n      <td>?</td>\n      <td>1</td>\n      <td>1</td>\n      <td>0</td>\n      <td>0</td>\n      <td>0</td>\n      <td>0</td>\n      <td>0</td>\n      <td>...</td>\n      <td>0</td>\n      <td>0</td>\n      <td>0</td>\n      <td>0</td>\n      <td>0</td>\n      <td>0</td>\n      <td>0</td>\n      <td>0</td>\n      <td>0</td>\n      <td>nonad.</td>\n    </tr>\n    <tr>\n      <th>1177</th>\n      <td>?</td>\n      <td>?</td>\n      <td>?</td>\n      <td>1</td>\n      <td>1</td>\n      <td>0</td>\n      <td>0</td>\n      <td>0</td>\n      <td>0</td>\n      <td>0</td>\n      <td>...</td>\n      <td>0</td>\n      <td>0</td>\n      <td>0</td>\n      <td>0</td>\n      <td>0</td>\n      <td>0</td>\n      <td>0</td>\n      <td>0</td>\n      <td>0</td>\n      <td>nonad.</td>\n    </tr>\n    <tr>\n      <th>1183</th>\n      <td>?</td>\n      <td>?</td>\n      <td>?</td>\n      <td>1</td>\n      <td>1</td>\n      <td>0</td>\n      <td>0</td>\n      <td>0</td>\n      <td>0</td>\n      <td>0</td>\n      <td>...</td>\n      <td>0</td>\n      <td>0</td>\n      <td>0</td>\n      <td>0</td>\n      <td>0</td>\n      <td>0</td>\n      <td>0</td>\n      <td>0</td>\n      <td>0</td>\n      <td>nonad.</td>\n    </tr>\n    <tr>\n      <th>1187</th>\n      <td>?</td>\n      <td>?</td>\n      <td>?</td>\n      <td>1</td>\n      <td>1</td>\n      <td>0</td>\n      <td>0</td>\n      <td>0</td>\n      <td>0</td>\n      <td>0</td>\n      <td>...</td>\n      <td>0</td>\n      <td>0</td>\n      <td>0</td>\n      <td>0</td>\n      <td>0</td>\n      <td>0</td>\n      <td>0</td>\n      <td>0</td>\n      <td>0</td>\n      <td>nonad.</td>\n    </tr>\n    <tr>\n      <th>1205</th>\n      <td>?</td>\n      <td>?</td>\n      <td>?</td>\n      <td>1</td>\n      <td>1</td>\n      <td>0</td>\n      <td>0</td>\n      <td>0</td>\n      <td>0</td>\n      <td>0</td>\n      <td>...</td>\n      <td>0</td>\n      <td>0</td>\n      <td>0</td>\n      <td>0</td>\n      <td>0</td>\n      <td>0</td>\n      <td>0</td>\n      <td>0</td>\n      <td>0</td>\n      <td>nonad.</td>\n    </tr>\n    <tr>\n      <th>1264</th>\n      <td>?</td>\n      <td>?</td>\n      <td>?</td>\n      <td>1</td>\n      <td>1</td>\n      <td>0</td>\n      <td>0</td>\n      <td>0</td>\n      <td>0</td>\n      <td>0</td>\n      <td>...</td>\n      <td>0</td>\n      <td>0</td>\n      <td>0</td>\n      <td>0</td>\n      <td>0</td>\n      <td>0</td>\n      <td>0</td>\n      <td>0</td>\n      <td>0</td>\n      <td>nonad.</td>\n    </tr>\n    <tr>\n      <th>1281</th>\n      <td>?</td>\n      <td>?</td>\n      <td>?</td>\n      <td>1</td>\n      <td>1</td>\n      <td>0</td>\n      <td>0</td>\n      <td>0</td>\n      <td>0</td>\n      <td>0</td>\n      <td>...</td>\n      <td>0</td>\n      <td>0</td>\n      <td>0</td>\n      <td>0</td>\n      <td>0</td>\n      <td>0</td>\n      <td>0</td>\n      <td>0</td>\n      <td>0</td>\n      <td>nonad.</td>\n    </tr>\n    <tr>\n      <th>1288</th>\n      <td>?</td>\n      <td>?</td>\n      <td>?</td>\n      <td>1</td>\n      <td>1</td>\n      <td>0</td>\n      <td>0</td>\n      <td>0</td>\n      <td>0</td>\n      <td>0</td>\n      <td>...</td>\n      <td>0</td>\n      <td>0</td>\n      <td>0</td>\n      <td>0</td>\n      <td>0</td>\n      <td>0</td>\n      <td>0</td>\n      <td>0</td>\n      <td>0</td>\n      <td>nonad.</td>\n    </tr>\n    <tr>\n      <th>1444</th>\n      <td>39</td>\n      <td>38</td>\n      <td>0.9743</td>\n      <td>1</td>\n      <td>1</td>\n      <td>0</td>\n      <td>0</td>\n      <td>0</td>\n      <td>0</td>\n      <td>0</td>\n      <td>...</td>\n      <td>0</td>\n      <td>0</td>\n      <td>0</td>\n      <td>0</td>\n      <td>0</td>\n      <td>0</td>\n      <td>0</td>\n      <td>0</td>\n      <td>0</td>\n      <td>nonad.</td>\n    </tr>\n    <tr>\n      <th>1717</th>\n      <td>?</td>\n      <td>?</td>\n      <td>?</td>\n      <td>1</td>\n      <td>1</td>\n      <td>0</td>\n      <td>0</td>\n      <td>0</td>\n      <td>0</td>\n      <td>0</td>\n      <td>...</td>\n      <td>0</td>\n      <td>0</td>\n      <td>0</td>\n      <td>0</td>\n      <td>0</td>\n      <td>0</td>\n      <td>0</td>\n      <td>0</td>\n      <td>0</td>\n      <td>nonad.</td>\n    </tr>\n    <tr>\n      <th>2376</th>\n      <td>49</td>\n      <td>49</td>\n      <td>1.0</td>\n      <td>1</td>\n      <td>1</td>\n      <td>0</td>\n      <td>0</td>\n      <td>0</td>\n      <td>0</td>\n      <td>0</td>\n      <td>...</td>\n      <td>0</td>\n      <td>0</td>\n      <td>0</td>\n      <td>0</td>\n      <td>0</td>\n      <td>0</td>\n      <td>0</td>\n      <td>0</td>\n      <td>0</td>\n      <td>nonad.</td>\n    </tr>\n    <tr>\n      <th>2400</th>\n      <td>47</td>\n      <td>49</td>\n      <td>1.0425</td>\n      <td>1</td>\n      <td>1</td>\n      <td>0</td>\n      <td>0</td>\n      <td>0</td>\n      <td>0</td>\n      <td>0</td>\n      <td>...</td>\n      <td>0</td>\n      <td>0</td>\n      <td>0</td>\n      <td>0</td>\n      <td>0</td>\n      <td>0</td>\n      <td>0</td>\n      <td>0</td>\n      <td>0</td>\n      <td>nonad.</td>\n    </tr>\n    <tr>\n      <th>2524</th>\n      <td>36</td>\n      <td>75</td>\n      <td>2.0833</td>\n      <td>1</td>\n      <td>1</td>\n      <td>0</td>\n      <td>0</td>\n      <td>0</td>\n      <td>0</td>\n      <td>0</td>\n      <td>...</td>\n      <td>0</td>\n      <td>0</td>\n      <td>0</td>\n      <td>0</td>\n      <td>0</td>\n      <td>0</td>\n      <td>0</td>\n      <td>0</td>\n      <td>0</td>\n      <td>nonad.</td>\n    </tr>\n  </tbody>\n</table>\n<p>14 rows × 1559 columns</p>\n</div>"
     },
     "metadata": {},
     "execution_count": 60
    }
   ],
   "source": [
    "data[data[4] > 0]"
   ]
  },
  {
   "cell_type": "markdown",
   "metadata": {},
   "source": [
    "There are also a number of methods for accessing data out of a DataFrame:\n",
    "- `iloc`: Looks at the positions of the index column, slicing will work like in ordinary Python.\n",
    "- `loc`: Looks at the labels of the index column, slicing will include the last label (unlike ordinary python).\n",
    "- `at`: Returns data in one cell given the row and column labels.\n",
    "- `iat`: Works like `at`, but expects column and row positions rather than labels."
   ]
  },
  {
   "cell_type": "code",
   "execution_count": 73,
   "metadata": {},
   "outputs": [
    {
     "output_type": "execute_result",
     "data": {
      "text/plain": "   0     1       2    3     4     5     6     7     8     9     ...  1549  \\\n0   125   125     1.0    1     0     0     0     0     0     0  ...     0   \n1    57   468  8.2105    1     0     0     0     0     0     0  ...     0   \n2    33   230  6.9696    1     0     0     0     0     0     0  ...     0   \n\n   1550  1551  1552  1553  1554  1555  1556  1557  1558  \n0     0     0     0     0     0     0     0     0   ad.  \n1     0     0     0     0     0     0     0     0   ad.  \n2     0     0     0     0     0     0     0     0   ad.  \n\n[3 rows x 1559 columns]",
      "text/html": "<div>\n<style scoped>\n    .dataframe tbody tr th:only-of-type {\n        vertical-align: middle;\n    }\n\n    .dataframe tbody tr th {\n        vertical-align: top;\n    }\n\n    .dataframe thead th {\n        text-align: right;\n    }\n</style>\n<table border=\"1\" class=\"dataframe\">\n  <thead>\n    <tr style=\"text-align: right;\">\n      <th></th>\n      <th>0</th>\n      <th>1</th>\n      <th>2</th>\n      <th>3</th>\n      <th>4</th>\n      <th>5</th>\n      <th>6</th>\n      <th>7</th>\n      <th>8</th>\n      <th>9</th>\n      <th>...</th>\n      <th>1549</th>\n      <th>1550</th>\n      <th>1551</th>\n      <th>1552</th>\n      <th>1553</th>\n      <th>1554</th>\n      <th>1555</th>\n      <th>1556</th>\n      <th>1557</th>\n      <th>1558</th>\n    </tr>\n  </thead>\n  <tbody>\n    <tr>\n      <th>0</th>\n      <td>125</td>\n      <td>125</td>\n      <td>1.0</td>\n      <td>1</td>\n      <td>0</td>\n      <td>0</td>\n      <td>0</td>\n      <td>0</td>\n      <td>0</td>\n      <td>0</td>\n      <td>...</td>\n      <td>0</td>\n      <td>0</td>\n      <td>0</td>\n      <td>0</td>\n      <td>0</td>\n      <td>0</td>\n      <td>0</td>\n      <td>0</td>\n      <td>0</td>\n      <td>ad.</td>\n    </tr>\n    <tr>\n      <th>1</th>\n      <td>57</td>\n      <td>468</td>\n      <td>8.2105</td>\n      <td>1</td>\n      <td>0</td>\n      <td>0</td>\n      <td>0</td>\n      <td>0</td>\n      <td>0</td>\n      <td>0</td>\n      <td>...</td>\n      <td>0</td>\n      <td>0</td>\n      <td>0</td>\n      <td>0</td>\n      <td>0</td>\n      <td>0</td>\n      <td>0</td>\n      <td>0</td>\n      <td>0</td>\n      <td>ad.</td>\n    </tr>\n    <tr>\n      <th>2</th>\n      <td>33</td>\n      <td>230</td>\n      <td>6.9696</td>\n      <td>1</td>\n      <td>0</td>\n      <td>0</td>\n      <td>0</td>\n      <td>0</td>\n      <td>0</td>\n      <td>0</td>\n      <td>...</td>\n      <td>0</td>\n      <td>0</td>\n      <td>0</td>\n      <td>0</td>\n      <td>0</td>\n      <td>0</td>\n      <td>0</td>\n      <td>0</td>\n      <td>0</td>\n      <td>ad.</td>\n    </tr>\n  </tbody>\n</table>\n<p>3 rows × 1559 columns</p>\n</div>"
     },
     "metadata": {},
     "execution_count": 73
    }
   ],
   "source": [
    "data.iloc[:3]\n",
    "# data.loc[:3]\n",
    "# data.at[1, 2]\n",
    "# data.iat[1, 2]"
   ]
  },
  {
   "cell_type": "markdown",
   "metadata": {},
   "source": [
    "### Manipulating DataFrames\n",
    "`loc` can also be used to insert new rows, in this case by accessing the non-existing next-to-last row and setting it to some new random data."
   ]
  },
  {
   "cell_type": "code",
   "execution_count": 143,
   "metadata": {},
   "outputs": [],
   "source": [
    "new_row = [random.randint(0,1) for r in range(1558)] + ['ad.']\n",
    "data.loc[len(data)] = new_row"
   ]
  },
  {
   "cell_type": "code",
   "execution_count": 80,
   "metadata": {},
   "outputs": [
    {
     "output_type": "execute_result",
     "data": {
      "text/plain": "      0     1       2    3     4     5     6     7     8     9     ...  1549  \\\n3277     ?     ?       ?    1     0     0     0     0     0     0  ...     0   \n3278    40    40     1.0    1     0     0     0     0     0     0  ...     0   \n3279     1     1       1    1     0     0     0     1     1     0  ...     0   \n3280     1     1       1    1     0     0     1     0     1     1  ...     0   \n3281     0     0       1    0     0     0     0     0     1     1  ...     0   \n\n      1550  1551  1552  1553  1554  1555  1556  1557    1558  \n3277     0     0     0     0     0     0     0     0  nonad.  \n3278     0     0     0     0     0     0     0     0  nonad.  \n3279     1     0     1     1     1     0     0     1     ad.  \n3280     1     1     1     1     0     0     1     1     ad.  \n3281     0     0     1     0     1     1     1     1     ad.  \n\n[5 rows x 1559 columns]",
      "text/html": "<div>\n<style scoped>\n    .dataframe tbody tr th:only-of-type {\n        vertical-align: middle;\n    }\n\n    .dataframe tbody tr th {\n        vertical-align: top;\n    }\n\n    .dataframe thead th {\n        text-align: right;\n    }\n</style>\n<table border=\"1\" class=\"dataframe\">\n  <thead>\n    <tr style=\"text-align: right;\">\n      <th></th>\n      <th>0</th>\n      <th>1</th>\n      <th>2</th>\n      <th>3</th>\n      <th>4</th>\n      <th>5</th>\n      <th>6</th>\n      <th>7</th>\n      <th>8</th>\n      <th>9</th>\n      <th>...</th>\n      <th>1549</th>\n      <th>1550</th>\n      <th>1551</th>\n      <th>1552</th>\n      <th>1553</th>\n      <th>1554</th>\n      <th>1555</th>\n      <th>1556</th>\n      <th>1557</th>\n      <th>1558</th>\n    </tr>\n  </thead>\n  <tbody>\n    <tr>\n      <th>3277</th>\n      <td>?</td>\n      <td>?</td>\n      <td>?</td>\n      <td>1</td>\n      <td>0</td>\n      <td>0</td>\n      <td>0</td>\n      <td>0</td>\n      <td>0</td>\n      <td>0</td>\n      <td>...</td>\n      <td>0</td>\n      <td>0</td>\n      <td>0</td>\n      <td>0</td>\n      <td>0</td>\n      <td>0</td>\n      <td>0</td>\n      <td>0</td>\n      <td>0</td>\n      <td>nonad.</td>\n    </tr>\n    <tr>\n      <th>3278</th>\n      <td>40</td>\n      <td>40</td>\n      <td>1.0</td>\n      <td>1</td>\n      <td>0</td>\n      <td>0</td>\n      <td>0</td>\n      <td>0</td>\n      <td>0</td>\n      <td>0</td>\n      <td>...</td>\n      <td>0</td>\n      <td>0</td>\n      <td>0</td>\n      <td>0</td>\n      <td>0</td>\n      <td>0</td>\n      <td>0</td>\n      <td>0</td>\n      <td>0</td>\n      <td>nonad.</td>\n    </tr>\n    <tr>\n      <th>3279</th>\n      <td>1</td>\n      <td>1</td>\n      <td>1</td>\n      <td>1</td>\n      <td>0</td>\n      <td>0</td>\n      <td>0</td>\n      <td>1</td>\n      <td>1</td>\n      <td>0</td>\n      <td>...</td>\n      <td>0</td>\n      <td>1</td>\n      <td>0</td>\n      <td>1</td>\n      <td>1</td>\n      <td>1</td>\n      <td>0</td>\n      <td>0</td>\n      <td>1</td>\n      <td>ad.</td>\n    </tr>\n    <tr>\n      <th>3280</th>\n      <td>1</td>\n      <td>1</td>\n      <td>1</td>\n      <td>1</td>\n      <td>0</td>\n      <td>0</td>\n      <td>1</td>\n      <td>0</td>\n      <td>1</td>\n      <td>1</td>\n      <td>...</td>\n      <td>0</td>\n      <td>1</td>\n      <td>1</td>\n      <td>1</td>\n      <td>1</td>\n      <td>0</td>\n      <td>0</td>\n      <td>1</td>\n      <td>1</td>\n      <td>ad.</td>\n    </tr>\n    <tr>\n      <th>3281</th>\n      <td>0</td>\n      <td>0</td>\n      <td>1</td>\n      <td>0</td>\n      <td>0</td>\n      <td>0</td>\n      <td>0</td>\n      <td>0</td>\n      <td>1</td>\n      <td>1</td>\n      <td>...</td>\n      <td>0</td>\n      <td>0</td>\n      <td>0</td>\n      <td>1</td>\n      <td>0</td>\n      <td>1</td>\n      <td>1</td>\n      <td>1</td>\n      <td>1</td>\n      <td>ad.</td>\n    </tr>\n  </tbody>\n</table>\n<p>5 rows × 1559 columns</p>\n</div>"
     },
     "metadata": {},
     "execution_count": 80
    }
   ],
   "source": [
    "data.tail()"
   ]
  },
  {
   "cell_type": "markdown",
   "metadata": {},
   "source": [
    "Inserting new columns can be done quite easily by just indxing into a new column label and setting the data."
   ]
  },
  {
   "cell_type": "code",
   "execution_count": 89,
   "metadata": {},
   "outputs": [
    {
     "output_type": "execute_result",
     "data": {
      "text/plain": "         0     1       2  3  4  5  6  7  8  9  ...  1550  1551  1552  1553  \\\n0      125   125     1.0  1  0  0  0  0  0  0  ...     0     0     0     0   \n1       57   468  8.2105  1  0  0  0  0  0  0  ...     0     0     0     0   \n2       33   230  6.9696  1  0  0  0  0  0  0  ...     0     0     0     0   \n3       60   468     7.8  1  0  0  0  0  0  0  ...     0     0     0     0   \n4       60   468     7.8  1  0  0  0  0  0  0  ...     0     0     0     0   \n...    ...   ...     ... .. .. .. .. .. .. ..  ...   ...   ...   ...   ...   \n3277     ?     ?       ?  1  0  0  0  0  0  0  ...     0     0     0     0   \n3278    40    40     1.0  1  0  0  0  0  0  0  ...     0     0     0     0   \n3279     1     1       1  1  0  0  0  1  1  0  ...     1     0     1     1   \n3280     1     1       1  1  0  0  1  0  1  1  ...     1     1     1     1   \n3281     0     0       1  0  0  0  0  0  1  1  ...     0     0     1     0   \n\n      1554  1555  1556  1557    1558  new_column  \n0        0     0     0     0     ad.           1  \n1        0     0     0     0     ad.           1  \n2        0     0     0     0     ad.           1  \n3        0     0     0     0     ad.           1  \n4        0     0     0     0     ad.           1  \n...    ...   ...   ...   ...     ...         ...  \n3277     0     0     0     0  nonad.           1  \n3278     0     0     0     0  nonad.           1  \n3279     1     0     0     1     ad.           1  \n3280     0     0     1     1     ad.           1  \n3281     1     1     1     1     ad.           1  \n\n[3282 rows x 1560 columns]",
      "text/html": "<div>\n<style scoped>\n    .dataframe tbody tr th:only-of-type {\n        vertical-align: middle;\n    }\n\n    .dataframe tbody tr th {\n        vertical-align: top;\n    }\n\n    .dataframe thead th {\n        text-align: right;\n    }\n</style>\n<table border=\"1\" class=\"dataframe\">\n  <thead>\n    <tr style=\"text-align: right;\">\n      <th></th>\n      <th>0</th>\n      <th>1</th>\n      <th>2</th>\n      <th>3</th>\n      <th>4</th>\n      <th>5</th>\n      <th>6</th>\n      <th>7</th>\n      <th>8</th>\n      <th>9</th>\n      <th>...</th>\n      <th>1550</th>\n      <th>1551</th>\n      <th>1552</th>\n      <th>1553</th>\n      <th>1554</th>\n      <th>1555</th>\n      <th>1556</th>\n      <th>1557</th>\n      <th>1558</th>\n      <th>new_column</th>\n    </tr>\n  </thead>\n  <tbody>\n    <tr>\n      <th>0</th>\n      <td>125</td>\n      <td>125</td>\n      <td>1.0</td>\n      <td>1</td>\n      <td>0</td>\n      <td>0</td>\n      <td>0</td>\n      <td>0</td>\n      <td>0</td>\n      <td>0</td>\n      <td>...</td>\n      <td>0</td>\n      <td>0</td>\n      <td>0</td>\n      <td>0</td>\n      <td>0</td>\n      <td>0</td>\n      <td>0</td>\n      <td>0</td>\n      <td>ad.</td>\n      <td>1</td>\n    </tr>\n    <tr>\n      <th>1</th>\n      <td>57</td>\n      <td>468</td>\n      <td>8.2105</td>\n      <td>1</td>\n      <td>0</td>\n      <td>0</td>\n      <td>0</td>\n      <td>0</td>\n      <td>0</td>\n      <td>0</td>\n      <td>...</td>\n      <td>0</td>\n      <td>0</td>\n      <td>0</td>\n      <td>0</td>\n      <td>0</td>\n      <td>0</td>\n      <td>0</td>\n      <td>0</td>\n      <td>ad.</td>\n      <td>1</td>\n    </tr>\n    <tr>\n      <th>2</th>\n      <td>33</td>\n      <td>230</td>\n      <td>6.9696</td>\n      <td>1</td>\n      <td>0</td>\n      <td>0</td>\n      <td>0</td>\n      <td>0</td>\n      <td>0</td>\n      <td>0</td>\n      <td>...</td>\n      <td>0</td>\n      <td>0</td>\n      <td>0</td>\n      <td>0</td>\n      <td>0</td>\n      <td>0</td>\n      <td>0</td>\n      <td>0</td>\n      <td>ad.</td>\n      <td>1</td>\n    </tr>\n    <tr>\n      <th>3</th>\n      <td>60</td>\n      <td>468</td>\n      <td>7.8</td>\n      <td>1</td>\n      <td>0</td>\n      <td>0</td>\n      <td>0</td>\n      <td>0</td>\n      <td>0</td>\n      <td>0</td>\n      <td>...</td>\n      <td>0</td>\n      <td>0</td>\n      <td>0</td>\n      <td>0</td>\n      <td>0</td>\n      <td>0</td>\n      <td>0</td>\n      <td>0</td>\n      <td>ad.</td>\n      <td>1</td>\n    </tr>\n    <tr>\n      <th>4</th>\n      <td>60</td>\n      <td>468</td>\n      <td>7.8</td>\n      <td>1</td>\n      <td>0</td>\n      <td>0</td>\n      <td>0</td>\n      <td>0</td>\n      <td>0</td>\n      <td>0</td>\n      <td>...</td>\n      <td>0</td>\n      <td>0</td>\n      <td>0</td>\n      <td>0</td>\n      <td>0</td>\n      <td>0</td>\n      <td>0</td>\n      <td>0</td>\n      <td>ad.</td>\n      <td>1</td>\n    </tr>\n    <tr>\n      <th>...</th>\n      <td>...</td>\n      <td>...</td>\n      <td>...</td>\n      <td>...</td>\n      <td>...</td>\n      <td>...</td>\n      <td>...</td>\n      <td>...</td>\n      <td>...</td>\n      <td>...</td>\n      <td>...</td>\n      <td>...</td>\n      <td>...</td>\n      <td>...</td>\n      <td>...</td>\n      <td>...</td>\n      <td>...</td>\n      <td>...</td>\n      <td>...</td>\n      <td>...</td>\n      <td>...</td>\n    </tr>\n    <tr>\n      <th>3277</th>\n      <td>?</td>\n      <td>?</td>\n      <td>?</td>\n      <td>1</td>\n      <td>0</td>\n      <td>0</td>\n      <td>0</td>\n      <td>0</td>\n      <td>0</td>\n      <td>0</td>\n      <td>...</td>\n      <td>0</td>\n      <td>0</td>\n      <td>0</td>\n      <td>0</td>\n      <td>0</td>\n      <td>0</td>\n      <td>0</td>\n      <td>0</td>\n      <td>nonad.</td>\n      <td>1</td>\n    </tr>\n    <tr>\n      <th>3278</th>\n      <td>40</td>\n      <td>40</td>\n      <td>1.0</td>\n      <td>1</td>\n      <td>0</td>\n      <td>0</td>\n      <td>0</td>\n      <td>0</td>\n      <td>0</td>\n      <td>0</td>\n      <td>...</td>\n      <td>0</td>\n      <td>0</td>\n      <td>0</td>\n      <td>0</td>\n      <td>0</td>\n      <td>0</td>\n      <td>0</td>\n      <td>0</td>\n      <td>nonad.</td>\n      <td>1</td>\n    </tr>\n    <tr>\n      <th>3279</th>\n      <td>1</td>\n      <td>1</td>\n      <td>1</td>\n      <td>1</td>\n      <td>0</td>\n      <td>0</td>\n      <td>0</td>\n      <td>1</td>\n      <td>1</td>\n      <td>0</td>\n      <td>...</td>\n      <td>1</td>\n      <td>0</td>\n      <td>1</td>\n      <td>1</td>\n      <td>1</td>\n      <td>0</td>\n      <td>0</td>\n      <td>1</td>\n      <td>ad.</td>\n      <td>1</td>\n    </tr>\n    <tr>\n      <th>3280</th>\n      <td>1</td>\n      <td>1</td>\n      <td>1</td>\n      <td>1</td>\n      <td>0</td>\n      <td>0</td>\n      <td>1</td>\n      <td>0</td>\n      <td>1</td>\n      <td>1</td>\n      <td>...</td>\n      <td>1</td>\n      <td>1</td>\n      <td>1</td>\n      <td>1</td>\n      <td>0</td>\n      <td>0</td>\n      <td>1</td>\n      <td>1</td>\n      <td>ad.</td>\n      <td>1</td>\n    </tr>\n    <tr>\n      <th>3281</th>\n      <td>0</td>\n      <td>0</td>\n      <td>1</td>\n      <td>0</td>\n      <td>0</td>\n      <td>0</td>\n      <td>0</td>\n      <td>0</td>\n      <td>1</td>\n      <td>1</td>\n      <td>...</td>\n      <td>0</td>\n      <td>0</td>\n      <td>1</td>\n      <td>0</td>\n      <td>1</td>\n      <td>1</td>\n      <td>1</td>\n      <td>1</td>\n      <td>ad.</td>\n      <td>1</td>\n    </tr>\n  </tbody>\n</table>\n<p>3282 rows × 1560 columns</p>\n</div>"
     },
     "metadata": {},
     "execution_count": 89
    }
   ],
   "source": [
    "data['new_column'] = 1 # This sets the data of the entire column to 1\n",
    "data"
   ]
  },
  {
   "cell_type": "markdown",
   "metadata": {},
   "source": [
    "We can then remove these with the `drop` function. Note that we have to specify axis=1 for this to work on columns."
   ]
  },
  {
   "cell_type": "code",
   "execution_count": 90,
   "metadata": {},
   "outputs": [
    {
     "output_type": "execute_result",
     "data": {
      "text/plain": "      0     1       2    3     4     5     6     7     8     9     ...  1549  \\\n0      125   125     1.0    1     0     0     0     0     0     0  ...     0   \n1       57   468  8.2105    1     0     0     0     0     0     0  ...     0   \n2       33   230  6.9696    1     0     0     0     0     0     0  ...     0   \n3       60   468     7.8    1     0     0     0     0     0     0  ...     0   \n4       60   468     7.8    1     0     0     0     0     0     0  ...     0   \n...    ...   ...     ...  ...   ...   ...   ...   ...   ...   ...  ...   ...   \n3277     ?     ?       ?    1     0     0     0     0     0     0  ...     0   \n3278    40    40     1.0    1     0     0     0     0     0     0  ...     0   \n3279     1     1       1    1     0     0     0     1     1     0  ...     0   \n3280     1     1       1    1     0     0     1     0     1     1  ...     0   \n3281     0     0       1    0     0     0     0     0     1     1  ...     0   \n\n      1550  1551  1552  1553  1554  1555  1556  1557    1558  \n0        0     0     0     0     0     0     0     0     ad.  \n1        0     0     0     0     0     0     0     0     ad.  \n2        0     0     0     0     0     0     0     0     ad.  \n3        0     0     0     0     0     0     0     0     ad.  \n4        0     0     0     0     0     0     0     0     ad.  \n...    ...   ...   ...   ...   ...   ...   ...   ...     ...  \n3277     0     0     0     0     0     0     0     0  nonad.  \n3278     0     0     0     0     0     0     0     0  nonad.  \n3279     1     0     1     1     1     0     0     1     ad.  \n3280     1     1     1     1     0     0     1     1     ad.  \n3281     0     0     1     0     1     1     1     1     ad.  \n\n[3282 rows x 1559 columns]",
      "text/html": "<div>\n<style scoped>\n    .dataframe tbody tr th:only-of-type {\n        vertical-align: middle;\n    }\n\n    .dataframe tbody tr th {\n        vertical-align: top;\n    }\n\n    .dataframe thead th {\n        text-align: right;\n    }\n</style>\n<table border=\"1\" class=\"dataframe\">\n  <thead>\n    <tr style=\"text-align: right;\">\n      <th></th>\n      <th>0</th>\n      <th>1</th>\n      <th>2</th>\n      <th>3</th>\n      <th>4</th>\n      <th>5</th>\n      <th>6</th>\n      <th>7</th>\n      <th>8</th>\n      <th>9</th>\n      <th>...</th>\n      <th>1549</th>\n      <th>1550</th>\n      <th>1551</th>\n      <th>1552</th>\n      <th>1553</th>\n      <th>1554</th>\n      <th>1555</th>\n      <th>1556</th>\n      <th>1557</th>\n      <th>1558</th>\n    </tr>\n  </thead>\n  <tbody>\n    <tr>\n      <th>0</th>\n      <td>125</td>\n      <td>125</td>\n      <td>1.0</td>\n      <td>1</td>\n      <td>0</td>\n      <td>0</td>\n      <td>0</td>\n      <td>0</td>\n      <td>0</td>\n      <td>0</td>\n      <td>...</td>\n      <td>0</td>\n      <td>0</td>\n      <td>0</td>\n      <td>0</td>\n      <td>0</td>\n      <td>0</td>\n      <td>0</td>\n      <td>0</td>\n      <td>0</td>\n      <td>ad.</td>\n    </tr>\n    <tr>\n      <th>1</th>\n      <td>57</td>\n      <td>468</td>\n      <td>8.2105</td>\n      <td>1</td>\n      <td>0</td>\n      <td>0</td>\n      <td>0</td>\n      <td>0</td>\n      <td>0</td>\n      <td>0</td>\n      <td>...</td>\n      <td>0</td>\n      <td>0</td>\n      <td>0</td>\n      <td>0</td>\n      <td>0</td>\n      <td>0</td>\n      <td>0</td>\n      <td>0</td>\n      <td>0</td>\n      <td>ad.</td>\n    </tr>\n    <tr>\n      <th>2</th>\n      <td>33</td>\n      <td>230</td>\n      <td>6.9696</td>\n      <td>1</td>\n      <td>0</td>\n      <td>0</td>\n      <td>0</td>\n      <td>0</td>\n      <td>0</td>\n      <td>0</td>\n      <td>...</td>\n      <td>0</td>\n      <td>0</td>\n      <td>0</td>\n      <td>0</td>\n      <td>0</td>\n      <td>0</td>\n      <td>0</td>\n      <td>0</td>\n      <td>0</td>\n      <td>ad.</td>\n    </tr>\n    <tr>\n      <th>3</th>\n      <td>60</td>\n      <td>468</td>\n      <td>7.8</td>\n      <td>1</td>\n      <td>0</td>\n      <td>0</td>\n      <td>0</td>\n      <td>0</td>\n      <td>0</td>\n      <td>0</td>\n      <td>...</td>\n      <td>0</td>\n      <td>0</td>\n      <td>0</td>\n      <td>0</td>\n      <td>0</td>\n      <td>0</td>\n      <td>0</td>\n      <td>0</td>\n      <td>0</td>\n      <td>ad.</td>\n    </tr>\n    <tr>\n      <th>4</th>\n      <td>60</td>\n      <td>468</td>\n      <td>7.8</td>\n      <td>1</td>\n      <td>0</td>\n      <td>0</td>\n      <td>0</td>\n      <td>0</td>\n      <td>0</td>\n      <td>0</td>\n      <td>...</td>\n      <td>0</td>\n      <td>0</td>\n      <td>0</td>\n      <td>0</td>\n      <td>0</td>\n      <td>0</td>\n      <td>0</td>\n      <td>0</td>\n      <td>0</td>\n      <td>ad.</td>\n    </tr>\n    <tr>\n      <th>...</th>\n      <td>...</td>\n      <td>...</td>\n      <td>...</td>\n      <td>...</td>\n      <td>...</td>\n      <td>...</td>\n      <td>...</td>\n      <td>...</td>\n      <td>...</td>\n      <td>...</td>\n      <td>...</td>\n      <td>...</td>\n      <td>...</td>\n      <td>...</td>\n      <td>...</td>\n      <td>...</td>\n      <td>...</td>\n      <td>...</td>\n      <td>...</td>\n      <td>...</td>\n      <td>...</td>\n    </tr>\n    <tr>\n      <th>3277</th>\n      <td>?</td>\n      <td>?</td>\n      <td>?</td>\n      <td>1</td>\n      <td>0</td>\n      <td>0</td>\n      <td>0</td>\n      <td>0</td>\n      <td>0</td>\n      <td>0</td>\n      <td>...</td>\n      <td>0</td>\n      <td>0</td>\n      <td>0</td>\n      <td>0</td>\n      <td>0</td>\n      <td>0</td>\n      <td>0</td>\n      <td>0</td>\n      <td>0</td>\n      <td>nonad.</td>\n    </tr>\n    <tr>\n      <th>3278</th>\n      <td>40</td>\n      <td>40</td>\n      <td>1.0</td>\n      <td>1</td>\n      <td>0</td>\n      <td>0</td>\n      <td>0</td>\n      <td>0</td>\n      <td>0</td>\n      <td>0</td>\n      <td>...</td>\n      <td>0</td>\n      <td>0</td>\n      <td>0</td>\n      <td>0</td>\n      <td>0</td>\n      <td>0</td>\n      <td>0</td>\n      <td>0</td>\n      <td>0</td>\n      <td>nonad.</td>\n    </tr>\n    <tr>\n      <th>3279</th>\n      <td>1</td>\n      <td>1</td>\n      <td>1</td>\n      <td>1</td>\n      <td>0</td>\n      <td>0</td>\n      <td>0</td>\n      <td>1</td>\n      <td>1</td>\n      <td>0</td>\n      <td>...</td>\n      <td>0</td>\n      <td>1</td>\n      <td>0</td>\n      <td>1</td>\n      <td>1</td>\n      <td>1</td>\n      <td>0</td>\n      <td>0</td>\n      <td>1</td>\n      <td>ad.</td>\n    </tr>\n    <tr>\n      <th>3280</th>\n      <td>1</td>\n      <td>1</td>\n      <td>1</td>\n      <td>1</td>\n      <td>0</td>\n      <td>0</td>\n      <td>1</td>\n      <td>0</td>\n      <td>1</td>\n      <td>1</td>\n      <td>...</td>\n      <td>0</td>\n      <td>1</td>\n      <td>1</td>\n      <td>1</td>\n      <td>1</td>\n      <td>0</td>\n      <td>0</td>\n      <td>1</td>\n      <td>1</td>\n      <td>ad.</td>\n    </tr>\n    <tr>\n      <th>3281</th>\n      <td>0</td>\n      <td>0</td>\n      <td>1</td>\n      <td>0</td>\n      <td>0</td>\n      <td>0</td>\n      <td>0</td>\n      <td>0</td>\n      <td>1</td>\n      <td>1</td>\n      <td>...</td>\n      <td>0</td>\n      <td>0</td>\n      <td>0</td>\n      <td>1</td>\n      <td>0</td>\n      <td>1</td>\n      <td>1</td>\n      <td>1</td>\n      <td>1</td>\n      <td>ad.</td>\n    </tr>\n  </tbody>\n</table>\n<p>3282 rows × 1559 columns</p>\n</div>"
     },
     "metadata": {},
     "execution_count": 90
    }
   ],
   "source": [
    "data = data.drop('new_column', axis=1)\n",
    "data"
   ]
  },
  {
   "cell_type": "markdown",
   "metadata": {},
   "source": [
    "### Duplicates and Uniques\n",
    "When looking at a certain column or a set of rows in a DataFrame it might be interesting to see if there are duplicates. This can be done with the `duplicated` functions, returning a boolean Series corresponding to duplicate values. Sometimes we might want to get rid of any duplicates which can be done with the `drop_duplicates` function.\n",
    "\n",
    "On a similar note, we sometimes want to get an overview of the unique values in our data. There are a couple useful functions for this:\n",
    "- `unique`: Returning all unique values from a column.\n",
    "- `nunique`: Returning the number of unique values in a column.\n",
    "- `value_counts`: Returning the unique values of a column (or DataFrame), including their number of occurances."
   ]
  },
  {
   "cell_type": "code",
   "execution_count": 110,
   "metadata": {},
   "outputs": [
    {
     "output_type": "execute_result",
     "data": {
      "text/plain": "0       False\n1       False\n2       False\n3       False\n4       False\n        ...  \n3277     True\n3278    False\n3279    False\n3280    False\n3281    False\nLength: 3282, dtype: bool"
     },
     "metadata": {},
     "execution_count": 110
    }
   ],
   "source": [
    "# data.duplicated()\n",
    "# data[1].unique()\n",
    "# data[1].nunique()\n",
    "data[1].value_counts()"
   ]
  },
  {
   "cell_type": "markdown",
   "metadata": {},
   "source": [
    "### Handling NaN\n",
    "As mentioned earlier in this notebook, we can locate non-existing data with the `isnan` function. However, we might want to actually do something about these. In comes `dropna` and `fillna` to the rescue! The former will drop any rows containing `NaN` values whereas the latter will replace those values with some new given value."
   ]
  },
  {
   "cell_type": "code",
   "execution_count": 142,
   "metadata": {},
   "outputs": [
    {
     "output_type": "execute_result",
     "data": {
      "text/plain": "                    Age CanDrive FavDrink SecretlyLizard\nName                                                    \nFrans                22     True   Coffee            NaN\nTim                  17      NaN     Milk            NaN\nJonas                24     True      NaN            NaN\nQueen Elizabeth II   94    False      Tea           True",
      "text/html": "<div>\n<style scoped>\n    .dataframe tbody tr th:only-of-type {\n        vertical-align: middle;\n    }\n\n    .dataframe tbody tr th {\n        vertical-align: top;\n    }\n\n    .dataframe thead th {\n        text-align: right;\n    }\n</style>\n<table border=\"1\" class=\"dataframe\">\n  <thead>\n    <tr style=\"text-align: right;\">\n      <th></th>\n      <th>Age</th>\n      <th>CanDrive</th>\n      <th>FavDrink</th>\n      <th>SecretlyLizard</th>\n    </tr>\n    <tr>\n      <th>Name</th>\n      <th></th>\n      <th></th>\n      <th></th>\n      <th></th>\n    </tr>\n  </thead>\n  <tbody>\n    <tr>\n      <th>Frans</th>\n      <td>22</td>\n      <td>True</td>\n      <td>Coffee</td>\n      <td>NaN</td>\n    </tr>\n    <tr>\n      <th>Tim</th>\n      <td>17</td>\n      <td>NaN</td>\n      <td>Milk</td>\n      <td>NaN</td>\n    </tr>\n    <tr>\n      <th>Jonas</th>\n      <td>24</td>\n      <td>True</td>\n      <td>NaN</td>\n      <td>NaN</td>\n    </tr>\n    <tr>\n      <th>Queen Elizabeth II</th>\n      <td>94</td>\n      <td>False</td>\n      <td>Tea</td>\n      <td>True</td>\n    </tr>\n  </tbody>\n</table>\n</div>"
     },
     "metadata": {},
     "execution_count": 142
    }
   ],
   "source": [
    "# Set up dictionaries with similar keys for each person\n",
    "person_1 = {'Name': 'Frans', 'Age': 22, 'CanDrive': True, 'FavDrink': 'Coffee' }\n",
    "person_2 = {'Name': 'Tim', 'Age': 17, 'FavDrink': 'Milk' }\n",
    "person_3 = {'Name': 'Jonas', 'Age': 24, 'CanDrive': True }\n",
    "the_queen = {'Name': 'Queen Elizabeth II', 'Age': 94, 'CanDrive': False, 'SecretlyLizard': True, 'FavDrink': 'Tea'}\n",
    "\n",
    "# Create the DataFrame and set its index to be the name of each person\n",
    "person_data = pd.DataFrame([person_1, person_2, person_3, the_queen])\n",
    "person_data.set_index(person_data['Name'], inplace=True)\n",
    "# Drop the now unecessary name column\n",
    "person_data.drop('Name', axis=1, inplace=True)\n",
    "\n",
    "person_data"
   ]
  },
  {
   "cell_type": "markdown",
   "metadata": {},
   "source": [
    "Just using `dropna` can be very reductive, seeing as we only keep \"perfect\" data. Though, sometimes this is exactly what we need."
   ]
  },
  {
   "cell_type": "code",
   "execution_count": 138,
   "metadata": {},
   "outputs": [
    {
     "output_type": "execute_result",
     "data": {
      "text/plain": "                    Age CanDrive FavDrink SecretlyLizard\nName                                                    \nQueen Elizabeth II   94    False      Tea           True",
      "text/html": "<div>\n<style scoped>\n    .dataframe tbody tr th:only-of-type {\n        vertical-align: middle;\n    }\n\n    .dataframe tbody tr th {\n        vertical-align: top;\n    }\n\n    .dataframe thead th {\n        text-align: right;\n    }\n</style>\n<table border=\"1\" class=\"dataframe\">\n  <thead>\n    <tr style=\"text-align: right;\">\n      <th></th>\n      <th>Age</th>\n      <th>CanDrive</th>\n      <th>FavDrink</th>\n      <th>SecretlyLizard</th>\n    </tr>\n    <tr>\n      <th>Name</th>\n      <th></th>\n      <th></th>\n      <th></th>\n      <th></th>\n    </tr>\n  </thead>\n  <tbody>\n    <tr>\n      <th>Queen Elizabeth II</th>\n      <td>94</td>\n      <td>False</td>\n      <td>Tea</td>\n      <td>True</td>\n    </tr>\n  </tbody>\n</table>\n</div>"
     },
     "metadata": {},
     "execution_count": 138
    }
   ],
   "source": [
    "no_na = person_data.dropna()\n",
    "no_na"
   ]
  },
  {
   "cell_type": "markdown",
   "metadata": {},
   "source": [
    "However, let's try to be a bit more clever and use `fillna` instead."
   ]
  },
  {
   "cell_type": "code",
   "execution_count": 139,
   "metadata": {},
   "outputs": [
    {
     "output_type": "execute_result",
     "data": {
      "text/plain": "                    Age  CanDrive FavDrink  SecretlyLizard\nName                                                      \nFrans                22      True   Coffee           False\nTim                  17     False     Milk           False\nJonas                24      True    False           False\nQueen Elizabeth II   94     False      Tea            True",
      "text/html": "<div>\n<style scoped>\n    .dataframe tbody tr th:only-of-type {\n        vertical-align: middle;\n    }\n\n    .dataframe tbody tr th {\n        vertical-align: top;\n    }\n\n    .dataframe thead th {\n        text-align: right;\n    }\n</style>\n<table border=\"1\" class=\"dataframe\">\n  <thead>\n    <tr style=\"text-align: right;\">\n      <th></th>\n      <th>Age</th>\n      <th>CanDrive</th>\n      <th>FavDrink</th>\n      <th>SecretlyLizard</th>\n    </tr>\n    <tr>\n      <th>Name</th>\n      <th></th>\n      <th></th>\n      <th></th>\n      <th></th>\n    </tr>\n  </thead>\n  <tbody>\n    <tr>\n      <th>Frans</th>\n      <td>22</td>\n      <td>True</td>\n      <td>Coffee</td>\n      <td>False</td>\n    </tr>\n    <tr>\n      <th>Tim</th>\n      <td>17</td>\n      <td>False</td>\n      <td>Milk</td>\n      <td>False</td>\n    </tr>\n    <tr>\n      <th>Jonas</th>\n      <td>24</td>\n      <td>True</td>\n      <td>False</td>\n      <td>False</td>\n    </tr>\n    <tr>\n      <th>Queen Elizabeth II</th>\n      <td>94</td>\n      <td>False</td>\n      <td>Tea</td>\n      <td>True</td>\n    </tr>\n  </tbody>\n</table>\n</div>"
     },
     "metadata": {},
     "execution_count": 139
    }
   ],
   "source": [
    "filled_na = person_data.fillna(False)\n",
    "filled_na"
   ]
  },
  {
   "cell_type": "markdown",
   "metadata": {},
   "source": [
    "This seems to have worked out decently at first, until we realize Jonas doesn't get to have a favorite drink. This could be fixed manually or by being a bit more selective about which columns we apply the fill rules to."
   ]
  },
  {
   "cell_type": "code",
   "execution_count": 141,
   "metadata": {},
   "outputs": [
    {
     "output_type": "execute_result",
     "data": {
      "text/plain": "                    Age  CanDrive FavDrink  SecretlyLizard\nName                                                      \nFrans                22      True   Coffee           False\nTim                  17     False     Milk           False\nJonas                24      True    Water           False\nQueen Elizabeth II   94     False      Tea            True",
      "text/html": "<div>\n<style scoped>\n    .dataframe tbody tr th:only-of-type {\n        vertical-align: middle;\n    }\n\n    .dataframe tbody tr th {\n        vertical-align: top;\n    }\n\n    .dataframe thead th {\n        text-align: right;\n    }\n</style>\n<table border=\"1\" class=\"dataframe\">\n  <thead>\n    <tr style=\"text-align: right;\">\n      <th></th>\n      <th>Age</th>\n      <th>CanDrive</th>\n      <th>FavDrink</th>\n      <th>SecretlyLizard</th>\n    </tr>\n    <tr>\n      <th>Name</th>\n      <th></th>\n      <th></th>\n      <th></th>\n      <th></th>\n    </tr>\n  </thead>\n  <tbody>\n    <tr>\n      <th>Frans</th>\n      <td>22</td>\n      <td>True</td>\n      <td>Coffee</td>\n      <td>False</td>\n    </tr>\n    <tr>\n      <th>Tim</th>\n      <td>17</td>\n      <td>False</td>\n      <td>Milk</td>\n      <td>False</td>\n    </tr>\n    <tr>\n      <th>Jonas</th>\n      <td>24</td>\n      <td>True</td>\n      <td>Water</td>\n      <td>False</td>\n    </tr>\n    <tr>\n      <th>Queen Elizabeth II</th>\n      <td>94</td>\n      <td>False</td>\n      <td>Tea</td>\n      <td>True</td>\n    </tr>\n  </tbody>\n</table>\n</div>"
     },
     "metadata": {},
     "execution_count": 141
    }
   ],
   "source": [
    "fixed_na = person_data\n",
    "fixed_na.at['Jonas', 'FavDrink'] = 'Water'\n",
    "fixed_na.fillna(False, inplace=True)\n",
    "\n",
    "fixed_na # Much better :)"
   ]
  },
  {
   "cell_type": "markdown",
   "metadata": {},
   "source": [
    "## Matplotlib\n",
    "The `pyplot` module of the Matplotlib library (conventionally imported as `plt`) contains visualization functionality similar to MATLAB. The cells below give some basic examples of using this library to create plots"
   ]
  },
  {
   "cell_type": "code",
   "execution_count": 152,
   "metadata": {},
   "outputs": [
    {
     "output_type": "display_data",
     "data": {
      "text/plain": "<Figure size 432x288 with 1 Axes>",
      "image/svg+xml": "<?xml version=\"1.0\" encoding=\"utf-8\" standalone=\"no\"?>\n<!DOCTYPE svg PUBLIC \"-//W3C//DTD SVG 1.1//EN\"\n  \"http://www.w3.org/Graphics/SVG/1.1/DTD/svg11.dtd\">\n<!-- Created with matplotlib (https://matplotlib.org/) -->\n<svg height=\"271.874375pt\" version=\"1.1\" viewBox=\"0 0 400.232812 271.874375\" width=\"400.232812pt\" xmlns=\"http://www.w3.org/2000/svg\" xmlns:xlink=\"http://www.w3.org/1999/xlink\">\n <metadata>\n  <rdf:RDF xmlns:cc=\"http://creativecommons.org/ns#\" xmlns:dc=\"http://purl.org/dc/elements/1.1/\" xmlns:rdf=\"http://www.w3.org/1999/02/22-rdf-syntax-ns#\">\n   <cc:Work>\n    <dc:type rdf:resource=\"http://purl.org/dc/dcmitype/StillImage\"/>\n    <dc:date>2020-09-06T17:15:35.413809</dc:date>\n    <dc:format>image/svg+xml</dc:format>\n    <dc:creator>\n     <cc:Agent>\n      <dc:title>Matplotlib v3.3.1, https://matplotlib.org/</dc:title>\n     </cc:Agent>\n    </dc:creator>\n   </cc:Work>\n  </rdf:RDF>\n </metadata>\n <defs>\n  <style type=\"text/css\">*{stroke-linecap:butt;stroke-linejoin:round;}</style>\n </defs>\n <g id=\"figure_1\">\n  <g id=\"patch_1\">\n   <path d=\"M 0 271.874375 \nL 400.232812 271.874375 \nL 400.232812 0 \nL 0 0 \nz\n\" style=\"fill:none;\"/>\n  </g>\n  <g id=\"axes_1\">\n   <g id=\"patch_2\">\n    <path d=\"M 50.28125 224.64 \nL 385.08125 224.64 \nL 385.08125 7.2 \nL 50.28125 7.2 \nz\n\" style=\"fill:#ffffff;\"/>\n   </g>\n   <g id=\"matplotlib.axis_1\">\n    <g id=\"xtick_1\">\n     <g id=\"line2d_1\">\n      <defs>\n       <path d=\"M 0 0 \nL 0 3.5 \n\" id=\"md31a3f771f\" style=\"stroke:#000000;stroke-width:0.8;\"/>\n      </defs>\n      <g>\n       <use style=\"stroke:#000000;stroke-width:0.8;\" x=\"50.28125\" xlink:href=\"#md31a3f771f\" y=\"224.64\"/>\n      </g>\n     </g>\n     <g id=\"text_1\">\n      <!-- 0.0 -->\n      <g transform=\"translate(42.329688 239.238437)scale(0.1 -0.1)\">\n       <defs>\n        <path d=\"M 31.78125 66.40625 \nQ 24.171875 66.40625 20.328125 58.90625 \nQ 16.5 51.421875 16.5 36.375 \nQ 16.5 21.390625 20.328125 13.890625 \nQ 24.171875 6.390625 31.78125 6.390625 \nQ 39.453125 6.390625 43.28125 13.890625 \nQ 47.125 21.390625 47.125 36.375 \nQ 47.125 51.421875 43.28125 58.90625 \nQ 39.453125 66.40625 31.78125 66.40625 \nz\nM 31.78125 74.21875 \nQ 44.046875 74.21875 50.515625 64.515625 \nQ 56.984375 54.828125 56.984375 36.375 \nQ 56.984375 17.96875 50.515625 8.265625 \nQ 44.046875 -1.421875 31.78125 -1.421875 \nQ 19.53125 -1.421875 13.0625 8.265625 \nQ 6.59375 17.96875 6.59375 36.375 \nQ 6.59375 54.828125 13.0625 64.515625 \nQ 19.53125 74.21875 31.78125 74.21875 \nz\n\" id=\"DejaVuSans-48\"/>\n        <path d=\"M 10.6875 12.40625 \nL 21 12.40625 \nL 21 0 \nL 10.6875 0 \nz\n\" id=\"DejaVuSans-46\"/>\n       </defs>\n       <use xlink:href=\"#DejaVuSans-48\"/>\n       <use x=\"63.623047\" xlink:href=\"#DejaVuSans-46\"/>\n       <use x=\"95.410156\" xlink:href=\"#DejaVuSans-48\"/>\n      </g>\n     </g>\n    </g>\n    <g id=\"xtick_2\">\n     <g id=\"line2d_2\">\n      <g>\n       <use style=\"stroke:#000000;stroke-width:0.8;\" x=\"106.08125\" xlink:href=\"#md31a3f771f\" y=\"224.64\"/>\n      </g>\n     </g>\n     <g id=\"text_2\">\n      <!-- 0.5 -->\n      <g transform=\"translate(98.129688 239.238437)scale(0.1 -0.1)\">\n       <defs>\n        <path d=\"M 10.796875 72.90625 \nL 49.515625 72.90625 \nL 49.515625 64.59375 \nL 19.828125 64.59375 \nL 19.828125 46.734375 \nQ 21.96875 47.46875 24.109375 47.828125 \nQ 26.265625 48.1875 28.421875 48.1875 \nQ 40.625 48.1875 47.75 41.5 \nQ 54.890625 34.8125 54.890625 23.390625 \nQ 54.890625 11.625 47.5625 5.09375 \nQ 40.234375 -1.421875 26.90625 -1.421875 \nQ 22.3125 -1.421875 17.546875 -0.640625 \nQ 12.796875 0.140625 7.71875 1.703125 \nL 7.71875 11.625 \nQ 12.109375 9.234375 16.796875 8.0625 \nQ 21.484375 6.890625 26.703125 6.890625 \nQ 35.15625 6.890625 40.078125 11.328125 \nQ 45.015625 15.765625 45.015625 23.390625 \nQ 45.015625 31 40.078125 35.4375 \nQ 35.15625 39.890625 26.703125 39.890625 \nQ 22.75 39.890625 18.8125 39.015625 \nQ 14.890625 38.140625 10.796875 36.28125 \nz\n\" id=\"DejaVuSans-53\"/>\n       </defs>\n       <use xlink:href=\"#DejaVuSans-48\"/>\n       <use x=\"63.623047\" xlink:href=\"#DejaVuSans-46\"/>\n       <use x=\"95.410156\" xlink:href=\"#DejaVuSans-53\"/>\n      </g>\n     </g>\n    </g>\n    <g id=\"xtick_3\">\n     <g id=\"line2d_3\">\n      <g>\n       <use style=\"stroke:#000000;stroke-width:0.8;\" x=\"161.88125\" xlink:href=\"#md31a3f771f\" y=\"224.64\"/>\n      </g>\n     </g>\n     <g id=\"text_3\">\n      <!-- 1.0 -->\n      <g transform=\"translate(153.929688 239.238437)scale(0.1 -0.1)\">\n       <defs>\n        <path d=\"M 12.40625 8.296875 \nL 28.515625 8.296875 \nL 28.515625 63.921875 \nL 10.984375 60.40625 \nL 10.984375 69.390625 \nL 28.421875 72.90625 \nL 38.28125 72.90625 \nL 38.28125 8.296875 \nL 54.390625 8.296875 \nL 54.390625 0 \nL 12.40625 0 \nz\n\" id=\"DejaVuSans-49\"/>\n       </defs>\n       <use xlink:href=\"#DejaVuSans-49\"/>\n       <use x=\"63.623047\" xlink:href=\"#DejaVuSans-46\"/>\n       <use x=\"95.410156\" xlink:href=\"#DejaVuSans-48\"/>\n      </g>\n     </g>\n    </g>\n    <g id=\"xtick_4\">\n     <g id=\"line2d_4\">\n      <g>\n       <use style=\"stroke:#000000;stroke-width:0.8;\" x=\"217.68125\" xlink:href=\"#md31a3f771f\" y=\"224.64\"/>\n      </g>\n     </g>\n     <g id=\"text_4\">\n      <!-- 1.5 -->\n      <g transform=\"translate(209.729687 239.238437)scale(0.1 -0.1)\">\n       <use xlink:href=\"#DejaVuSans-49\"/>\n       <use x=\"63.623047\" xlink:href=\"#DejaVuSans-46\"/>\n       <use x=\"95.410156\" xlink:href=\"#DejaVuSans-53\"/>\n      </g>\n     </g>\n    </g>\n    <g id=\"xtick_5\">\n     <g id=\"line2d_5\">\n      <g>\n       <use style=\"stroke:#000000;stroke-width:0.8;\" x=\"273.48125\" xlink:href=\"#md31a3f771f\" y=\"224.64\"/>\n      </g>\n     </g>\n     <g id=\"text_5\">\n      <!-- 2.0 -->\n      <g transform=\"translate(265.529687 239.238437)scale(0.1 -0.1)\">\n       <defs>\n        <path d=\"M 19.1875 8.296875 \nL 53.609375 8.296875 \nL 53.609375 0 \nL 7.328125 0 \nL 7.328125 8.296875 \nQ 12.9375 14.109375 22.625 23.890625 \nQ 32.328125 33.6875 34.8125 36.53125 \nQ 39.546875 41.84375 41.421875 45.53125 \nQ 43.3125 49.21875 43.3125 52.78125 \nQ 43.3125 58.59375 39.234375 62.25 \nQ 35.15625 65.921875 28.609375 65.921875 \nQ 23.96875 65.921875 18.8125 64.3125 \nQ 13.671875 62.703125 7.8125 59.421875 \nL 7.8125 69.390625 \nQ 13.765625 71.78125 18.9375 73 \nQ 24.125 74.21875 28.421875 74.21875 \nQ 39.75 74.21875 46.484375 68.546875 \nQ 53.21875 62.890625 53.21875 53.421875 \nQ 53.21875 48.921875 51.53125 44.890625 \nQ 49.859375 40.875 45.40625 35.40625 \nQ 44.1875 33.984375 37.640625 27.21875 \nQ 31.109375 20.453125 19.1875 8.296875 \nz\n\" id=\"DejaVuSans-50\"/>\n       </defs>\n       <use xlink:href=\"#DejaVuSans-50\"/>\n       <use x=\"63.623047\" xlink:href=\"#DejaVuSans-46\"/>\n       <use x=\"95.410156\" xlink:href=\"#DejaVuSans-48\"/>\n      </g>\n     </g>\n    </g>\n    <g id=\"xtick_6\">\n     <g id=\"line2d_6\">\n      <g>\n       <use style=\"stroke:#000000;stroke-width:0.8;\" x=\"329.28125\" xlink:href=\"#md31a3f771f\" y=\"224.64\"/>\n      </g>\n     </g>\n     <g id=\"text_6\">\n      <!-- 2.5 -->\n      <g transform=\"translate(321.329687 239.238437)scale(0.1 -0.1)\">\n       <use xlink:href=\"#DejaVuSans-50\"/>\n       <use x=\"63.623047\" xlink:href=\"#DejaVuSans-46\"/>\n       <use x=\"95.410156\" xlink:href=\"#DejaVuSans-53\"/>\n      </g>\n     </g>\n    </g>\n    <g id=\"xtick_7\">\n     <g id=\"line2d_7\">\n      <g>\n       <use style=\"stroke:#000000;stroke-width:0.8;\" x=\"385.08125\" xlink:href=\"#md31a3f771f\" y=\"224.64\"/>\n      </g>\n     </g>\n     <g id=\"text_7\">\n      <!-- 3.0 -->\n      <g transform=\"translate(377.129687 239.238437)scale(0.1 -0.1)\">\n       <defs>\n        <path d=\"M 40.578125 39.3125 \nQ 47.65625 37.796875 51.625 33 \nQ 55.609375 28.21875 55.609375 21.1875 \nQ 55.609375 10.40625 48.1875 4.484375 \nQ 40.765625 -1.421875 27.09375 -1.421875 \nQ 22.515625 -1.421875 17.65625 -0.515625 \nQ 12.796875 0.390625 7.625 2.203125 \nL 7.625 11.71875 \nQ 11.71875 9.328125 16.59375 8.109375 \nQ 21.484375 6.890625 26.8125 6.890625 \nQ 36.078125 6.890625 40.9375 10.546875 \nQ 45.796875 14.203125 45.796875 21.1875 \nQ 45.796875 27.640625 41.28125 31.265625 \nQ 36.765625 34.90625 28.71875 34.90625 \nL 20.21875 34.90625 \nL 20.21875 43.015625 \nL 29.109375 43.015625 \nQ 36.375 43.015625 40.234375 45.921875 \nQ 44.09375 48.828125 44.09375 54.296875 \nQ 44.09375 59.90625 40.109375 62.90625 \nQ 36.140625 65.921875 28.71875 65.921875 \nQ 24.65625 65.921875 20.015625 65.03125 \nQ 15.375 64.15625 9.8125 62.3125 \nL 9.8125 71.09375 \nQ 15.4375 72.65625 20.34375 73.4375 \nQ 25.25 74.21875 29.59375 74.21875 \nQ 40.828125 74.21875 47.359375 69.109375 \nQ 53.90625 64.015625 53.90625 55.328125 \nQ 53.90625 49.265625 50.4375 45.09375 \nQ 46.96875 40.921875 40.578125 39.3125 \nz\n\" id=\"DejaVuSans-51\"/>\n       </defs>\n       <use xlink:href=\"#DejaVuSans-51\"/>\n       <use x=\"63.623047\" xlink:href=\"#DejaVuSans-46\"/>\n       <use x=\"95.410156\" xlink:href=\"#DejaVuSans-48\"/>\n      </g>\n     </g>\n    </g>\n    <g id=\"text_8\">\n     <!-- x -->\n     <g transform=\"translate(211.7625 260.515)scale(0.2 -0.2)\">\n      <defs>\n       <path d=\"M 54.890625 54.6875 \nL 35.109375 28.078125 \nL 55.90625 0 \nL 45.3125 0 \nL 29.390625 21.484375 \nL 13.484375 0 \nL 2.875 0 \nL 24.125 28.609375 \nL 4.6875 54.6875 \nL 15.28125 54.6875 \nL 29.78125 35.203125 \nL 44.28125 54.6875 \nz\n\" id=\"DejaVuSans-120\"/>\n      </defs>\n      <use xlink:href=\"#DejaVuSans-120\"/>\n     </g>\n    </g>\n   </g>\n   <g id=\"matplotlib.axis_2\">\n    <g id=\"ytick_1\">\n     <g id=\"line2d_8\">\n      <defs>\n       <path d=\"M 0 0 \nL -3.5 0 \n\" id=\"m4b97a8d805\" style=\"stroke:#000000;stroke-width:0.8;\"/>\n      </defs>\n      <g>\n       <use style=\"stroke:#000000;stroke-width:0.8;\" x=\"50.28125\" xlink:href=\"#m4b97a8d805\" y=\"224.64\"/>\n      </g>\n     </g>\n     <g id=\"text_9\">\n      <!-- 0 -->\n      <g transform=\"translate(36.91875 228.439219)scale(0.1 -0.1)\">\n       <use xlink:href=\"#DejaVuSans-48\"/>\n      </g>\n     </g>\n    </g>\n    <g id=\"ytick_2\">\n     <g id=\"line2d_9\">\n      <g>\n       <use style=\"stroke:#000000;stroke-width:0.8;\" x=\"50.28125\" xlink:href=\"#m4b97a8d805\" y=\"195.648\"/>\n      </g>\n     </g>\n     <g id=\"text_10\">\n      <!-- 2 -->\n      <g transform=\"translate(36.91875 199.447219)scale(0.1 -0.1)\">\n       <use xlink:href=\"#DejaVuSans-50\"/>\n      </g>\n     </g>\n    </g>\n    <g id=\"ytick_3\">\n     <g id=\"line2d_10\">\n      <g>\n       <use style=\"stroke:#000000;stroke-width:0.8;\" x=\"50.28125\" xlink:href=\"#m4b97a8d805\" y=\"166.656\"/>\n      </g>\n     </g>\n     <g id=\"text_11\">\n      <!-- 4 -->\n      <g transform=\"translate(36.91875 170.455219)scale(0.1 -0.1)\">\n       <defs>\n        <path d=\"M 37.796875 64.3125 \nL 12.890625 25.390625 \nL 37.796875 25.390625 \nz\nM 35.203125 72.90625 \nL 47.609375 72.90625 \nL 47.609375 25.390625 \nL 58.015625 25.390625 \nL 58.015625 17.1875 \nL 47.609375 17.1875 \nL 47.609375 0 \nL 37.796875 0 \nL 37.796875 17.1875 \nL 4.890625 17.1875 \nL 4.890625 26.703125 \nz\n\" id=\"DejaVuSans-52\"/>\n       </defs>\n       <use xlink:href=\"#DejaVuSans-52\"/>\n      </g>\n     </g>\n    </g>\n    <g id=\"ytick_4\">\n     <g id=\"line2d_11\">\n      <g>\n       <use style=\"stroke:#000000;stroke-width:0.8;\" x=\"50.28125\" xlink:href=\"#m4b97a8d805\" y=\"137.664\"/>\n      </g>\n     </g>\n     <g id=\"text_12\">\n      <!-- 6 -->\n      <g transform=\"translate(36.91875 141.463219)scale(0.1 -0.1)\">\n       <defs>\n        <path d=\"M 33.015625 40.375 \nQ 26.375 40.375 22.484375 35.828125 \nQ 18.609375 31.296875 18.609375 23.390625 \nQ 18.609375 15.53125 22.484375 10.953125 \nQ 26.375 6.390625 33.015625 6.390625 \nQ 39.65625 6.390625 43.53125 10.953125 \nQ 47.40625 15.53125 47.40625 23.390625 \nQ 47.40625 31.296875 43.53125 35.828125 \nQ 39.65625 40.375 33.015625 40.375 \nz\nM 52.59375 71.296875 \nL 52.59375 62.3125 \nQ 48.875 64.0625 45.09375 64.984375 \nQ 41.3125 65.921875 37.59375 65.921875 \nQ 27.828125 65.921875 22.671875 59.328125 \nQ 17.53125 52.734375 16.796875 39.40625 \nQ 19.671875 43.65625 24.015625 45.921875 \nQ 28.375 48.1875 33.59375 48.1875 \nQ 44.578125 48.1875 50.953125 41.515625 \nQ 57.328125 34.859375 57.328125 23.390625 \nQ 57.328125 12.15625 50.6875 5.359375 \nQ 44.046875 -1.421875 33.015625 -1.421875 \nQ 20.359375 -1.421875 13.671875 8.265625 \nQ 6.984375 17.96875 6.984375 36.375 \nQ 6.984375 53.65625 15.1875 63.9375 \nQ 23.390625 74.21875 37.203125 74.21875 \nQ 40.921875 74.21875 44.703125 73.484375 \nQ 48.484375 72.75 52.59375 71.296875 \nz\n\" id=\"DejaVuSans-54\"/>\n       </defs>\n       <use xlink:href=\"#DejaVuSans-54\"/>\n      </g>\n     </g>\n    </g>\n    <g id=\"ytick_5\">\n     <g id=\"line2d_12\">\n      <g>\n       <use style=\"stroke:#000000;stroke-width:0.8;\" x=\"50.28125\" xlink:href=\"#m4b97a8d805\" y=\"108.672\"/>\n      </g>\n     </g>\n     <g id=\"text_13\">\n      <!-- 8 -->\n      <g transform=\"translate(36.91875 112.471219)scale(0.1 -0.1)\">\n       <defs>\n        <path d=\"M 31.78125 34.625 \nQ 24.75 34.625 20.71875 30.859375 \nQ 16.703125 27.09375 16.703125 20.515625 \nQ 16.703125 13.921875 20.71875 10.15625 \nQ 24.75 6.390625 31.78125 6.390625 \nQ 38.8125 6.390625 42.859375 10.171875 \nQ 46.921875 13.96875 46.921875 20.515625 \nQ 46.921875 27.09375 42.890625 30.859375 \nQ 38.875 34.625 31.78125 34.625 \nz\nM 21.921875 38.8125 \nQ 15.578125 40.375 12.03125 44.71875 \nQ 8.5 49.078125 8.5 55.328125 \nQ 8.5 64.0625 14.71875 69.140625 \nQ 20.953125 74.21875 31.78125 74.21875 \nQ 42.671875 74.21875 48.875 69.140625 \nQ 55.078125 64.0625 55.078125 55.328125 \nQ 55.078125 49.078125 51.53125 44.71875 \nQ 48 40.375 41.703125 38.8125 \nQ 48.828125 37.15625 52.796875 32.3125 \nQ 56.78125 27.484375 56.78125 20.515625 \nQ 56.78125 9.90625 50.3125 4.234375 \nQ 43.84375 -1.421875 31.78125 -1.421875 \nQ 19.734375 -1.421875 13.25 4.234375 \nQ 6.78125 9.90625 6.78125 20.515625 \nQ 6.78125 27.484375 10.78125 32.3125 \nQ 14.796875 37.15625 21.921875 38.8125 \nz\nM 18.3125 54.390625 \nQ 18.3125 48.734375 21.84375 45.5625 \nQ 25.390625 42.390625 31.78125 42.390625 \nQ 38.140625 42.390625 41.71875 45.5625 \nQ 45.3125 48.734375 45.3125 54.390625 \nQ 45.3125 60.0625 41.71875 63.234375 \nQ 38.140625 66.40625 31.78125 66.40625 \nQ 25.390625 66.40625 21.84375 63.234375 \nQ 18.3125 60.0625 18.3125 54.390625 \nz\n\" id=\"DejaVuSans-56\"/>\n       </defs>\n       <use xlink:href=\"#DejaVuSans-56\"/>\n      </g>\n     </g>\n    </g>\n    <g id=\"ytick_6\">\n     <g id=\"line2d_13\">\n      <g>\n       <use style=\"stroke:#000000;stroke-width:0.8;\" x=\"50.28125\" xlink:href=\"#m4b97a8d805\" y=\"79.68\"/>\n      </g>\n     </g>\n     <g id=\"text_14\">\n      <!-- 10 -->\n      <g transform=\"translate(30.55625 83.479219)scale(0.1 -0.1)\">\n       <use xlink:href=\"#DejaVuSans-49\"/>\n       <use x=\"63.623047\" xlink:href=\"#DejaVuSans-48\"/>\n      </g>\n     </g>\n    </g>\n    <g id=\"ytick_7\">\n     <g id=\"line2d_14\">\n      <g>\n       <use style=\"stroke:#000000;stroke-width:0.8;\" x=\"50.28125\" xlink:href=\"#m4b97a8d805\" y=\"50.688\"/>\n      </g>\n     </g>\n     <g id=\"text_15\">\n      <!-- 12 -->\n      <g transform=\"translate(30.55625 54.487219)scale(0.1 -0.1)\">\n       <use xlink:href=\"#DejaVuSans-49\"/>\n       <use x=\"63.623047\" xlink:href=\"#DejaVuSans-50\"/>\n      </g>\n     </g>\n    </g>\n    <g id=\"ytick_8\">\n     <g id=\"line2d_15\">\n      <g>\n       <use style=\"stroke:#000000;stroke-width:0.8;\" x=\"50.28125\" xlink:href=\"#m4b97a8d805\" y=\"21.696\"/>\n      </g>\n     </g>\n     <g id=\"text_16\">\n      <!-- 14 -->\n      <g transform=\"translate(30.55625 25.495219)scale(0.1 -0.1)\">\n       <use xlink:href=\"#DejaVuSans-49\"/>\n       <use x=\"63.623047\" xlink:href=\"#DejaVuSans-52\"/>\n      </g>\n     </g>\n    </g>\n    <g id=\"text_17\">\n     <!-- y -->\n     <g transform=\"translate(22.396875 121.83875)rotate(-90)scale(0.2 -0.2)\">\n      <defs>\n       <path d=\"M 32.171875 -5.078125 \nQ 28.375 -14.84375 24.75 -17.8125 \nQ 21.140625 -20.796875 15.09375 -20.796875 \nL 7.90625 -20.796875 \nL 7.90625 -13.28125 \nL 13.1875 -13.28125 \nQ 16.890625 -13.28125 18.9375 -11.515625 \nQ 21 -9.765625 23.484375 -3.21875 \nL 25.09375 0.875 \nL 2.984375 54.6875 \nL 12.5 54.6875 \nL 29.59375 11.921875 \nL 46.6875 54.6875 \nL 56.203125 54.6875 \nz\n\" id=\"DejaVuSans-121\"/>\n      </defs>\n      <use xlink:href=\"#DejaVuSans-121\"/>\n     </g>\n    </g>\n   </g>\n   <g id=\"line2d_16\">\n    <path clip-path=\"url(#p2c7b7987aa)\" d=\"M 50.28125 79.68 \nL 161.88125 152.16 \nL 273.48125 195.648 \nL 385.08125 152.16 \n\" style=\"fill:none;stroke:#008000;stroke-linecap:square;stroke-width:2;\"/>\n   </g>\n   <g id=\"patch_3\">\n    <path d=\"M 50.28125 224.64 \nL 50.28125 7.2 \n\" style=\"fill:none;stroke:#000000;stroke-linecap:square;stroke-linejoin:miter;stroke-width:0.8;\"/>\n   </g>\n   <g id=\"patch_4\">\n    <path d=\"M 385.08125 224.64 \nL 385.08125 7.2 \n\" style=\"fill:none;stroke:#000000;stroke-linecap:square;stroke-linejoin:miter;stroke-width:0.8;\"/>\n   </g>\n   <g id=\"patch_5\">\n    <path d=\"M 50.28125 224.64 \nL 385.08125 224.64 \n\" style=\"fill:none;stroke:#000000;stroke-linecap:square;stroke-linejoin:miter;stroke-width:0.8;\"/>\n   </g>\n   <g id=\"patch_6\">\n    <path d=\"M 50.28125 7.2 \nL 385.08125 7.2 \n\" style=\"fill:none;stroke:#000000;stroke-linecap:square;stroke-linejoin:miter;stroke-width:0.8;\"/>\n   </g>\n  </g>\n </g>\n <defs>\n  <clipPath id=\"p2c7b7987aa\">\n   <rect height=\"217.44\" width=\"334.8\" x=\"50.28125\" y=\"7.2\"/>\n  </clipPath>\n </defs>\n</svg>\n",
      "image/png": "[encoded data removed]"
     },
     "metadata": {
      "needs_background": "light"
     }
    }
   ],
   "source": [
    "plt.plot([10, 5, 2, 5], color='green', label='line 1', linewidth=2)\n",
    "plt.ylabel('y', fontsize=20)\n",
    "plt.xlabel('x', fontsize=20)\n",
    "plt.axis([0,3,0,15])\n",
    "plt.show()"
   ]
  },
  {
   "cell_type": "code",
   "execution_count": 155,
   "metadata": {},
   "outputs": [
    {
     "output_type": "display_data",
     "data": {
      "text/plain": "<Figure size 720x720 with 1 Axes>",
      "image/svg+xml": "<?xml version=\"1.0\" encoding=\"utf-8\" standalone=\"no\"?>\n<!DOCTYPE svg PUBLIC \"-//W3C//DTD SVG 1.1//EN\"\n  \"http://www.w3.org/Graphics/SVG/1.1/DTD/svg11.dtd\">\n<!-- Created with matplotlib (https://matplotlib.org/) -->\n<svg height=\"670.034375pt\" version=\"1.1\" viewBox=\"0 0 615.48125 670.034375\" width=\"615.48125pt\" xmlns=\"http://www.w3.org/2000/svg\" xmlns:xlink=\"http://www.w3.org/1999/xlink\">\n <metadata>\n  <rdf:RDF xmlns:cc=\"http://creativecommons.org/ns#\" xmlns:dc=\"http://purl.org/dc/elements/1.1/\" xmlns:rdf=\"http://www.w3.org/1999/02/22-rdf-syntax-ns#\">\n   <cc:Work>\n    <dc:type rdf:resource=\"http://purl.org/dc/dcmitype/StillImage\"/>\n    <dc:date>2020-09-06T17:22:25.750431</dc:date>\n    <dc:format>image/svg+xml</dc:format>\n    <dc:creator>\n     <cc:Agent>\n      <dc:title>Matplotlib v3.3.1, https://matplotlib.org/</dc:title>\n     </cc:Agent>\n    </dc:creator>\n   </cc:Work>\n  </rdf:RDF>\n </metadata>\n <defs>\n  <style type=\"text/css\">*{stroke-linecap:butt;stroke-linejoin:round;}</style>\n </defs>\n <g id=\"figure_1\">\n  <g id=\"patch_1\">\n   <path d=\"M 0 670.034375 \nL 615.48125 670.034375 \nL 615.48125 0 \nL 0 0 \nz\n\" style=\"fill:none;\"/>\n  </g>\n  <g id=\"axes_1\">\n   <g id=\"patch_2\">\n    <path d=\"M 50.28125 622.8 \nL 608.28125 622.8 \nL 608.28125 79.2 \nL 50.28125 79.2 \nz\n\" style=\"fill:#ffffff;\"/>\n   </g>\n   <g id=\"matplotlib.axis_1\">\n    <g id=\"xtick_1\">\n     <g id=\"line2d_1\">\n      <defs>\n       <path d=\"M 0 0 \nL 0 3.5 \n\" id=\"m4ecfb8dfe3\" style=\"stroke:#000000;stroke-width:0.8;\"/>\n      </defs>\n      <g>\n       <use style=\"stroke:#000000;stroke-width:0.8;\" x=\"75.644886\" xlink:href=\"#m4ecfb8dfe3\" y=\"622.8\"/>\n      </g>\n     </g>\n     <g id=\"text_1\">\n      <!-- 0.0 -->\n      <g transform=\"translate(67.693324 637.398437)scale(0.1 -0.1)\">\n       <defs>\n        <path d=\"M 31.78125 66.40625 \nQ 24.171875 66.40625 20.328125 58.90625 \nQ 16.5 51.421875 16.5 36.375 \nQ 16.5 21.390625 20.328125 13.890625 \nQ 24.171875 6.390625 31.78125 6.390625 \nQ 39.453125 6.390625 43.28125 13.890625 \nQ 47.125 21.390625 47.125 36.375 \nQ 47.125 51.421875 43.28125 58.90625 \nQ 39.453125 66.40625 31.78125 66.40625 \nz\nM 31.78125 74.21875 \nQ 44.046875 74.21875 50.515625 64.515625 \nQ 56.984375 54.828125 56.984375 36.375 \nQ 56.984375 17.96875 50.515625 8.265625 \nQ 44.046875 -1.421875 31.78125 -1.421875 \nQ 19.53125 -1.421875 13.0625 8.265625 \nQ 6.59375 17.96875 6.59375 36.375 \nQ 6.59375 54.828125 13.0625 64.515625 \nQ 19.53125 74.21875 31.78125 74.21875 \nz\n\" id=\"DejaVuSans-48\"/>\n        <path d=\"M 10.6875 12.40625 \nL 21 12.40625 \nL 21 0 \nL 10.6875 0 \nz\n\" id=\"DejaVuSans-46\"/>\n       </defs>\n       <use xlink:href=\"#DejaVuSans-48\"/>\n       <use x=\"63.623047\" xlink:href=\"#DejaVuSans-46\"/>\n       <use x=\"95.410156\" xlink:href=\"#DejaVuSans-48\"/>\n      </g>\n     </g>\n    </g>\n    <g id=\"xtick_2\">\n     <g id=\"line2d_2\">\n      <g>\n       <use style=\"stroke:#000000;stroke-width:0.8;\" x=\"160.190341\" xlink:href=\"#m4ecfb8dfe3\" y=\"622.8\"/>\n      </g>\n     </g>\n     <g id=\"text_2\">\n      <!-- 0.5 -->\n      <g transform=\"translate(152.238778 637.398437)scale(0.1 -0.1)\">\n       <defs>\n        <path d=\"M 10.796875 72.90625 \nL 49.515625 72.90625 \nL 49.515625 64.59375 \nL 19.828125 64.59375 \nL 19.828125 46.734375 \nQ 21.96875 47.46875 24.109375 47.828125 \nQ 26.265625 48.1875 28.421875 48.1875 \nQ 40.625 48.1875 47.75 41.5 \nQ 54.890625 34.8125 54.890625 23.390625 \nQ 54.890625 11.625 47.5625 5.09375 \nQ 40.234375 -1.421875 26.90625 -1.421875 \nQ 22.3125 -1.421875 17.546875 -0.640625 \nQ 12.796875 0.140625 7.71875 1.703125 \nL 7.71875 11.625 \nQ 12.109375 9.234375 16.796875 8.0625 \nQ 21.484375 6.890625 26.703125 6.890625 \nQ 35.15625 6.890625 40.078125 11.328125 \nQ 45.015625 15.765625 45.015625 23.390625 \nQ 45.015625 31 40.078125 35.4375 \nQ 35.15625 39.890625 26.703125 39.890625 \nQ 22.75 39.890625 18.8125 39.015625 \nQ 14.890625 38.140625 10.796875 36.28125 \nz\n\" id=\"DejaVuSans-53\"/>\n       </defs>\n       <use xlink:href=\"#DejaVuSans-48\"/>\n       <use x=\"63.623047\" xlink:href=\"#DejaVuSans-46\"/>\n       <use x=\"95.410156\" xlink:href=\"#DejaVuSans-53\"/>\n      </g>\n     </g>\n    </g>\n    <g id=\"xtick_3\">\n     <g id=\"line2d_3\">\n      <g>\n       <use style=\"stroke:#000000;stroke-width:0.8;\" x=\"244.735795\" xlink:href=\"#m4ecfb8dfe3\" y=\"622.8\"/>\n      </g>\n     </g>\n     <g id=\"text_3\">\n      <!-- 1.0 -->\n      <g transform=\"translate(236.784233 637.398437)scale(0.1 -0.1)\">\n       <defs>\n        <path d=\"M 12.40625 8.296875 \nL 28.515625 8.296875 \nL 28.515625 63.921875 \nL 10.984375 60.40625 \nL 10.984375 69.390625 \nL 28.421875 72.90625 \nL 38.28125 72.90625 \nL 38.28125 8.296875 \nL 54.390625 8.296875 \nL 54.390625 0 \nL 12.40625 0 \nz\n\" id=\"DejaVuSans-49\"/>\n       </defs>\n       <use xlink:href=\"#DejaVuSans-49\"/>\n       <use x=\"63.623047\" xlink:href=\"#DejaVuSans-46\"/>\n       <use x=\"95.410156\" xlink:href=\"#DejaVuSans-48\"/>\n      </g>\n     </g>\n    </g>\n    <g id=\"xtick_4\">\n     <g id=\"line2d_4\">\n      <g>\n       <use style=\"stroke:#000000;stroke-width:0.8;\" x=\"329.28125\" xlink:href=\"#m4ecfb8dfe3\" y=\"622.8\"/>\n      </g>\n     </g>\n     <g id=\"text_4\">\n      <!-- 1.5 -->\n      <g transform=\"translate(321.329687 637.398437)scale(0.1 -0.1)\">\n       <use xlink:href=\"#DejaVuSans-49\"/>\n       <use x=\"63.623047\" xlink:href=\"#DejaVuSans-46\"/>\n       <use x=\"95.410156\" xlink:href=\"#DejaVuSans-53\"/>\n      </g>\n     </g>\n    </g>\n    <g id=\"xtick_5\">\n     <g id=\"line2d_5\">\n      <g>\n       <use style=\"stroke:#000000;stroke-width:0.8;\" x=\"413.826705\" xlink:href=\"#m4ecfb8dfe3\" y=\"622.8\"/>\n      </g>\n     </g>\n     <g id=\"text_5\">\n      <!-- 2.0 -->\n      <g transform=\"translate(405.875142 637.398437)scale(0.1 -0.1)\">\n       <defs>\n        <path d=\"M 19.1875 8.296875 \nL 53.609375 8.296875 \nL 53.609375 0 \nL 7.328125 0 \nL 7.328125 8.296875 \nQ 12.9375 14.109375 22.625 23.890625 \nQ 32.328125 33.6875 34.8125 36.53125 \nQ 39.546875 41.84375 41.421875 45.53125 \nQ 43.3125 49.21875 43.3125 52.78125 \nQ 43.3125 58.59375 39.234375 62.25 \nQ 35.15625 65.921875 28.609375 65.921875 \nQ 23.96875 65.921875 18.8125 64.3125 \nQ 13.671875 62.703125 7.8125 59.421875 \nL 7.8125 69.390625 \nQ 13.765625 71.78125 18.9375 73 \nQ 24.125 74.21875 28.421875 74.21875 \nQ 39.75 74.21875 46.484375 68.546875 \nQ 53.21875 62.890625 53.21875 53.421875 \nQ 53.21875 48.921875 51.53125 44.890625 \nQ 49.859375 40.875 45.40625 35.40625 \nQ 44.1875 33.984375 37.640625 27.21875 \nQ 31.109375 20.453125 19.1875 8.296875 \nz\n\" id=\"DejaVuSans-50\"/>\n       </defs>\n       <use xlink:href=\"#DejaVuSans-50\"/>\n       <use x=\"63.623047\" xlink:href=\"#DejaVuSans-46\"/>\n       <use x=\"95.410156\" xlink:href=\"#DejaVuSans-48\"/>\n      </g>\n     </g>\n    </g>\n    <g id=\"xtick_6\">\n     <g id=\"line2d_6\">\n      <g>\n       <use style=\"stroke:#000000;stroke-width:0.8;\" x=\"498.372159\" xlink:href=\"#m4ecfb8dfe3\" y=\"622.8\"/>\n      </g>\n     </g>\n     <g id=\"text_6\">\n      <!-- 2.5 -->\n      <g transform=\"translate(490.420597 637.398437)scale(0.1 -0.1)\">\n       <use xlink:href=\"#DejaVuSans-50\"/>\n       <use x=\"63.623047\" xlink:href=\"#DejaVuSans-46\"/>\n       <use x=\"95.410156\" xlink:href=\"#DejaVuSans-53\"/>\n      </g>\n     </g>\n    </g>\n    <g id=\"xtick_7\">\n     <g id=\"line2d_7\">\n      <g>\n       <use style=\"stroke:#000000;stroke-width:0.8;\" x=\"582.917614\" xlink:href=\"#m4ecfb8dfe3\" y=\"622.8\"/>\n      </g>\n     </g>\n     <g id=\"text_7\">\n      <!-- 3.0 -->\n      <g transform=\"translate(574.966051 637.398437)scale(0.1 -0.1)\">\n       <defs>\n        <path d=\"M 40.578125 39.3125 \nQ 47.65625 37.796875 51.625 33 \nQ 55.609375 28.21875 55.609375 21.1875 \nQ 55.609375 10.40625 48.1875 4.484375 \nQ 40.765625 -1.421875 27.09375 -1.421875 \nQ 22.515625 -1.421875 17.65625 -0.515625 \nQ 12.796875 0.390625 7.625 2.203125 \nL 7.625 11.71875 \nQ 11.71875 9.328125 16.59375 8.109375 \nQ 21.484375 6.890625 26.8125 6.890625 \nQ 36.078125 6.890625 40.9375 10.546875 \nQ 45.796875 14.203125 45.796875 21.1875 \nQ 45.796875 27.640625 41.28125 31.265625 \nQ 36.765625 34.90625 28.71875 34.90625 \nL 20.21875 34.90625 \nL 20.21875 43.015625 \nL 29.109375 43.015625 \nQ 36.375 43.015625 40.234375 45.921875 \nQ 44.09375 48.828125 44.09375 54.296875 \nQ 44.09375 59.90625 40.109375 62.90625 \nQ 36.140625 65.921875 28.71875 65.921875 \nQ 24.65625 65.921875 20.015625 65.03125 \nQ 15.375 64.15625 9.8125 62.3125 \nL 9.8125 71.09375 \nQ 15.4375 72.65625 20.34375 73.4375 \nQ 25.25 74.21875 29.59375 74.21875 \nQ 40.828125 74.21875 47.359375 69.109375 \nQ 53.90625 64.015625 53.90625 55.328125 \nQ 53.90625 49.265625 50.4375 45.09375 \nQ 46.96875 40.921875 40.578125 39.3125 \nz\n\" id=\"DejaVuSans-51\"/>\n       </defs>\n       <use xlink:href=\"#DejaVuSans-51\"/>\n       <use x=\"63.623047\" xlink:href=\"#DejaVuSans-46\"/>\n       <use x=\"95.410156\" xlink:href=\"#DejaVuSans-48\"/>\n      </g>\n     </g>\n    </g>\n    <g id=\"text_8\">\n     <!-- x -->\n     <g transform=\"translate(323.3625 658.675)scale(0.2 -0.2)\">\n      <defs>\n       <path d=\"M 54.890625 54.6875 \nL 35.109375 28.078125 \nL 55.90625 0 \nL 45.3125 0 \nL 29.390625 21.484375 \nL 13.484375 0 \nL 2.875 0 \nL 24.125 28.609375 \nL 4.6875 54.6875 \nL 15.28125 54.6875 \nL 29.78125 35.203125 \nL 44.28125 54.6875 \nz\n\" id=\"DejaVuSans-120\"/>\n      </defs>\n      <use xlink:href=\"#DejaVuSans-120\"/>\n     </g>\n    </g>\n   </g>\n   <g id=\"matplotlib.axis_2\">\n    <g id=\"ytick_1\">\n     <g id=\"line2d_8\">\n      <defs>\n       <path d=\"M 0 0 \nL -3.5 0 \n\" id=\"m20a71c0764\" style=\"stroke:#000000;stroke-width:0.8;\"/>\n      </defs>\n      <g>\n       <use style=\"stroke:#000000;stroke-width:0.8;\" x=\"50.28125\" xlink:href=\"#m20a71c0764\" y=\"598.090909\"/>\n      </g>\n     </g>\n     <g id=\"text_9\">\n      <!-- 2 -->\n      <g transform=\"translate(36.91875 601.890128)scale(0.1 -0.1)\">\n       <use xlink:href=\"#DejaVuSans-50\"/>\n      </g>\n     </g>\n    </g>\n    <g id=\"ytick_2\">\n     <g id=\"line2d_9\">\n      <g>\n       <use style=\"stroke:#000000;stroke-width:0.8;\" x=\"50.28125\" xlink:href=\"#m20a71c0764\" y=\"536.318182\"/>\n      </g>\n     </g>\n     <g id=\"text_10\">\n      <!-- 3 -->\n      <g transform=\"translate(36.91875 540.117401)scale(0.1 -0.1)\">\n       <use xlink:href=\"#DejaVuSans-51\"/>\n      </g>\n     </g>\n    </g>\n    <g id=\"ytick_3\">\n     <g id=\"line2d_10\">\n      <g>\n       <use style=\"stroke:#000000;stroke-width:0.8;\" x=\"50.28125\" xlink:href=\"#m20a71c0764\" y=\"474.545455\"/>\n      </g>\n     </g>\n     <g id=\"text_11\">\n      <!-- 4 -->\n      <g transform=\"translate(36.91875 478.344673)scale(0.1 -0.1)\">\n       <defs>\n        <path d=\"M 37.796875 64.3125 \nL 12.890625 25.390625 \nL 37.796875 25.390625 \nz\nM 35.203125 72.90625 \nL 47.609375 72.90625 \nL 47.609375 25.390625 \nL 58.015625 25.390625 \nL 58.015625 17.1875 \nL 47.609375 17.1875 \nL 47.609375 0 \nL 37.796875 0 \nL 37.796875 17.1875 \nL 4.890625 17.1875 \nL 4.890625 26.703125 \nz\n\" id=\"DejaVuSans-52\"/>\n       </defs>\n       <use xlink:href=\"#DejaVuSans-52\"/>\n      </g>\n     </g>\n    </g>\n    <g id=\"ytick_4\">\n     <g id=\"line2d_11\">\n      <g>\n       <use style=\"stroke:#000000;stroke-width:0.8;\" x=\"50.28125\" xlink:href=\"#m20a71c0764\" y=\"412.772727\"/>\n      </g>\n     </g>\n     <g id=\"text_12\">\n      <!-- 5 -->\n      <g transform=\"translate(36.91875 416.571946)scale(0.1 -0.1)\">\n       <use xlink:href=\"#DejaVuSans-53\"/>\n      </g>\n     </g>\n    </g>\n    <g id=\"ytick_5\">\n     <g id=\"line2d_12\">\n      <g>\n       <use style=\"stroke:#000000;stroke-width:0.8;\" x=\"50.28125\" xlink:href=\"#m20a71c0764\" y=\"351\"/>\n      </g>\n     </g>\n     <g id=\"text_13\">\n      <!-- 6 -->\n      <g transform=\"translate(36.91875 354.799219)scale(0.1 -0.1)\">\n       <defs>\n        <path d=\"M 33.015625 40.375 \nQ 26.375 40.375 22.484375 35.828125 \nQ 18.609375 31.296875 18.609375 23.390625 \nQ 18.609375 15.53125 22.484375 10.953125 \nQ 26.375 6.390625 33.015625 6.390625 \nQ 39.65625 6.390625 43.53125 10.953125 \nQ 47.40625 15.53125 47.40625 23.390625 \nQ 47.40625 31.296875 43.53125 35.828125 \nQ 39.65625 40.375 33.015625 40.375 \nz\nM 52.59375 71.296875 \nL 52.59375 62.3125 \nQ 48.875 64.0625 45.09375 64.984375 \nQ 41.3125 65.921875 37.59375 65.921875 \nQ 27.828125 65.921875 22.671875 59.328125 \nQ 17.53125 52.734375 16.796875 39.40625 \nQ 19.671875 43.65625 24.015625 45.921875 \nQ 28.375 48.1875 33.59375 48.1875 \nQ 44.578125 48.1875 50.953125 41.515625 \nQ 57.328125 34.859375 57.328125 23.390625 \nQ 57.328125 12.15625 50.6875 5.359375 \nQ 44.046875 -1.421875 33.015625 -1.421875 \nQ 20.359375 -1.421875 13.671875 8.265625 \nQ 6.984375 17.96875 6.984375 36.375 \nQ 6.984375 53.65625 15.1875 63.9375 \nQ 23.390625 74.21875 37.203125 74.21875 \nQ 40.921875 74.21875 44.703125 73.484375 \nQ 48.484375 72.75 52.59375 71.296875 \nz\n\" id=\"DejaVuSans-54\"/>\n       </defs>\n       <use xlink:href=\"#DejaVuSans-54\"/>\n      </g>\n     </g>\n    </g>\n    <g id=\"ytick_6\">\n     <g id=\"line2d_13\">\n      <g>\n       <use style=\"stroke:#000000;stroke-width:0.8;\" x=\"50.28125\" xlink:href=\"#m20a71c0764\" y=\"289.227273\"/>\n      </g>\n     </g>\n     <g id=\"text_14\">\n      <!-- 7 -->\n      <g transform=\"translate(36.91875 293.026491)scale(0.1 -0.1)\">\n       <defs>\n        <path d=\"M 8.203125 72.90625 \nL 55.078125 72.90625 \nL 55.078125 68.703125 \nL 28.609375 0 \nL 18.3125 0 \nL 43.21875 64.59375 \nL 8.203125 64.59375 \nz\n\" id=\"DejaVuSans-55\"/>\n       </defs>\n       <use xlink:href=\"#DejaVuSans-55\"/>\n      </g>\n     </g>\n    </g>\n    <g id=\"ytick_7\">\n     <g id=\"line2d_14\">\n      <g>\n       <use style=\"stroke:#000000;stroke-width:0.8;\" x=\"50.28125\" xlink:href=\"#m20a71c0764\" y=\"227.454545\"/>\n      </g>\n     </g>\n     <g id=\"text_15\">\n      <!-- 8 -->\n      <g transform=\"translate(36.91875 231.253764)scale(0.1 -0.1)\">\n       <defs>\n        <path d=\"M 31.78125 34.625 \nQ 24.75 34.625 20.71875 30.859375 \nQ 16.703125 27.09375 16.703125 20.515625 \nQ 16.703125 13.921875 20.71875 10.15625 \nQ 24.75 6.390625 31.78125 6.390625 \nQ 38.8125 6.390625 42.859375 10.171875 \nQ 46.921875 13.96875 46.921875 20.515625 \nQ 46.921875 27.09375 42.890625 30.859375 \nQ 38.875 34.625 31.78125 34.625 \nz\nM 21.921875 38.8125 \nQ 15.578125 40.375 12.03125 44.71875 \nQ 8.5 49.078125 8.5 55.328125 \nQ 8.5 64.0625 14.71875 69.140625 \nQ 20.953125 74.21875 31.78125 74.21875 \nQ 42.671875 74.21875 48.875 69.140625 \nQ 55.078125 64.0625 55.078125 55.328125 \nQ 55.078125 49.078125 51.53125 44.71875 \nQ 48 40.375 41.703125 38.8125 \nQ 48.828125 37.15625 52.796875 32.3125 \nQ 56.78125 27.484375 56.78125 20.515625 \nQ 56.78125 9.90625 50.3125 4.234375 \nQ 43.84375 -1.421875 31.78125 -1.421875 \nQ 19.734375 -1.421875 13.25 4.234375 \nQ 6.78125 9.90625 6.78125 20.515625 \nQ 6.78125 27.484375 10.78125 32.3125 \nQ 14.796875 37.15625 21.921875 38.8125 \nz\nM 18.3125 54.390625 \nQ 18.3125 48.734375 21.84375 45.5625 \nQ 25.390625 42.390625 31.78125 42.390625 \nQ 38.140625 42.390625 41.71875 45.5625 \nQ 45.3125 48.734375 45.3125 54.390625 \nQ 45.3125 60.0625 41.71875 63.234375 \nQ 38.140625 66.40625 31.78125 66.40625 \nQ 25.390625 66.40625 21.84375 63.234375 \nQ 18.3125 60.0625 18.3125 54.390625 \nz\n\" id=\"DejaVuSans-56\"/>\n       </defs>\n       <use xlink:href=\"#DejaVuSans-56\"/>\n      </g>\n     </g>\n    </g>\n    <g id=\"ytick_8\">\n     <g id=\"line2d_15\">\n      <g>\n       <use style=\"stroke:#000000;stroke-width:0.8;\" x=\"50.28125\" xlink:href=\"#m20a71c0764\" y=\"165.681818\"/>\n      </g>\n     </g>\n     <g id=\"text_16\">\n      <!-- 9 -->\n      <g transform=\"translate(36.91875 169.481037)scale(0.1 -0.1)\">\n       <defs>\n        <path d=\"M 10.984375 1.515625 \nL 10.984375 10.5 \nQ 14.703125 8.734375 18.5 7.8125 \nQ 22.3125 6.890625 25.984375 6.890625 \nQ 35.75 6.890625 40.890625 13.453125 \nQ 46.046875 20.015625 46.78125 33.40625 \nQ 43.953125 29.203125 39.59375 26.953125 \nQ 35.25 24.703125 29.984375 24.703125 \nQ 19.046875 24.703125 12.671875 31.3125 \nQ 6.296875 37.9375 6.296875 49.421875 \nQ 6.296875 60.640625 12.9375 67.421875 \nQ 19.578125 74.21875 30.609375 74.21875 \nQ 43.265625 74.21875 49.921875 64.515625 \nQ 56.59375 54.828125 56.59375 36.375 \nQ 56.59375 19.140625 48.40625 8.859375 \nQ 40.234375 -1.421875 26.421875 -1.421875 \nQ 22.703125 -1.421875 18.890625 -0.6875 \nQ 15.09375 0.046875 10.984375 1.515625 \nz\nM 30.609375 32.421875 \nQ 37.25 32.421875 41.125 36.953125 \nQ 45.015625 41.5 45.015625 49.421875 \nQ 45.015625 57.28125 41.125 61.84375 \nQ 37.25 66.40625 30.609375 66.40625 \nQ 23.96875 66.40625 20.09375 61.84375 \nQ 16.21875 57.28125 16.21875 49.421875 \nQ 16.21875 41.5 20.09375 36.953125 \nQ 23.96875 32.421875 30.609375 32.421875 \nz\n\" id=\"DejaVuSans-57\"/>\n       </defs>\n       <use xlink:href=\"#DejaVuSans-57\"/>\n      </g>\n     </g>\n    </g>\n    <g id=\"ytick_9\">\n     <g id=\"line2d_16\">\n      <g>\n       <use style=\"stroke:#000000;stroke-width:0.8;\" x=\"50.28125\" xlink:href=\"#m20a71c0764\" y=\"103.909091\"/>\n      </g>\n     </g>\n     <g id=\"text_17\">\n      <!-- 10 -->\n      <g transform=\"translate(30.55625 107.70831)scale(0.1 -0.1)\">\n       <use xlink:href=\"#DejaVuSans-49\"/>\n       <use x=\"63.623047\" xlink:href=\"#DejaVuSans-48\"/>\n      </g>\n     </g>\n    </g>\n    <g id=\"text_18\">\n     <!-- y -->\n     <g transform=\"translate(22.396875 356.91875)rotate(-90)scale(0.2 -0.2)\">\n      <defs>\n       <path d=\"M 32.171875 -5.078125 \nQ 28.375 -14.84375 24.75 -17.8125 \nQ 21.140625 -20.796875 15.09375 -20.796875 \nL 7.90625 -20.796875 \nL 7.90625 -13.28125 \nL 13.1875 -13.28125 \nQ 16.890625 -13.28125 18.9375 -11.515625 \nQ 21 -9.765625 23.484375 -3.21875 \nL 25.09375 0.875 \nL 2.984375 54.6875 \nL 12.5 54.6875 \nL 29.59375 11.921875 \nL 46.6875 54.6875 \nL 56.203125 54.6875 \nz\n\" id=\"DejaVuSans-121\"/>\n      </defs>\n      <use xlink:href=\"#DejaVuSans-121\"/>\n     </g>\n    </g>\n   </g>\n   <g id=\"line2d_17\">\n    <path clip-path=\"url(#pc941292302)\" d=\"M 75.644886 103.909091 \nL 244.735795 412.772727 \nL 413.826705 598.090909 \nL 582.917614 412.772727 \n\" style=\"fill:none;stroke:#ff0000;stroke-linecap:square;stroke-width:2;\"/>\n   </g>\n   <g id=\"patch_3\">\n    <path d=\"M 50.28125 622.8 \nL 50.28125 79.2 \n\" style=\"fill:none;stroke:#000000;stroke-linecap:square;stroke-linejoin:miter;stroke-width:0.8;\"/>\n   </g>\n   <g id=\"patch_4\">\n    <path d=\"M 608.28125 622.8 \nL 608.28125 79.2 \n\" style=\"fill:none;stroke:#000000;stroke-linecap:square;stroke-linejoin:miter;stroke-width:0.8;\"/>\n   </g>\n   <g id=\"patch_5\">\n    <path d=\"M 50.28125 622.8 \nL 608.28125 622.8 \n\" style=\"fill:none;stroke:#000000;stroke-linecap:square;stroke-linejoin:miter;stroke-width:0.8;\"/>\n   </g>\n   <g id=\"patch_6\">\n    <path d=\"M 50.28125 79.2 \nL 608.28125 79.2 \n\" style=\"fill:none;stroke:#000000;stroke-linecap:square;stroke-linejoin:miter;stroke-width:0.8;\"/>\n   </g>\n  </g>\n  <g id=\"text_19\">\n   <!-- Example Figure -->\n   <g transform=\"translate(204.640625 29.995312)scale(0.3 -0.3)\">\n    <defs>\n     <path d=\"M 9.8125 72.90625 \nL 55.90625 72.90625 \nL 55.90625 64.59375 \nL 19.671875 64.59375 \nL 19.671875 43.015625 \nL 54.390625 43.015625 \nL 54.390625 34.71875 \nL 19.671875 34.71875 \nL 19.671875 8.296875 \nL 56.78125 8.296875 \nL 56.78125 0 \nL 9.8125 0 \nz\n\" id=\"DejaVuSans-69\"/>\n     <path d=\"M 34.28125 27.484375 \nQ 23.390625 27.484375 19.1875 25 \nQ 14.984375 22.515625 14.984375 16.5 \nQ 14.984375 11.71875 18.140625 8.90625 \nQ 21.296875 6.109375 26.703125 6.109375 \nQ 34.1875 6.109375 38.703125 11.40625 \nQ 43.21875 16.703125 43.21875 25.484375 \nL 43.21875 27.484375 \nz\nM 52.203125 31.203125 \nL 52.203125 0 \nL 43.21875 0 \nL 43.21875 8.296875 \nQ 40.140625 3.328125 35.546875 0.953125 \nQ 30.953125 -1.421875 24.3125 -1.421875 \nQ 15.921875 -1.421875 10.953125 3.296875 \nQ 6 8.015625 6 15.921875 \nQ 6 25.140625 12.171875 29.828125 \nQ 18.359375 34.515625 30.609375 34.515625 \nL 43.21875 34.515625 \nL 43.21875 35.40625 \nQ 43.21875 41.609375 39.140625 45 \nQ 35.0625 48.390625 27.6875 48.390625 \nQ 23 48.390625 18.546875 47.265625 \nQ 14.109375 46.140625 10.015625 43.890625 \nL 10.015625 52.203125 \nQ 14.9375 54.109375 19.578125 55.046875 \nQ 24.21875 56 28.609375 56 \nQ 40.484375 56 46.34375 49.84375 \nQ 52.203125 43.703125 52.203125 31.203125 \nz\n\" id=\"DejaVuSans-97\"/>\n     <path d=\"M 52 44.1875 \nQ 55.375 50.25 60.0625 53.125 \nQ 64.75 56 71.09375 56 \nQ 79.640625 56 84.28125 50.015625 \nQ 88.921875 44.046875 88.921875 33.015625 \nL 88.921875 0 \nL 79.890625 0 \nL 79.890625 32.71875 \nQ 79.890625 40.578125 77.09375 44.375 \nQ 74.3125 48.1875 68.609375 48.1875 \nQ 61.625 48.1875 57.5625 43.546875 \nQ 53.515625 38.921875 53.515625 30.90625 \nL 53.515625 0 \nL 44.484375 0 \nL 44.484375 32.71875 \nQ 44.484375 40.625 41.703125 44.40625 \nQ 38.921875 48.1875 33.109375 48.1875 \nQ 26.21875 48.1875 22.15625 43.53125 \nQ 18.109375 38.875 18.109375 30.90625 \nL 18.109375 0 \nL 9.078125 0 \nL 9.078125 54.6875 \nL 18.109375 54.6875 \nL 18.109375 46.1875 \nQ 21.1875 51.21875 25.484375 53.609375 \nQ 29.78125 56 35.6875 56 \nQ 41.65625 56 45.828125 52.96875 \nQ 50 49.953125 52 44.1875 \nz\n\" id=\"DejaVuSans-109\"/>\n     <path d=\"M 18.109375 8.203125 \nL 18.109375 -20.796875 \nL 9.078125 -20.796875 \nL 9.078125 54.6875 \nL 18.109375 54.6875 \nL 18.109375 46.390625 \nQ 20.953125 51.265625 25.265625 53.625 \nQ 29.59375 56 35.59375 56 \nQ 45.5625 56 51.78125 48.09375 \nQ 58.015625 40.1875 58.015625 27.296875 \nQ 58.015625 14.40625 51.78125 6.484375 \nQ 45.5625 -1.421875 35.59375 -1.421875 \nQ 29.59375 -1.421875 25.265625 0.953125 \nQ 20.953125 3.328125 18.109375 8.203125 \nz\nM 48.6875 27.296875 \nQ 48.6875 37.203125 44.609375 42.84375 \nQ 40.53125 48.484375 33.40625 48.484375 \nQ 26.265625 48.484375 22.1875 42.84375 \nQ 18.109375 37.203125 18.109375 27.296875 \nQ 18.109375 17.390625 22.1875 11.75 \nQ 26.265625 6.109375 33.40625 6.109375 \nQ 40.53125 6.109375 44.609375 11.75 \nQ 48.6875 17.390625 48.6875 27.296875 \nz\n\" id=\"DejaVuSans-112\"/>\n     <path d=\"M 9.421875 75.984375 \nL 18.40625 75.984375 \nL 18.40625 0 \nL 9.421875 0 \nz\n\" id=\"DejaVuSans-108\"/>\n     <path d=\"M 56.203125 29.59375 \nL 56.203125 25.203125 \nL 14.890625 25.203125 \nQ 15.484375 15.921875 20.484375 11.0625 \nQ 25.484375 6.203125 34.421875 6.203125 \nQ 39.59375 6.203125 44.453125 7.46875 \nQ 49.3125 8.734375 54.109375 11.28125 \nL 54.109375 2.78125 \nQ 49.265625 0.734375 44.1875 -0.34375 \nQ 39.109375 -1.421875 33.890625 -1.421875 \nQ 20.796875 -1.421875 13.15625 6.1875 \nQ 5.515625 13.8125 5.515625 26.8125 \nQ 5.515625 40.234375 12.765625 48.109375 \nQ 20.015625 56 32.328125 56 \nQ 43.359375 56 49.78125 48.890625 \nQ 56.203125 41.796875 56.203125 29.59375 \nz\nM 47.21875 32.234375 \nQ 47.125 39.59375 43.09375 43.984375 \nQ 39.0625 48.390625 32.421875 48.390625 \nQ 24.90625 48.390625 20.390625 44.140625 \nQ 15.875 39.890625 15.1875 32.171875 \nz\n\" id=\"DejaVuSans-101\"/>\n     <path id=\"DejaVuSans-32\"/>\n     <path d=\"M 9.8125 72.90625 \nL 51.703125 72.90625 \nL 51.703125 64.59375 \nL 19.671875 64.59375 \nL 19.671875 43.109375 \nL 48.578125 43.109375 \nL 48.578125 34.8125 \nL 19.671875 34.8125 \nL 19.671875 0 \nL 9.8125 0 \nz\n\" id=\"DejaVuSans-70\"/>\n     <path d=\"M 9.421875 54.6875 \nL 18.40625 54.6875 \nL 18.40625 0 \nL 9.421875 0 \nz\nM 9.421875 75.984375 \nL 18.40625 75.984375 \nL 18.40625 64.59375 \nL 9.421875 64.59375 \nz\n\" id=\"DejaVuSans-105\"/>\n     <path d=\"M 45.40625 27.984375 \nQ 45.40625 37.75 41.375 43.109375 \nQ 37.359375 48.484375 30.078125 48.484375 \nQ 22.859375 48.484375 18.828125 43.109375 \nQ 14.796875 37.75 14.796875 27.984375 \nQ 14.796875 18.265625 18.828125 12.890625 \nQ 22.859375 7.515625 30.078125 7.515625 \nQ 37.359375 7.515625 41.375 12.890625 \nQ 45.40625 18.265625 45.40625 27.984375 \nz\nM 54.390625 6.78125 \nQ 54.390625 -7.171875 48.1875 -13.984375 \nQ 42 -20.796875 29.203125 -20.796875 \nQ 24.46875 -20.796875 20.265625 -20.09375 \nQ 16.0625 -19.390625 12.109375 -17.921875 \nL 12.109375 -9.1875 \nQ 16.0625 -11.328125 19.921875 -12.34375 \nQ 23.78125 -13.375 27.78125 -13.375 \nQ 36.625 -13.375 41.015625 -8.765625 \nQ 45.40625 -4.15625 45.40625 5.171875 \nL 45.40625 9.625 \nQ 42.625 4.78125 38.28125 2.390625 \nQ 33.9375 0 27.875 0 \nQ 17.828125 0 11.671875 7.65625 \nQ 5.515625 15.328125 5.515625 27.984375 \nQ 5.515625 40.671875 11.671875 48.328125 \nQ 17.828125 56 27.875 56 \nQ 33.9375 56 38.28125 53.609375 \nQ 42.625 51.21875 45.40625 46.390625 \nL 45.40625 54.6875 \nL 54.390625 54.6875 \nz\n\" id=\"DejaVuSans-103\"/>\n     <path d=\"M 8.5 21.578125 \nL 8.5 54.6875 \nL 17.484375 54.6875 \nL 17.484375 21.921875 \nQ 17.484375 14.15625 20.5 10.265625 \nQ 23.53125 6.390625 29.59375 6.390625 \nQ 36.859375 6.390625 41.078125 11.03125 \nQ 45.3125 15.671875 45.3125 23.6875 \nL 45.3125 54.6875 \nL 54.296875 54.6875 \nL 54.296875 0 \nL 45.3125 0 \nL 45.3125 8.40625 \nQ 42.046875 3.421875 37.71875 1 \nQ 33.40625 -1.421875 27.6875 -1.421875 \nQ 18.265625 -1.421875 13.375 4.4375 \nQ 8.5 10.296875 8.5 21.578125 \nz\nM 31.109375 56 \nz\n\" id=\"DejaVuSans-117\"/>\n     <path d=\"M 41.109375 46.296875 \nQ 39.59375 47.171875 37.8125 47.578125 \nQ 36.03125 48 33.890625 48 \nQ 26.265625 48 22.1875 43.046875 \nQ 18.109375 38.09375 18.109375 28.8125 \nL 18.109375 0 \nL 9.078125 0 \nL 9.078125 54.6875 \nL 18.109375 54.6875 \nL 18.109375 46.1875 \nQ 20.953125 51.171875 25.484375 53.578125 \nQ 30.03125 56 36.53125 56 \nQ 37.453125 56 38.578125 55.875 \nQ 39.703125 55.765625 41.0625 55.515625 \nz\n\" id=\"DejaVuSans-114\"/>\n    </defs>\n    <use xlink:href=\"#DejaVuSans-69\"/>\n    <use x=\"63.183594\" xlink:href=\"#DejaVuSans-120\"/>\n    <use x=\"122.363281\" xlink:href=\"#DejaVuSans-97\"/>\n    <use x=\"183.642578\" xlink:href=\"#DejaVuSans-109\"/>\n    <use x=\"281.054688\" xlink:href=\"#DejaVuSans-112\"/>\n    <use x=\"344.53125\" xlink:href=\"#DejaVuSans-108\"/>\n    <use x=\"372.314453\" xlink:href=\"#DejaVuSans-101\"/>\n    <use x=\"433.837891\" xlink:href=\"#DejaVuSans-32\"/>\n    <use x=\"465.625\" xlink:href=\"#DejaVuSans-70\"/>\n    <use x=\"515.894531\" xlink:href=\"#DejaVuSans-105\"/>\n    <use x=\"543.677734\" xlink:href=\"#DejaVuSans-103\"/>\n    <use x=\"607.154297\" xlink:href=\"#DejaVuSans-117\"/>\n    <use x=\"670.533203\" xlink:href=\"#DejaVuSans-114\"/>\n    <use x=\"709.396484\" xlink:href=\"#DejaVuSans-101\"/>\n   </g>\n  </g>\n </g>\n <defs>\n  <clipPath id=\"pc941292302\">\n   <rect height=\"543.6\" width=\"558\" x=\"50.28125\" y=\"79.2\"/>\n  </clipPath>\n </defs>\n</svg>\n",
      "image/png": "[encoded data removed]"
     },
     "metadata": {
      "needs_background": "light"
     }
    }
   ],
   "source": [
    "fig = plt.figure(figsize=(10,10))\n",
    "ax = fig.add_subplot(111)\n",
    "ax.set_xlabel('x', fontsize=20)\n",
    "ax.set_ylabel('y', fontsize=20)\n",
    "fig.suptitle('Example Figure', fontsize=30)\n",
    "ax.plot([10, 5, 2, 5], color='red', label='line 1', linewidth=2)\n",
    "fig.savefig('example_fig.png')"
   ]
  }
 ]
}