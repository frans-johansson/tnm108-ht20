{
 "metadata": {
  "language_info": {
   "codemirror_mode": {
    "name": "ipython",
    "version": 3
   },
   "file_extension": ".py",
   "mimetype": "text/x-python",
   "name": "python",
   "nbconvert_exporter": "python",
   "pygments_lexer": "ipython3",
   "version": "3.8.2-final"
  },
  "orig_nbformat": 2,
  "kernelspec": {
   "name": "python38264bitc3d430713e174de6a5f6e6297641020f",
   "display_name": "Python 3.8.2 64-bit"
  }
 },
 "nbformat": 4,
 "nbformat_minor": 2,
 "cells": [
  {
   "cell_type": "markdown",
   "metadata": {},
   "source": [
    "# Preparing, manipulating and visualizing data in Python\n",
    "This notebook contains an introduction to using NumPy, Pandas and Matplotlib for machine learning purposes."
   ]
  },
  {
   "cell_type": "markdown",
   "metadata": {},
   "source": [
    "## Imports\n",
    "Let's begin by importing the external dependencies we need"
   ]
  },
  {
   "cell_type": "code",
   "execution_count": 1,
   "metadata": {},
   "outputs": [],
   "source": [
    "import time\n",
    "import numpy as np\n",
    "import pandas as pd"
   ]
  },
  {
   "cell_type": "markdown",
   "metadata": {},
   "source": [
    "## NumPy\n",
    "This module primarily concerns creating arrays of various dimensions and performing calculations and other operations on these in an effiecient manner. There is also a submodule for linear algebra algorithms and some simple statistical functions such mean, median and sum."
   ]
  },
  {
   "cell_type": "markdown",
   "metadata": {},
   "source": [
    "### Timing some functions\n",
    "We can create a simple decorator function, allowing us to measure the time of other functions to run by prepending them with `@timer` (which is really just syntactic sugar for calling our function like this: `timer(our_function)(our_function_args)`, every time)"
   ]
  },
  {
   "cell_type": "code",
   "execution_count": 2,
   "metadata": {},
   "outputs": [],
   "source": [
    "def timer(func):\n",
    "    def do_timing(*args, **kwargs):\n",
    "        start = time.time()\n",
    "        func_ret = func(*args, **kwargs)\n",
    "        end = time.time()\n",
    "        print(\"{} took {:.3f}s to run\".format(func.__name__, end-start))\n",
    "        return func_ret\n",
    "    return do_timing"
   ]
  },
  {
   "cell_type": "markdown",
   "metadata": {},
   "source": [
    "Using the timer decorator we just created, we can examine how efficient NumPy really is compared to vanilla Python."
   ]
  },
  {
   "cell_type": "code",
   "execution_count": 3,
   "metadata": {},
   "outputs": [],
   "source": [
    "@timer\n",
    "def sum_trad(upper):\n",
    "    X = range(upper)\n",
    "    Y = range(upper)\n",
    "    Z = []\n",
    "    for i in range(len(X)):\n",
    "        Z.append(X[i] + Y[i])\n",
    "\n",
    "@timer\n",
    "def sum_compr(upper):\n",
    "    X = range(upper)\n",
    "    Y = range(upper)\n",
    "    Z = [x + y for (x, y) in zip(X, Y)]\n",
    "\n",
    "@timer\n",
    "def sum_np(upper):\n",
    "    X = np.arange(upper)\n",
    "    Y = np.arange(upper)\n",
    "    Z = X + Y"
   ]
  },
  {
   "cell_type": "code",
   "execution_count": 29,
   "metadata": {
    "tags": []
   },
   "outputs": [
    {
     "output_type": "stream",
     "name": "stdout",
     "text": "sum_trad took 1.631s to run\nsum_compr took 0.592s to run\nsum_np took 0.048s to run\n"
    }
   ],
   "source": [
    "upper = 10000000\n",
    "sum_trad(upper)\n",
    "sum_compr(upper)\n",
    "sum_np(upper)"
   ]
  },
  {
   "cell_type": "markdown",
   "metadata": {},
   "source": [
    "### Creating arrays in NumPy\n",
    "Unlike Python lists, NumPy arrays have a specified type of elements they hold, i.e. while a Python list can happily store strings and numbers together, a NumPy array will not."
   ]
  },
  {
   "cell_type": "code",
   "execution_count": 5,
   "metadata": {
    "tags": []
   },
   "outputs": [
    {
     "output_type": "stream",
     "name": "stdout",
     "text": "[1. 2. 3. 4.]\n<class 'numpy.ndarray'>\n"
    }
   ],
   "source": [
    "arr = np.array([1, 2, 3, 4], float)\n",
    "\n",
    "print(arr)\n",
    "print(type(arr))"
   ]
  },
  {
   "cell_type": "markdown",
   "metadata": {},
   "source": [
    "These arrays can be quite simply transformed into normal lists."
   ]
  },
  {
   "cell_type": "code",
   "execution_count": 6,
   "metadata": {
    "tags": []
   },
   "outputs": [
    {
     "output_type": "stream",
     "name": "stdout",
     "text": "[1.0, 2.0, 3.0, 4.0]\n<class 'list'>\n"
    }
   ],
   "source": [
    "# arr_list = list(arr)\n",
    "arr_list = arr.tolist()\n",
    "\n",
    "print(arr_list)\n",
    "print(type(arr_list))"
   ]
  },
  {
   "cell_type": "markdown",
   "metadata": {},
   "source": [
    "Assigning lists between variables does not create new lists, but rather creates a new reference to the same object in memory."
   ]
  },
  {
   "cell_type": "code",
   "execution_count": 7,
   "metadata": {
    "tags": []
   },
   "outputs": [
    {
     "output_type": "stream",
     "name": "stdout",
     "text": "[0 2 3 4]\n[0 2 3 4]\n"
    }
   ],
   "source": [
    "arr1 = np.array([1, 2, 3, 4])\n",
    "arr2 = arr1\n",
    "\n",
    "arr2[0] = 0\n",
    "\n",
    "print(arr1)\n",
    "print(arr2)"
   ]
  },
  {
   "cell_type": "markdown",
   "metadata": {},
   "source": [
    "To create a new copy of an array, we have to use the `copy` method."
   ]
  },
  {
   "cell_type": "code",
   "execution_count": 8,
   "metadata": {
    "tags": []
   },
   "outputs": [
    {
     "output_type": "stream",
     "name": "stdout",
     "text": "[1 2 3 4]\n[0 2 3 4]\n"
    }
   ],
   "source": [
    "arr1 = np.array([1, 2, 3, 4])\n",
    "arr2 = arr1.copy()\n",
    "\n",
    "arr2[0] = 0\n",
    "\n",
    "print(arr1)\n",
    "print(arr2)"
   ]
  },
  {
   "cell_type": "markdown",
   "metadata": {},
   "source": [
    "The NumPy array also contains a few convenience functions allowing us to easily generate certain kinds of arrays and matrices. Some of these include:\n",
    "- Filling an array with one given value\n",
    "- Generating arrays with random data\n",
    "- Generating identity matrices\n",
    "- Generating arrays or matrices with all ones or all zeros\n",
    "- Combining arrays vertically to create a kind of row matrix"
   ]
  },
  {
   "cell_type": "code",
   "execution_count": 9,
   "metadata": {
    "tags": []
   },
   "outputs": [
    {
     "output_type": "stream",
     "name": "stdout",
     "text": "Filling an array with one given value\n[1. 1. 1. 1.]\n\nGenerating arrays with random data\n[3 0 1 2]\n[-0.61208123  0.37838094 -0.2240822   1.03692881]\n[0.21595169 0.0851869  0.99490586 0.90059817]\n\nGenerating identity matrices\n[[1. 0. 0. 0.]\n [0. 1. 0. 0.]\n [0. 0. 1. 0.]\n [0. 0. 0. 1.]]\n[[0. 1. 0. 0.]\n [0. 0. 1. 0.]\n [0. 0. 0. 1.]]\n\nGenerating arrays or matrices with all ones or all zeros\n[[0. 0. 0.]\n [0. 0. 0.]]\n[1. 1. 1. 1.]\n\nCombining arrays vertically to create a kind of row matrix\n[[1 2 3]\n [4 5 6]]\n"
    }
   ],
   "source": [
    "print(\"Filling an array with one given value\")\n",
    "arr = np.array([1, 2, 3, 4], float)\n",
    "arr.fill(1)\n",
    "print(arr)\n",
    "\n",
    "print(\"\\nGenerating arrays with random data\")\n",
    "print(np.random.permutation(4))\n",
    "print(np.random.normal(0, 1, 4))\n",
    "print(np.random.random(4))\n",
    "\n",
    "print(\"\\nGenerating identity matrices\")\n",
    "print(np.identity(4))\n",
    "print(np.eye(3, 4, 1))\n",
    "\n",
    "print(\"\\nGenerating arrays or matrices with all ones or all zeros\")\n",
    "print(np.zeros([2, 3]))\n",
    "print(np.ones(4))\n",
    "\n",
    "print(\"\\nCombining arrays vertically to create a kind of row matrix\")\n",
    "arr1 = np.array([1, 2, 3])\n",
    "arr2 = np.array([4, 5, 6])\n",
    "print(np.vstack([arr1, arr2]))"
   ]
  },
  {
   "cell_type": "markdown",
   "metadata": {},
   "source": [
    "### Manipulating arrays\n",
    "Getting to the core of data science (except not quite because we still haven't gotten to Pandas yet)\n",
    "\n",
    "Some noteworthy manipulations we can perform include:\n",
    "- Slicing\n",
    "- Sorting and arg sorting\n",
    "- Shuffling\n",
    "- Testing for equality"
   ]
  },
  {
   "cell_type": "code",
   "execution_count": 13,
   "metadata": {
    "tags": []
   },
   "outputs": [
    {
     "output_type": "stream",
     "name": "stdout",
     "text": "Slicing\n[1:3] [6. 5.]\n[1:] [6. 5. 6.]\n[:3] [2. 6. 5.]\n[:-1] [2. 6. 5.]\n[::-1] (step backwards from end to start) [6. 5. 6. 2.]\n\nSorting and arg sorting\nSort: [2. 5. 6. 6.]\nArg sort (indices that would sort the array): [0 2 1 3]\n\nShuffle\n[6. 6. 2. 5.]\n\nTesting for equality\narr == [1., 2., 3.]: False\n"
    }
   ],
   "source": [
    "arr = np.array([2., 6., 5., 6.])\n",
    "\n",
    "print(\"Slicing\")\n",
    "print(f\"[1:3] {arr[1:3]}\")\n",
    "print(f\"[1:] {arr[1:]}\")\n",
    "print(f\"[:3] {arr[:3]}\")\n",
    "print(f\"[:-1] {arr[:-1]}\")\n",
    "print(f\"[::-1] (step backwards from end to start) {arr[::-1]}\")\n",
    "\n",
    "print(\"\\nSorting and arg sorting\")\n",
    "print(f\"Sort: {np.sort(arr)}\")\n",
    "print(f\"Arg sort (indices that would sort the array): {np.argsort(arr)}\")\n",
    "\n",
    "print(\"\\nShuffle\")\n",
    "np.random.shuffle(arr)\n",
    "print(arr)\n",
    "\n",
    "print(\"\\nTesting for equality\")\n",
    "print(f\"arr == [1., 2., 3.]: {np.array_equal(arr, np.array([1., 2., 3.]))}\")"
   ]
  },
  {
   "cell_type": "markdown",
   "metadata": {},
   "source": [
    "### Matrices\n",
    "We can also create matrices by nesting several lists into one larger list when using `np.array()`. These are later indexed using two indices as follows: `matrix[row, col]`. We can also use slicing on matrices, using `:` to represent the entire row or column."
   ]
  },
  {
   "cell_type": "code",
   "execution_count": 28,
   "metadata": {
    "tags": []
   },
   "outputs": [
    {
     "output_type": "stream",
     "name": "stdout",
     "text": "Matrix:\n[[1 2 3 4]\n [5 6 7 8]]\n\nUse slice indexing to get an entire row or column: \n[1 2 3 4]\n\nFlatten a matrix back to a one-dimensional array:\n[1 2 3 4 5 6 7 8]\n"
    }
   ],
   "source": [
    "matrix = np.array([[1, 2, 3, 4], [5, 6, 7, 8]])\n",
    "print(\"Matrix:\")\n",
    "print(matrix)\n",
    "\n",
    "print(\"\\nUse slice indexing to get an entire row or column: \")\n",
    "print(matrix[0, :])\n",
    "\n",
    "print(\"\\nFlatten a matrix back to a one-dimensional array:\")\n",
    "print(matrix.flatten())"
   ]
  },
  {
   "cell_type": "markdown",
   "metadata": {},
   "source": [
    "Some useful operations on matrices (and also arrays) include:\n",
    "- Getting the shape\n",
    "- Reshaping\n",
    "- Getting the traspose\n",
    "- Concatenation"
   ]
  },
  {
   "cell_type": "code",
   "execution_count": 56,
   "metadata": {
    "tags": []
   },
   "outputs": [
    {
     "output_type": "stream",
     "name": "stdout",
     "text": "Shape of the matrix: (2, 3)\n\nReshaping a matrix\n[[1]\n [2]\n [3]\n [4]\n [5]\n [6]]\n\nGetting the transpose\n[[1 4]\n [2 5]\n [3 6]]\n\nConcatenating matrices (this works for arrays as well)\n[[11 12]\n [13 14]\n [21 22]\n [23 24]]\n[[11 12 21 22]\n [13 14 23 24]]\n"
    }
   ],
   "source": [
    "matrix = np.array([[1, 2, 3], [4, 5, 6]])\n",
    "\n",
    "print(f\"Shape of the matrix: {matrix.shape}\")\n",
    "\n",
    "print(\"\\nReshaping a matrix\")\n",
    "print(matrix.reshape((6,1)))\n",
    "\n",
    "print(\"\\nGetting the transpose\")\n",
    "print(matrix.transpose())\n",
    "\n",
    "print(\"\\nConcatenating matrices (this works for arrays as well)\")\n",
    "\n",
    "arr1 = np.array([[11, 12], [13, 14]])\n",
    "arr2 = np.array([[21, 22], [23, 24]])\n",
    "\n",
    "print(np.concatenate((arr1, arr2), axis=0))\n",
    "print(np.concatenate((arr1, arr2), axis=1))"
   ]
  },
  {
   "cell_type": "markdown",
   "metadata": {},
   "source": [
    "### Arithmetic operations on NumPy arrays\n",
    "Common operations such as addition, subtraction, multiplication and division are all supported on an **element-wise** manner with NumPy arrays. This means adding two arrays will yeild a new array with the sum of each element from the two original arrays:\n",
    "\n",
    "`[1, 2, 3] + [4, 5, 6] = [5, 7, 9]`\n",
    "\n",
    "**Note:** this applies to matrices as well, which means matrix multiplication will not work simply by multiplying two matrices.\n",
    "\n",
    "If the arrays are not the same size, the smaller one can be *\"broadcasted\"* onto the larger one. This essentially means the smaller one is replicated to fill the size of the larger one. The axis of this replication can be explicitly stated using slices and `np.newaxis`"
   ]
  },
  {
   "cell_type": "code",
   "execution_count": 61,
   "metadata": {
    "tags": []
   },
   "outputs": [
    {
     "output_type": "stream",
     "name": "stdout",
     "text": "Broadcasting example\n"
    },
    {
     "output_type": "execute_result",
     "data": {
      "text/plain": "array([[11, 13],\n       [13, 15],\n       [15, 17],\n       [17, 19]])"
     },
     "metadata": {},
     "execution_count": 61
    }
   ],
   "source": [
    "print(\"Broadcasting example\")\n",
    "arr1 = np.array([[1, 2], [3, 4], [5, 6], [7, 8]])\n",
    "arr2 = np.array([10, 11])\n",
    "\n",
    "print(arr1 + arr2)"
   ]
  },
  {
   "cell_type": "markdown",
   "metadata": {},
   "source": [
    "### Boolean masking and indexing\n",
    "NumPy arrays can be indexed by boolean masks: arrays with `True` or `False` determining which elements to pick and which to ignore. We can use this to \"query\" our arrays. We can compose queries of several boolean expressions using functions like `np.logical_and`\n",
    "\n",
    "We can also index into arrays using lists or arrays of integer indices. Like the following snippet: `arr[[1, 0, 0, 2, 1]]` which would return a new array with the 2nd, 1st, 1st, 3rd and 2nd element from `arr`."
   ]
  },
  {
   "cell_type": "code",
   "execution_count": 67,
   "metadata": {
    "tags": []
   },
   "outputs": [
    {
     "output_type": "stream",
     "name": "stdout",
     "text": "Example of creating a mask by querying\n[[False False]\n [ True  True]]\n\nThe mask can then be used to index the array\n[3 4]\n\nCreating a mask with several queries\n[[False False]\n [ True False]]\n"
    }
   ],
   "source": [
    "matrix = np.array([[1, 2], [3, 4]])\n",
    "\n",
    "print(\"Example of creating a mask by querying\")\n",
    "print(matrix > 2)\n",
    "\n",
    "print(\"\\nThe mask can then be used to index the array\")\n",
    "print(matrix[matrix > 2])\n",
    "\n",
    "print(\"\\nCreating a mask with several queries\")\n",
    "print(np.logical_and(matrix > 2, matrix < 4))"
   ]
  },
  {
   "cell_type": "markdown",
   "metadata": {},
   "source": [
    "Two more useful functions to keep in mind here are `take` and `put`, which allow us to index into arrays and modify content at specific indices of an array respectively. Notice that `put` will essentially broadcast the inserted array as the number of indices increase. Try replacing the list of indices with something like `range(len(arr1))` and see what happens!"
   ]
  },
  {
   "cell_type": "code",
   "execution_count": 79,
   "metadata": {
    "tags": []
   },
   "outputs": [
    {
     "output_type": "stream",
     "name": "stdout",
     "text": "Example of take\n[1 1 2 3]\n\nExample of put\n[10  2 20  4 30]\n"
    }
   ],
   "source": [
    "arr1 = np.array([1, 2, 3, 4, 5])\n",
    "arr2 = np.array([10, 20, 30])\n",
    "\n",
    "print(\"Example of take\")\n",
    "print(arr1.take([0, 0, 1, 2]))\n",
    "\n",
    "print(\"\\nExample of put\")\n",
    "arr1.put([0, 2, 4], arr2)\n",
    "print(arr1)"
   ]
  },
  {
   "cell_type": "markdown",
   "metadata": {},
   "source": [
    "### Linear algebra operations\n",
    "We've already seen the transpose in action, but NumPy actually supports even more linear algebra operations (thankfully, this means we don't have to implement them ourselves). Some of these include:\n",
    "- Dot products\n",
    "- Inner and outer products\n",
    "- Cross products\n",
    "\n",
    "In the submodule `linalg` to NumPy we find even more goodies:\n",
    "- Determinants\n",
    "- Inverse matrices\n",
    "- Eigenvalues and eigenvectors"
   ]
  },
  {
   "cell_type": "code",
   "execution_count": 107,
   "metadata": {
    "tags": []
   },
   "outputs": [
    {
     "output_type": "stream",
     "name": "stdout",
     "text": "Example using dot product with the transpose\n[[  5  14  23]\n [ 14  50  86]\n [ 23  86 149]]\n\nSome vector operations\nInner product: 20\nDot product: 20\nOuter product:\n[[ 2  3  4]\n [ 4  6  8]\n [ 6  9 12]]\nCross product:\n[-1  2 -1]\n\nSome functions from the linalg module\nDeterminant: -2852.000000000003\nInverse matrix:\n[[ 0.00070126  0.01542777 -0.02244039]\n [ 0.26192146 -0.23772791  0.11851332]\n [-0.48141655  0.4088359  -0.09467041]]\nEigenvalues: [107.99587441  11.33411853  -2.32999294]\nEigenvectors:\n[[-0.57891525 -0.21517959  0.06319955]\n [-0.75804695  0.17632618 -0.58635713]\n [-0.30036971  0.96052424  0.80758352]]\n"
    }
   ],
   "source": [
    "X = np.arange(9).reshape((3, 3))\n",
    "\n",
    "print(\"Example using dot product with the transpose\")\n",
    "print(np.dot(X, X.T))\n",
    "\n",
    "print(\"\\nSome vector operations\")\n",
    "vec1 = np.array([1, 2, 3])\n",
    "vec2 = np.array([2, 3, 4])\n",
    "\n",
    "print(f\"Inner product: {np.inner(vec1, vec2)}\")\n",
    "print(f\"Dot product: {np.dot(vec1, vec2)}\")\n",
    "print(\"Outer product:\")\n",
    "print(np.outer(vec1, vec2))\n",
    "print(\"Cross product:\")\n",
    "print(np.cross(vec1, vec2))\n",
    "\n",
    "print(\"\\nSome functions from the linalg module\")\n",
    "Y = np.array([[74, 22, 10], [92, 31, 17], [21, 22, 12]], float)\n",
    "\n",
    "print(f\"Determinant: {np.linalg.det(Y)}\")\n",
    "print(\"Inverse matrix:\")\n",
    "print(np.linalg.inv(Y))\n",
    "\n",
    "vals, vecs = np.linalg.eig(Y)\n",
    "print(f\"Eigenvalues: {vals}\")\n",
    "print(\"Eigenvectors:\")\n",
    "print(vecs)\n"
   ]
  },
  {
   "cell_type": "markdown",
   "metadata": {},
   "source": [
    "### Statistics\n",
    "NumPy also provides us with a few convenient mathematical functions useful for statistics such as the mean, median and sum of an array."
   ]
  },
  {
   "cell_type": "code",
   "execution_count": 119,
   "metadata": {
    "tags": []
   },
   "outputs": [
    {
     "output_type": "stream",
     "name": "stdout",
     "text": "Sum: 15.485175087972028\nMean: 0.48391172149912587\nMedian: 0.5110197995161547\nMax: 0.9665984052061142\nArgmax (index): 11\nMin: 0.01620373415308829\nArgmin (index): 20\n"
    }
   ],
   "source": [
    "arr = np.random.rand(8, 4)\n",
    "\n",
    "print(f\"Sum: {np.sum(arr)}\")\n",
    "print(f\"Mean: {np.mean(arr)}\")\n",
    "print(f\"Median: {np.median(arr)}\")\n",
    "print(f\"Max: {np.max(arr)}\")\n",
    "print(f\"Argmax (index): {np.argmax(arr)}\")\n",
    "print(f\"Min: {np.min(arr)}\")\n",
    "print(f\"Argmin (index): {np.argmin(arr)}\")"
   ]
  },
  {
   "cell_type": "markdown",
   "metadata": {},
   "source": [
    "## Pandas\n",
    "Building on the NumPy library, Pandas gives us a more high level approach to manipulating data in the form of the `DataFrame`. This datastructure behaves quite a bit like your typical spreadsheet, containing rows of data with fields represented as columns. Pandas let's us create, import, export, manipulate and perform calculations on these DataFrames with ease."
   ]
  },
  {
   "cell_type": "code",
   "execution_count": null,
   "metadata": {},
   "outputs": [],
   "source": []
  }
 ]
}