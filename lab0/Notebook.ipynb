{
 "metadata": {
  "language_info": {
   "codemirror_mode": {
    "name": "ipython",
    "version": 3
   },
   "file_extension": ".py",
   "mimetype": "text/x-python",
   "name": "python",
   "nbconvert_exporter": "python",
   "pygments_lexer": "ipython3",
   "version": "3.6.9-final"
  },
  "orig_nbformat": 2,
  "kernelspec": {
   "name": "python_defaultSpec_1598985314373",
   "display_name": "Python 3.6.9 64-bit"
  }
 },
 "nbformat": 4,
 "nbformat_minor": 2,
 "cells": [
  {
   "cell_type": "markdown",
   "metadata": {},
   "source": [
    "# Preparing, manipulating and visualizing data in Python\n",
    "This notebook contains an introduction to using NumPy, Pandas and Matplotlib for machine learning purposes."
   ]
  },
  {
   "cell_type": "markdown",
   "metadata": {},
   "source": [
    "## Imports\n",
    "Let's begin by importing the external dependencies we need"
   ]
  },
  {
   "cell_type": "code",
   "execution_count": 1,
   "metadata": {},
   "outputs": [],
   "source": [
    "import time\n",
    "import numpy as np\n",
    "import pandas as pd"
   ]
  },
  {
   "cell_type": "markdown",
   "metadata": {},
   "source": [
    "## Timing some functions\n",
    "We can create a simple decorator function, allowing us to measure the time of other functions to run by prepending them with `@timer` (which is really just syntactic sugar for calling our function like this: `timer(our_function)(our_function_args)`, every time)"
   ]
  },
  {
   "cell_type": "code",
   "execution_count": 6,
   "metadata": {},
   "outputs": [],
   "source": [
    "def timer(func):\n",
    "    def do_timing(*args, **kwargs):\n",
    "        start = time.time()\n",
    "        func_ret = func(*args, **kwargs)\n",
    "        end = time.time()\n",
    "        print(\"{} took {:.3f}s to run\".format(func.__name__, end-start))\n",
    "        return func_ret\n",
    "    return do_timing"
   ]
  },
  {
   "cell_type": "markdown",
   "metadata": {},
   "source": [
    "Using the timer decorator we just created, we can examine how efficient NumPy really is compared to vanilla Python."
   ]
  },
  {
   "cell_type": "code",
   "execution_count": 7,
   "metadata": {},
   "outputs": [],
   "source": [
    "@timer\n",
    "def sum_trad(upper):\n",
    "    X = range(upper)\n",
    "    Y = range(upper)\n",
    "    Z = []\n",
    "    for i in range(len(X)):\n",
    "        Z.append(X[i] + Y[i])\n",
    "\n",
    "@timer\n",
    "def sum_np(upper):\n",
    "    X = np.arange(upper)\n",
    "    Y = np.arange(upper)\n",
    "    Z = X + Y"
   ]
  },
  {
   "cell_type": "code",
   "execution_count": 8,
   "metadata": {
    "tags": []
   },
   "outputs": [
    {
     "output_type": "stream",
     "name": "stdout",
     "text": "sum_trad took 2.353s to run\nsum_np took 0.214s to run\n"
    }
   ],
   "source": [
    "sum_trad(10000000)\n",
    "sum_np(10000000)"
   ]
  },
  {
   "cell_type": "markdown",
   "metadata": {},
   "source": [
    "## Creating arrays in NumPy\n",
    "Unlike Python lists, NumPy arrays have a specified type of elements they hold, i.e. while a Python list can happily store strings and numbers together, a NumPy array will not."
   ]
  },
  {
   "cell_type": "code",
   "execution_count": 9,
   "metadata": {
    "tags": []
   },
   "outputs": [
    {
     "output_type": "stream",
     "name": "stdout",
     "text": "[1. 2. 3. 4.]\n<class 'numpy.ndarray'>\n"
    }
   ],
   "source": [
    "arr = np.array([1, 2, 3, 4], float)\n",
    "\n",
    "print(arr)\n",
    "print(type(arr))"
   ]
  },
  {
   "cell_type": "markdown",
   "metadata": {},
   "source": [
    "These arrays can be quite simply transformed into normal lists."
   ]
  },
  {
   "cell_type": "code",
   "execution_count": 10,
   "metadata": {
    "tags": []
   },
   "outputs": [
    {
     "output_type": "stream",
     "name": "stdout",
     "text": "[1.0, 2.0, 3.0, 4.0]\n<class 'list'>\n"
    }
   ],
   "source": [
    "# arr_list = list(arr)\n",
    "arr_list = arr.tolist()\n",
    "\n",
    "print(arr_list)\n",
    "print(type(arr_list))"
   ]
  },
  {
   "cell_type": "markdown",
   "metadata": {},
   "source": [
    "Assigning lists between variables does not create new lists, but rather creates a new reference to the same object in memory."
   ]
  },
  {
   "cell_type": "code",
   "execution_count": 11,
   "metadata": {
    "tags": []
   },
   "outputs": [
    {
     "output_type": "stream",
     "name": "stdout",
     "text": "[0 2 3 4]\n[0 2 3 4]\n"
    }
   ],
   "source": [
    "arr1 = np.array([1, 2, 3, 4])\n",
    "arr2 = arr1\n",
    "\n",
    "arr2[0] = 0\n",
    "\n",
    "print(arr1)\n",
    "print(arr2)"
   ]
  },
  {
   "cell_type": "markdown",
   "metadata": {},
   "source": [
    "To create a new copy of an array, we have to use the `copy` method."
   ]
  },
  {
   "cell_type": "code",
   "execution_count": 12,
   "metadata": {
    "tags": []
   },
   "outputs": [
    {
     "output_type": "stream",
     "name": "stdout",
     "text": "[1 2 3 4]\n[0 2 3 4]\n"
    }
   ],
   "source": [
    "arr1 = np.array([1, 2, 3, 4])\n",
    "arr2 = arr1.copy()\n",
    "\n",
    "arr2[0] = 0\n",
    "\n",
    "print(arr1)\n",
    "print(arr2)"
   ]
  },
  {
   "cell_type": "markdown",
   "metadata": {},
   "source": [
    "The NumPy array also contains a few convenience functions allowing us to easily generate certain kinds of arrays and matrices. Some of these include:\n",
    "- Filling an array with one given value\n",
    "- Generating arrays with random data\n",
    "- Generating identity matrices\n",
    "- Generating arrays or matrices with all ones or all zeros\n",
    "- Combining arrays vertically to create a kind of row matrix"
   ]
  },
  {
   "cell_type": "code",
   "execution_count": 33,
   "metadata": {
    "tags": []
   },
   "outputs": [
    {
     "output_type": "stream",
     "name": "stdout",
     "text": "Filling an array with one given value\n[1. 1. 1. 1.]\n\nGenerating arrays with random data\n[3 1 0 2]\n[-0.54653171 -0.98103995 -0.06623798 -0.08488481]\n[0.10915467 0.52770116 0.83043229 0.38037727]\n\nGenerating identity matrices\n[[1. 0. 0. 0.]\n [0. 1. 0. 0.]\n [0. 0. 1. 0.]\n [0. 0. 0. 1.]]\n[[0. 1. 0. 0.]\n [0. 0. 1. 0.]\n [0. 0. 0. 1.]]\n\nGenerating arrays or matrices with all ones or all zeros\n[[0. 0. 0.]\n [0. 0. 0.]]\n[1. 1. 1. 1.]\n\nCombining arrays vertically to create a kind of row matrix\n[[1 2 3]\n [4 5 6]]\n"
    }
   ],
   "source": [
    "print(\"Filling an array with one given value\")\n",
    "arr = np.array([1, 2, 3, 4], float)\n",
    "arr.fill(1)\n",
    "print(arr)\n",
    "\n",
    "print(\"\\nGenerating arrays with random data\")\n",
    "print(np.random.permutation(4))\n",
    "print(np.random.normal(0, 1, 4))\n",
    "print(np.random.random(4))\n",
    "\n",
    "print(\"\\nGenerating identity matrices\")\n",
    "print(np.identity(4))\n",
    "print(np.eye(3, 4, 1))\n",
    "\n",
    "print(\"\\nGenerating arrays or matrices with all ones or all zeros\")\n",
    "print(np.zeros([2, 3]))\n",
    "print(np.ones(4))\n",
    "\n",
    "print(\"\\nCombining arrays vertically to create a kind of row matrix\")\n",
    "arr1 = np.array([1, 2, 3])\n",
    "arr2 = np.array([4, 5, 6])\n",
    "print(np.vstack([arr1, arr2]))"
   ]
  },
  {
   "cell_type": "markdown",
   "metadata": {},
   "source": [
    "## Manipulating arrays\n",
    "Getting to the core of data science (except not quite because we still haven't gotten to Pandas yet)"
   ]
  },
  {
   "cell_type": "code",
   "execution_count": null,
   "metadata": {},
   "outputs": [],
   "source": []
  }
 ]
}